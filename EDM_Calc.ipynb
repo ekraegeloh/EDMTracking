{
 "cells": [
  {
   "cell_type": "markdown",
   "metadata": {},
   "source": [
    "# Predict the observed amplitude, A, of $\\theta_y$ in simulation."
   ]
  },
  {
   "cell_type": "markdown",
   "metadata": {},
   "source": [
    "Define constants"
   ]
  },
  {
   "cell_type": "code",
   "execution_count": 1,
   "metadata": {},
   "outputs": [],
   "source": [
    "from math import sqrt, radians, atan2, tan, degrees\n",
    "from IPython.display import Latex\n",
    "# Physics\n",
    "c_light=299792458. # m/s \n",
    "mMuon = 105.6583745 # MeV \n",
    "aMuon= 11659208.9e-10  \n",
    "h_bar= 1.054571817e-34 # J/s\n",
    "\n",
    "#Simulation pars (input and measured)\n",
    "eMuon = 5.4e-18 # e.cm (30xBNL_limit)\n",
    "measured_A=0.19 # mrad // from simulation \n",
    "measured_A_e=0.02 # mrad // from simulation"
   ]
  },
  {
   "cell_type": "markdown",
   "metadata": {},
   "source": [
    " $\\eta = \\frac{4d_{\\mu}m_{\\mu}c}{e\\hbar}$\n",
    "the natural units to SI conversion from GM2Constants\n",
    "https://cdcvs.fnal.gov/redmine/projects/gm2geom/repository/revisions/develop/entry/common/Gm2Constants_service.cc#L517"
   ]
  },
  {
   "cell_type": "code",
   "execution_count": 2,
   "metadata": {},
   "outputs": [
    {
     "data": {
      "text/latex": [
       "$\\eta$=0.00011613289"
      ],
      "text/plain": [
       "<IPython.core.display.Latex object>"
      ]
     },
     "execution_count": 2,
     "metadata": {},
     "output_type": "execute_result"
    }
   ],
   "source": [
    "eta=((4*mMuon*1.79e-30*c_light*eMuon)/ (h_bar * 100) ) # no units \n",
    "Latex(\"$\\eta$={0:.11f}\".format(eta))"
   ]
  },
  {
   "cell_type": "markdown",
   "metadata": {},
   "source": [
    "Get the magic $\\beta$ for muons in the ring:"
   ]
  },
  {
   "cell_type": "code",
   "execution_count": 3,
   "metadata": {},
   "outputs": [
    {
     "data": {
      "text/latex": [
       "β=0.99942"
      ],
      "text/plain": [
       "<IPython.core.display.Latex object>"
      ]
     },
     "execution_count": 3,
     "metadata": {},
     "output_type": "execute_result"
    }
   ],
   "source": [
    "# https://cdcvs.fnal.gov/redmine/projects/gm2geom/repository/revisions/develop/entry/common/Gm2Constants_service.cc\n",
    "betaGammaMagicSquared = (1.0 / aMuon)\n",
    "# print(\"betaGammaMagicSquared\", betaGammaMagicSquared)\n",
    "gammaMagicSquared = (1.0 + betaGammaMagicSquared)\n",
    "# print(\"gammaMagicSquared\", gammaMagicSquared)\n",
    "gammaMagic=sqrt(gammaMagicSquared)\n",
    "# print(\"gammaMagic\", gammaMagic)\n",
    "\n",
    "# set gamma to gammaMagic\n",
    "gamma = gammaMagic\n",
    "gamma_2 = gamma**2\n",
    "\n",
    "beta= sqrt( 1.0- (1.0/gamma_2) )\n",
    "Latex(\"β\"+\"={0:.5f}\".format(beta))"
   ]
  },
  {
   "cell_type": "markdown",
   "metadata": {},
   "source": [
    "The angle in the muon rest frame (MRF) is $\\delta = \\tan^{-1}(\\frac{\\eta\\beta}{2a_{\\mu}}) $"
   ]
  },
  {
   "cell_type": "code",
   "execution_count": 4,
   "metadata": {},
   "outputs": [
    {
     "data": {
      "text/latex": [
       "$\\delta$=0.049733 [rad] =2.849 [deg]"
      ],
      "text/plain": [
       "<IPython.core.display.Latex object>"
      ]
     },
     "execution_count": 4,
     "metadata": {},
     "output_type": "execute_result"
    }
   ],
   "source": [
    "delta = atan2( (eta * beta) , (2 * aMuon) )  # rad \n",
    "Latex(\"$\\delta$\"+\"={:.6f} [rad]\".format(delta)+\" ={:.3f} [deg]\".format(degrees(delta)) )"
   ]
  },
  {
   "cell_type": "markdown",
   "metadata": {},
   "source": [
    "The observed $\\delta$ in the lab frame (LF) is $\\delta ' = \\tan^{-1}(\\frac{tan(\\delta)}{\\gamma}) =  \\tan^{-1}( \\frac{\\eta\\beta}{2a_{mu}\\gamma} )$"
   ]
  },
  {
   "cell_type": "code",
   "execution_count": 5,
   "metadata": {},
   "outputs": [
    {
     "data": {
      "text/latex": [
       "$\\delta'$=1.699 [mrad]"
      ],
      "text/plain": [
       "<IPython.core.display.Latex object>"
      ]
     },
     "execution_count": 5,
     "metadata": {},
     "output_type": "execute_result"
    }
   ],
   "source": [
    "delta_obs = atan2( (eta*beta),(2*aMuon*gamma) )\n",
    "delta_obs_mrad = delta_obs*1e3\n",
    "Latex(\"$\\delta'$\"+\"={0:.3f} [mrad]\".format(delta_obs_mrad))"
   ]
  },
  {
   "cell_type": "markdown",
   "metadata": {},
   "source": [
    "The recorded $A=0.9\\delta '$ due to the tracker acceptance"
   ]
  },
  {
   "cell_type": "code",
   "execution_count": 6,
   "metadata": {},
   "outputs": [
    {
     "name": "stdout",
     "output_type": "stream",
     "text": [
      "Expected A=1.529 [mrad]\n",
      "Observed A=0.190 ± 0.020 [mrad]\n"
     ]
    }
   ],
   "source": [
    "A=0.9*delta_obs_mrad\n",
    "print(\"Expected A={0:.3f} [mrad]\".format(A))\n",
    "print(\"Observed A={0:.3f} ± {1:.3f} [mrad]\".format(measured_A, measured_A_e))"
   ]
  },
  {
   "cell_type": "markdown",
   "metadata": {},
   "source": [
    "Sosong (p.106): \"...each milliradian of precession plane tilt corresponds to $1.092 \\times 10^{-19} e\\cdot$cm...\""
   ]
  },
  {
   "cell_type": "code",
   "execution_count": 8,
   "metadata": {},
   "outputs": [
    {
     "name": "stdout",
     "output_type": "stream",
     "text": [
      "Based on Sosong, δ=0.020222 [mrad] and A= 0.0182 mrad\n"
     ]
    }
   ],
   "source": [
    "d_Sosong = 1.092e-19 # e.cm\n",
    "delta_Sosong=d_Sosong/eMuon\n",
    "print(\"Based on Sosong, δ={:4f}\".format(delta_Sosong), \"[mrad]\", \"and A=\", delta_Sosong*0.9, \"mrad\" )"
   ]
  }
 ],
 "metadata": {
  "kernelspec": {
   "display_name": "Python 3",
   "language": "python",
   "name": "python3"
  },
  "language_info": {
   "codemirror_mode": {
    "name": "ipython",
    "version": 3
   },
   "file_extension": ".py",
   "mimetype": "text/x-python",
   "name": "python",
   "nbconvert_exporter": "python",
   "pygments_lexer": "ipython3",
   "version": "3.7.4"
  }
 },
 "nbformat": 4,
 "nbformat_minor": 4
}
