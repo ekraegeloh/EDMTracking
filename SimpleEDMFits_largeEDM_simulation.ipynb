{
 "cells": [
  {
   "cell_type": "code",
   "execution_count": 1,
   "metadata": {},
   "outputs": [],
   "source": [
    "import os, sys\n",
    "sys.path.append('CommonUtils/')\n",
    "import CommonUtils as cu\n",
    "from IPython.display import Latex\n",
    "\n",
    "import argparse, math\n",
    "from scipy import stats\n",
    "import numpy as np\n",
    "import seaborn as sns\n",
    "import matplotlib.pyplot as plt\n",
    "import pandas as pd\n",
    "from pandas import Series, DataFrame\n",
    "from scipy import optimize"
   ]
  },
  {
   "cell_type": "code",
   "execution_count": 2,
   "metadata": {},
   "outputs": [],
   "source": [
    "df_data=pd.read_csv(\"DATA/misc/df_binned.csv\")\n",
    "df_info=pd.read_csv(\"DATA/misc/df_info.csv\")"
   ]
  },
  {
   "cell_type": "code",
   "execution_count": 3,
   "metadata": {},
   "outputs": [],
   "source": [
    "# add to common utils \n",
    "from IPython.display import display_html\n",
    "def display_side_by_side(*args):\n",
    "    html_str=''\n",
    "    for df in args:\n",
    "        html_str+=df.to_html()\n",
    "    display_html(html_str.replace('table','table style=\"display:inline\"'),raw=True)"
   ]
  },
  {
   "cell_type": "code",
   "execution_count": 4,
   "metadata": {},
   "outputs": [
    {
     "data": {
      "text/html": [
       "<table style=\"display:inline\" border=\"1\" class=\"dataframe\">\n",
       "  <thead>\n",
       "    <tr style=\"text-align: right;\">\n",
       "      <th></th>\n",
       "      <th>Unnamed: 0</th>\n",
       "      <th>index</th>\n",
       "      <th>bincenters</th>\n",
       "      <th>ymean</th>\n",
       "      <th>xerr</th>\n",
       "      <th>yerr</th>\n",
       "    </tr>\n",
       "  </thead>\n",
       "  <tbody>\n",
       "    <tr>\n",
       "      <th>0</th>\n",
       "      <td>0</td>\n",
       "      <td>1</td>\n",
       "      <td>0.152301</td>\n",
       "      <td>0.021406</td>\n",
       "      <td>0.145026</td>\n",
       "      <td>0.052528</td>\n",
       "    </tr>\n",
       "    <tr>\n",
       "      <th>1</th>\n",
       "      <td>1</td>\n",
       "      <td>2</td>\n",
       "      <td>0.442353</td>\n",
       "      <td>0.099150</td>\n",
       "      <td>0.145026</td>\n",
       "      <td>0.048644</td>\n",
       "    </tr>\n",
       "    <tr>\n",
       "      <th>2</th>\n",
       "      <td>2</td>\n",
       "      <td>3</td>\n",
       "      <td>0.732404</td>\n",
       "      <td>0.091675</td>\n",
       "      <td>0.145026</td>\n",
       "      <td>0.044906</td>\n",
       "    </tr>\n",
       "    <tr>\n",
       "      <th>3</th>\n",
       "      <td>3</td>\n",
       "      <td>4</td>\n",
       "      <td>1.022456</td>\n",
       "      <td>0.146910</td>\n",
       "      <td>0.145026</td>\n",
       "      <td>0.041231</td>\n",
       "    </tr>\n",
       "    <tr>\n",
       "      <th>4</th>\n",
       "      <td>4</td>\n",
       "      <td>5</td>\n",
       "      <td>1.312507</td>\n",
       "      <td>0.146313</td>\n",
       "      <td>0.145026</td>\n",
       "      <td>0.038267</td>\n",
       "    </tr>\n",
       "    <tr>\n",
       "      <th>5</th>\n",
       "      <td>5</td>\n",
       "      <td>6</td>\n",
       "      <td>1.602559</td>\n",
       "      <td>0.196660</td>\n",
       "      <td>0.145026</td>\n",
       "      <td>0.036514</td>\n",
       "    </tr>\n",
       "    <tr>\n",
       "      <th>6</th>\n",
       "      <td>6</td>\n",
       "      <td>7</td>\n",
       "      <td>1.892610</td>\n",
       "      <td>0.146808</td>\n",
       "      <td>0.145026</td>\n",
       "      <td>0.035389</td>\n",
       "    </tr>\n",
       "    <tr>\n",
       "      <th>7</th>\n",
       "      <td>7</td>\n",
       "      <td>8</td>\n",
       "      <td>2.182661</td>\n",
       "      <td>-0.001507</td>\n",
       "      <td>0.145026</td>\n",
       "      <td>0.034855</td>\n",
       "    </tr>\n",
       "    <tr>\n",
       "      <th>8</th>\n",
       "      <td>8</td>\n",
       "      <td>9</td>\n",
       "      <td>2.472713</td>\n",
       "      <td>-0.012411</td>\n",
       "      <td>0.145026</td>\n",
       "      <td>0.035705</td>\n",
       "    </tr>\n",
       "    <tr>\n",
       "      <th>9</th>\n",
       "      <td>9</td>\n",
       "      <td>10</td>\n",
       "      <td>2.762764</td>\n",
       "      <td>-0.069989</td>\n",
       "      <td>0.145026</td>\n",
       "      <td>0.037371</td>\n",
       "    </tr>\n",
       "    <tr>\n",
       "      <th>10</th>\n",
       "      <td>10</td>\n",
       "      <td>11</td>\n",
       "      <td>3.052816</td>\n",
       "      <td>-0.127981</td>\n",
       "      <td>0.145026</td>\n",
       "      <td>0.040173</td>\n",
       "    </tr>\n",
       "    <tr>\n",
       "      <th>11</th>\n",
       "      <td>11</td>\n",
       "      <td>12</td>\n",
       "      <td>3.342867</td>\n",
       "      <td>-0.042939</td>\n",
       "      <td>0.145026</td>\n",
       "      <td>0.043796</td>\n",
       "    </tr>\n",
       "    <tr>\n",
       "      <th>12</th>\n",
       "      <td>12</td>\n",
       "      <td>13</td>\n",
       "      <td>3.632919</td>\n",
       "      <td>-0.071482</td>\n",
       "      <td>0.145026</td>\n",
       "      <td>0.048010</td>\n",
       "    </tr>\n",
       "    <tr>\n",
       "      <th>13</th>\n",
       "      <td>13</td>\n",
       "      <td>14</td>\n",
       "      <td>3.922970</td>\n",
       "      <td>-0.118228</td>\n",
       "      <td>0.145026</td>\n",
       "      <td>0.052048</td>\n",
       "    </tr>\n",
       "    <tr>\n",
       "      <th>14</th>\n",
       "      <td>14</td>\n",
       "      <td>15</td>\n",
       "      <td>4.213022</td>\n",
       "      <td>-0.098066</td>\n",
       "      <td>0.145026</td>\n",
       "      <td>0.054733</td>\n",
       "    </tr>\n",
       "  </tbody>\n",
       "</table style=\"display:inline\"><table style=\"display:inline\" border=\"1\" class=\"dataframe\">\n",
       "  <thead>\n",
       "    <tr style=\"text-align: right;\">\n",
       "      <th></th>\n",
       "      <th>Unnamed: 0</th>\n",
       "      <th>edm_setting</th>\n",
       "      <th>data_type</th>\n",
       "      <th>Q_cut</th>\n",
       "      <th>time_cut</th>\n",
       "      <th>p_cut</th>\n",
       "      <th>x_label</th>\n",
       "      <th>y_label</th>\n",
       "      <th>N</th>\n",
       "    </tr>\n",
       "  </thead>\n",
       "  <tbody>\n",
       "    <tr>\n",
       "      <th>0</th>\n",
       "      <td>0</td>\n",
       "      <td>$d_{\\mu} = 5.4\\times10^{-18} \\ e\\cdot{\\mathrm{cm}}$</td>\n",
       "      <td>VertexExt</td>\n",
       "      <td>AllStationsNoTQ</td>\n",
       "      <td>t&gt;0 $\\mathrm{\\mu}$s</td>\n",
       "      <td>1800&lt;p&lt;3600 MeV</td>\n",
       "      <td>$t^{mod}_{g-2} \\ \\mathrm{[\\mu}$s]</td>\n",
       "      <td>$\\langle\\theta_y\\rangle$ [mrad]</td>\n",
       "      <td>1146916</td>\n",
       "    </tr>\n",
       "  </tbody>\n",
       "</table style=\"display:inline\">"
      ]
     },
     "metadata": {},
     "output_type": "display_data"
    }
   ],
   "source": [
    "display_side_by_side(df_data, df_info)"
   ]
  },
  {
   "cell_type": "code",
   "execution_count": 5,
   "metadata": {},
   "outputs": [],
   "source": [
    "x=df_data['bincenters']\n",
    "y=df_data['ymean']\n",
    "x_err=df_data['xerr']\n",
    "y_err=df_data['yerr']"
   ]
  },
  {
   "cell_type": "markdown",
   "metadata": {},
   "source": [
    "#### Define $y(t) = A\\sin(bt)+c$"
   ]
  },
  {
   "cell_type": "code",
   "execution_count": 6,
   "metadata": {},
   "outputs": [
    {
     "name": "stdout",
     "output_type": "stream",
     "text": [
      "Params: [0.13913029 1.33542622 0.01909855]\n",
      "Errors: [0.01581103 0.05614747 0.01270872]\n"
     ]
    },
    {
     "data": {
      "text/latex": [
       "Fit $\\frac{\\chi^2}{\\rm{DoF}}$=1.1"
      ],
      "text/plain": [
       "<IPython.core.display.Latex object>"
      ]
     },
     "execution_count": 6,
     "metadata": {},
     "output_type": "execute_result"
    }
   ],
   "source": [
    "def sin_unblinded(t, A, b, c):\n",
    "    return A * np.sin(b * t)+c\n",
    "\n",
    "#function, X, Y, [starting par]\n",
    "# Levenberg-Marquardt algorithm as implemented in MINPACK\n",
    "par, pcov = optimize.curve_fit(sin_unblinded, x, y, sigma=y_err, p0=[0.22, 1.5, -0.1], absolute_sigma=False, method='lm')\n",
    "\n",
    "par_e = np.sqrt(np.diag(pcov))\n",
    "\n",
    "print(\"Params:\", par)\n",
    "print(\"Errors:\", par_e)\n",
    "chi2_ndf, chi2, ndf=cu.chi2_ndf(x, y, y_err, sin_unblinded, par)\n",
    "Latex( r\"Fit $\\frac{\\chi^2}{\\rm{DoF}}$=\"+str(round(chi2_ndf,2)) )"
   ]
  },
  {
   "cell_type": "code",
   "execution_count": 7,
   "metadata": {},
   "outputs": [
    {
     "data": {
      "text/html": [
       "<table style=\"display:inline\" border=\"1\" class=\"dataframe\">\n",
       "  <thead>\n",
       "    <tr style=\"text-align: right;\">\n",
       "      <th></th>\n",
       "      <th>Unnamed: 0</th>\n",
       "      <th>edm_setting</th>\n",
       "      <th>data_type</th>\n",
       "      <th>Q_cut</th>\n",
       "      <th>time_cut</th>\n",
       "      <th>p_cut</th>\n",
       "      <th>x_label</th>\n",
       "      <th>y_label</th>\n",
       "      <th>N</th>\n",
       "    </tr>\n",
       "  </thead>\n",
       "  <tbody>\n",
       "    <tr>\n",
       "      <th>0</th>\n",
       "      <td>0</td>\n",
       "      <td>$d_{\\mu} = 5.4\\times10^{-18} \\ e\\cdot{\\mathrm{cm}}$</td>\n",
       "      <td>VertexExt</td>\n",
       "      <td>AllStationsNoTQ</td>\n",
       "      <td>t&gt;0 $\\mathrm{\\mu}$s</td>\n",
       "      <td>1800&lt;p&lt;3600 MeV</td>\n",
       "      <td>$t^{mod}_{g-2} \\ \\mathrm{[\\mu}$s]</td>\n",
       "      <td>$\\langle\\theta_y\\rangle$ [mrad]</td>\n",
       "      <td>1146916</td>\n",
       "    </tr>\n",
       "  </tbody>\n",
       "</table style=\"display:inline\">"
      ]
     },
     "metadata": {},
     "output_type": "display_data"
    },
    {
     "name": "stdout",
     "output_type": "stream",
     "text": [
      "  $\\frac{\\chi^2}{DoF}$=1.10\n",
      "\n",
      " A=+0.14(2) mrad\n",
      "b=+1.34(6) MHz\n",
      "c=+0.02(1) mrad\n",
      "\n"
     ]
    },
    {
     "data": {
      "image/png": "[encoded data removed]",
      "text/plain": [
       "<Figure size 432x288 with 1 Axes>"
      ]
     },
     "metadata": {
      "needs_background": "light"
     },
     "output_type": "display_data"
    }
   ],
   "source": [
    "display_side_by_side(df_info) \n",
    "fig, ax = plt.subplots()\n",
    "ax.errorbar(x,y,xerr=x_err, yerr=y_err, linewidth=0, elinewidth=2, color=\"green\", marker=\"o\", label=\"Data\")\n",
    "ax.plot(x, sin_unblinded(x, par[0], par[1], par[2]), color=\"red\", label='Fit')\n",
    "ax.legend(loc='best')\n",
    "ax.set_ylabel(df_info['y_label'][0], fontsize=16)\n",
    "ax.set_xlabel(df_info['x_label'][0], fontsize=16)\n",
    "\n",
    "# deal with fitter parameters\n",
    "parNames=[\" A\", \"b\", \"c\"]\n",
    "units=[\"mrad\", \"MHz\", \"mrad\"]\n",
    "prec=2\n",
    "#form complex legends \n",
    "legend1_chi2=cu.legend1_fit(chi2_ndf)\n",
    "legned1_par=\"\"\n",
    "legned1_par=cu.legend_par(legned1_par,  parNames, par, par_e, units)\n",
    "legend1=legend1_chi2+\"\\n\"+legned1_par\n",
    "print(legend1)\n",
    "legend2=df_info['data_type'][0]+\"\\n\"+df_info[\"p_cut\"][0]+\"\\n N=\"+cu.sci_notation(df_info['N'][0])\n",
    "\n",
    "#place on the plot and save \n",
    "y1,y2,x1,x2=0.15,0.85,0.25,0.70\n",
    "cu.textL(ax, x1, y1, legend1, font_size=14, color=\"red\")    \n",
    "cu.textL(ax, x2, y2, legend2, font_size=14)\n",
    "ax.legend(loc='center right', fontsize=16)\n",
    "ax.set_ylabel(df_info['y_label'][0], fontsize=18)\n",
    "ax.set_xlabel(df_info['x_label'][0], fontsize=18)\n",
    "plt.tight_layout() \n",
    "\n",
    "plt.savefig(\"fig/testFit.png\", dpi=300)"
   ]
  },
  {
   "cell_type": "markdown",
   "metadata": {},
   "source": [
    "# Now perfrom a fit in simulation with the constants phase of 3.100(11) rad \n",
    "$$\\theta(t) = A_{\\mu}\\cos(\\omega t + \\phi) + A_{\\mathrm{EDM}}\\sin(\\omega t + \\phi) + c$$\n",
    "where  \n",
    "[0] $A_{\\mu}$ is the $g-2$ amplitude  \n",
    "[1] $A_{\\mathrm{EDM}}$ is the EDM amplitude  \n",
    "[2] $c$ is the offset in the central angle  \n",
    "[3] $\\omega$ is the anomalous precision frequency  "
   ]
  },
  {
   "cell_type": "code",
   "execution_count": 28,
   "metadata": {},
   "outputs": [
    {
     "name": "stdout",
     "output_type": "stream",
     "text": [
      "Params: [ 0.0212989  -0.13948537  0.02010784  1.41406307]\n",
      "Errors: [0.0356471  0.01647699 0.01252935 0.11202333]\n"
     ]
    },
    {
     "data": {
      "text/latex": [
       "Fit $\\frac{\\chi^2}{\\rm{DoF}}$=1.15"
      ],
      "text/plain": [
       "<IPython.core.display.Latex object>"
      ]
     },
     "execution_count": 28,
     "metadata": {},
     "output_type": "execute_result"
    }
   ],
   "source": [
    "# phi = 3.100 # rad\n",
    "phi = -3.183\n",
    "\n",
    "def thetaY_unblinded(t, *pars):\n",
    "    A_mu  = pars[0]      \n",
    "    A_edm = pars[1]    \n",
    "    c     = pars[2]    \n",
    "    omega = pars[3]    \n",
    "    return A_mu * np.cos(omega * t + phi) + A_edm * np.sin(omega * t + phi) + c\n",
    "\n",
    "#function, X, Y, [starting par]\n",
    "# Levenberg-Marquardt algorithm as implemented in MINPACK\n",
    "par, pcov = optimize.curve_fit(thetaY_unblinded, x, y, sigma=y_err, p0=[0.0, 0.18, -0.06, 0.23], absolute_sigma=False, method='lm')\n",
    "\n",
    "par_e = np.sqrt(np.diag(pcov))\n",
    "\n",
    "print(\"Params:\", par)\n",
    "print(\"Errors:\", par_e)\n",
    "chi2_ndf, chi2, ndf=cu.chi2_ndf(x, y, y_err, thetaY_unblinded, par)\n",
    "Latex( r\"Fit $\\frac{\\chi^2}{\\rm{DoF}}$=\"+str(round(chi2_ndf,2)) )"
   ]
  },
  {
   "cell_type": "code",
   "execution_count": 27,
   "metadata": {},
   "outputs": [
    {
     "name": "stdout",
     "output_type": "stream",
     "text": [
      "  $\\frac{\\chi^2}{DoF}$=1.15\n",
      "\n",
      "$ A_{\\mu}$=+0.02(4) mrad\n",
      "$ A_{\\rm{EDM}}$=-0.14(2) mrad\n",
      "c=+0.02(1) mrad\n",
      "$\\omega$=+1.41(11) MhZ\n",
      "\n"
     ]
    },
    {
     "data": {
      "image/png": "[encoded data removed]",
      "text/plain": [
       "<Figure size 432x288 with 1 Axes>"
      ]
     },
     "metadata": {
      "needs_background": "light"
     },
     "output_type": "display_data"
    }
   ],
   "source": [
    "fig, ax = plt.subplots()\n",
    "ax.errorbar(x,y,xerr=x_err, yerr=y_err, linewidth=0, elinewidth=2, color=\"green\", marker=\"o\", label=\"Data\")\n",
    "ax.plot(x, thetaY_unblinded(x, *par), color=\"red\", label='Fit')\n",
    "ax.legend(loc='best')\n",
    "ax.set_ylabel(df_info['y_label'][0], fontsize=16)\n",
    "ax.set_xlabel(df_info['x_label'][0], fontsize=16)\n",
    "\n",
    "# deal with fitter parameters\n",
    "parNames=[r\"$ A_{\\mu}$\", r\"$ A_{\\rm{EDM}}$\", \"c\", r\"$\\omega$\"]\n",
    "units=[\"mrad\", \"mrad\", \"mrad\", \"MhZ\"]\n",
    "prec=2\n",
    "#form complex legends \n",
    "legend1_chi2=cu.legend1_fit(chi2_ndf)\n",
    "legned1_par=\"\"\n",
    "legned1_par=cu.legend_par(legned1_par,  parNames, par, par_e, units)\n",
    "legend1=legend1_chi2+\"\\n\"+legned1_par\n",
    "print(legend1)\n",
    "legend2=df_info['data_type'][0]+\"\\n\"+df_info[\"p_cut\"][0]+\"\\n N=\"+cu.sci_notation(df_info['N'][0])\n",
    "\n",
    "#place on the plot and save \n",
    "y1,y2,x1,x2=0.2,0.85,0.25,0.70\n",
    "cu.textL(ax, x1, y1, legend1, font_size=13, color=\"red\")    \n",
    "cu.textL(ax, x2, y2, legend2, font_size=14)\n",
    "ax.legend(loc='center right', fontsize=16)\n",
    "ax.set_ylabel(df_info['y_label'][0], fontsize=18)\n",
    "ax.set_xlabel(df_info['x_label'][0], fontsize=18)\n",
    "plt.tight_layout() \n",
    "\n",
    "plt.savefig(\"fig/testFit.png\", dpi=300)"
   ]
  },
  {
   "cell_type": "markdown",
   "metadata": {},
   "source": [
    "# Now perfrom a fit in simulation with the constants phase of 3.100(11) rad \n",
    "$$\\theta(t) = A_{\\mu}\\cos(\\omega t + \\phi) + A_{B_z}\\cos(\\omega t + \\phi) + A_{\\mathrm{EDM}}\\sin(\\omega t + \\phi) + c$$\n",
    "where  \n",
    "[0] $A_{\\mu}$ is the $g-2$ amplitude  \n",
    "[1] $A_{\\mathrm{B_z}}$ is the $B_z$ amplitude   \n",
    "[2] $A_{\\mathrm{EDM}}$ is the EDM amplitude  \n",
    "[3] $c$ is the offset in the central angle  \n",
    "[4] $\\omega$ is the anomalous precision frequency  "
   ]
  },
  {
   "cell_type": "code",
   "execution_count": 33,
   "metadata": {},
   "outputs": [
    {
     "name": "stdout",
     "output_type": "stream",
     "text": [
      "Params: [ 3.17863245e+01 -3.17650259e+01 -1.39485387e-01  2.01077478e-02\n",
      "  1.41406125e+00]\n",
      "Errors: [1.23653904e+06 1.23653905e+06 1.74227985e-02 1.31620782e-02\n",
      " 1.22965238e-01]\n"
     ]
    },
    {
     "data": {
      "text/latex": [
       "Fit $\\frac{\\chi^2}{\\rm{DoF}}$=1.26"
      ],
      "text/plain": [
       "<IPython.core.display.Latex object>"
      ]
     },
     "execution_count": 33,
     "metadata": {},
     "output_type": "execute_result"
    }
   ],
   "source": [
    "# phi = 3.100 # rad\n",
    "phi = -3.183\n",
    "\n",
    "def bz_unblinded(t, *pars):\n",
    "    A_mu  = pars[0]      \n",
    "    A_bz  = pars[1]  \n",
    "    A_edm = pars[2]    \n",
    "    c     = pars[3]    \n",
    "    omega = pars[4]    \n",
    "    return A_mu * np.cos(omega * t + phi) + A_bz * np.cos(omega * t + phi) + A_edm * np.sin(omega * t + phi) + c\n",
    "\n",
    "#function, X, Y, [starting par]\n",
    "# Levenberg-Marquardt algorithm as implemented in MINPACK\n",
    "par, pcov = optimize.curve_fit(bz_unblinded, x, y, sigma=y_err, p0=[0.02, 1.0, 0.18, 0.06, 0.23], absolute_sigma=False, method='lm')\n",
    "\n",
    "par_e = np.sqrt(np.diag(pcov))\n",
    "\n",
    "print(\"Params:\", par)\n",
    "print(\"Errors:\", par_e)\n",
    "chi2_ndf, chi2, ndf=cu.chi2_ndf(x, y, y_err, bz_unblinded, par)\n",
    "Latex( r\"Fit $\\frac{\\chi^2}{\\rm{DoF}}$=\"+str(round(chi2_ndf,2)) )"
   ]
  },
  {
   "cell_type": "code",
   "execution_count": 34,
   "metadata": {},
   "outputs": [
    {
     "name": "stdout",
     "output_type": "stream",
     "text": [
      "  $\\frac{\\chi^2}{DoF}$=1.26\n",
      "\n",
      "$ A_{\\mu}$=+31.79(123653904) mrad\n",
      "$ A_{B_z}$=-31.77(123653905) mrad\n",
      "$ A_{\\rm{EDM}}$=-0.14(2) mrad\n",
      "c=+0.02(1) mrad\n",
      "$\\omega$=+1.41(12) MhZ\n",
      "\n"
     ]
    },
    {
     "data": {
      "image/png": "[encoded data removed]",
      "text/plain": [
       "<Figure size 432x288 with 1 Axes>"
      ]
     },
     "metadata": {
      "needs_background": "light"
     },
     "output_type": "display_data"
    }
   ],
   "source": [
    "fig, ax = plt.subplots()\n",
    "ax.errorbar(x,y,xerr=x_err, yerr=y_err, linewidth=0, elinewidth=2, color=\"green\", marker=\"o\", label=\"Data\")\n",
    "ax.plot(x, bz_unblinded(x, *par), color=\"red\", label='Fit')\n",
    "ax.legend(loc='best')\n",
    "ax.set_ylabel(df_info['y_label'][0], fontsize=16)\n",
    "ax.set_xlabel(df_info['x_label'][0], fontsize=16)\n",
    "\n",
    "# deal with fitter parameters\n",
    "parNames=[r\"$ A_{\\mu}$\", r\"$ A_{B_z}$\", r\"$ A_{\\rm{EDM}}$\", \"c\", r\"$\\omega$\"]\n",
    "units=[\"mrad\", \"mrad\", \"mrad\", \"mrad\", \"MhZ\"]\n",
    "prec=2\n",
    "#form complex legends \n",
    "legend1_chi2=cu.legend1_fit(chi2_ndf)\n",
    "legned1_par=\"\"\n",
    "legned1_par=cu.legend_par(legned1_par,  parNames, par, par_e, units)\n",
    "legend1=legend1_chi2+\"\\n\"+legned1_par\n",
    "print(legend1)\n",
    "legend2=df_info['data_type'][0]+\"\\n\"+df_info[\"p_cut\"][0]+\"\\n N=\"+cu.sci_notation(df_info['N'][0])\n",
    "\n",
    "#place on the plot and save \n",
    "y1,y2,x1,x2=0.25,0.85,0.3,0.70\n",
    "cu.textL(ax, x1, y1, legend1, font_size=13, color=\"red\")    \n",
    "cu.textL(ax, x2, y2, legend2, font_size=14)\n",
    "ax.legend(loc='center right', fontsize=16)\n",
    "ax.set_ylabel(df_info['y_label'][0], fontsize=18)\n",
    "ax.set_xlabel(df_info['x_label'][0], fontsize=18)\n",
    "ax.set_ylim(ax.get_ylim()[0]*1.5, ax.get_ylim()[1]*1.1)\n",
    "plt.tight_layout() \n",
    "\n",
    "plt.savefig(\"fig/testFit.png\", dpi=300)"
   ]
  },
  {
   "cell_type": "code",
   "execution_count": null,
   "metadata": {},
   "outputs": [],
   "source": []
  }
 ],
 "metadata": {
  "kernelspec": {
   "display_name": "Python 3",
   "language": "python",
   "name": "python3"
  },
  "language_info": {
   "codemirror_mode": {
    "name": "ipython",
    "version": 3
   },
   "file_extension": ".py",
   "mimetype": "text/x-python",
   "name": "python",
   "nbconvert_exporter": "python",
   "pygments_lexer": "ipython3",
   "version": "3.7.4"
  }
 },
 "nbformat": 4,
 "nbformat_minor": 4
}
