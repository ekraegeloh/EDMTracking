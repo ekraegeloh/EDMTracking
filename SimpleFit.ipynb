{
 "cells": [
  {
   "cell_type": "markdown",
   "metadata": {},
   "source": [
    "# A simple 5-parameter $w_a$ blinded fit"
   ]
  },
  {
   "cell_type": "markdown",
   "metadata": {},
   "source": [
    "### ROOT and blinding functions import\n",
    "See https://cdcvs.fnal.gov/redmine/projects/gm2analyses/wiki/Library_installation for a local installation of Blinding libraries for Python3"
   ]
  },
  {
   "cell_type": "code",
   "execution_count": 1,
   "metadata": {},
   "outputs": [
    {
     "name": "stdout",
     "output_type": "stream",
     "text": [
      "Welcome to JupyROOT 6.16/00\n"
     ]
    }
   ],
   "source": [
    "import sys, math \n",
    "sys.path.append(\"/usr/local/Cellar/root/6.16.00_3/lib/root\") # add brew ROOT (Mac) the system path ($JUPYTER_PATH)\n",
    "sys.path.append(\"Blinding/\") # folder with Blinders and libBlinders.so\n",
    "import ROOT as r\n",
    "from ROOT import TFile, TStyle, TCanvas, gStyle, TF1, gROOT, TMath, TLegend\n",
    "r.gROOT.Macro(\"~/rootlogon.C\") #if you have a rootlogon.C / g2PlotStyle https://cdcvs.fnal.gov/redmine/projects/g-2/wiki/PlotStyleGuide\n",
    "gStyle.SetOptStat(0) # we only want the event number in range (i.e. integral)\n",
    "gStyle.SetOptFit(0) # use legend to put fit details \n",
    "c = TCanvas(\"c\", \"\", 1800, 800) \n",
    "from BlindersPy3 import Blinders\n",
    "from BlindersPy3 import FitType"
   ]
  },
  {
   "cell_type": "markdown",
   "metadata": {},
   "source": [
    "### Set blinding here"
   ]
  },
  {
   "cell_type": "code",
   "execution_count": 2,
   "metadata": {},
   "outputs": [
    {
     "name": "stdout",
     "output_type": "stream",
     "text": [
      " + ++++++++++++++++++++++++++++++++++++++++++++++++++++++++++++++++++++ +\n",
      " +                                                                      +\n",
      " +           You have chose to blind your fitting according to          +\n",
      " +                omega_ref * (1 + (R +/- deltaR) *10^{-6})             +\n",
      " +                                                                      +\n",
      " + ++++++++++++++++++++++++++++++++++++++++++++++++++++++++++++++++++++ +\n"
     ]
    }
   ],
   "source": [
    "# unblinded instance (for testing-only!)\n",
    "# getBlinded = Blinders(FitType.Omega_a) # this will scream \"You are not blind!\"\n",
    "# blinded=False\n",
    "\n",
    "# blinded instance with your favorite phrase\n",
    "getBlinded = Blinders(FitType.Omega_a, \"EDM all day\") # will tell you that you are blinded\n",
    "blinded=True "
   ]
  },
  {
   "cell_type": "markdown",
   "metadata": {},
   "source": [
    "### Define blinded fit function $N(t)=Ne^{-t/\\tau}[1+A\\cos(\\omega_at+\\phi)]$,\n",
    "where  \n",
    "[0] $N$ is the overall normalisation  \n",
    "[1] $\\tau$ is the boosted muon lifetime $\\tau = \\gamma \\cdot \\tau_0 = 29.3\\cdot2.2=66.44 \\, \\mu$s  \n",
    "[2] $A$ is the asymmetry  \n",
    "[3] $\\omega_a$ is the anomalous precision frequency  \n",
    "[4] $\\phi$ is the initial phase  "
   ]
  },
  {
   "cell_type": "code",
   "execution_count": 3,
   "metadata": {},
   "outputs": [],
   "source": [
    "def blinded_wiggle_function(x, pars):\n",
    "    norm  = pars[0]\n",
    "    life  = pars[1]\n",
    "    asym  = pars[2]\n",
    "    R     = pars[3]\n",
    "    phi   = pars[4]\n",
    "    \n",
    "    time  = x[0]\n",
    "    omega = getBlinded.paramToFreq(R)\n",
    "    \n",
    "    return norm * math.exp(-time/life) * (1 + asym*math.cos(omega*time + phi))"
   ]
  },
  {
   "cell_type": "markdown",
   "metadata": {},
   "source": [
    "### Open ROOT file with a wiggle histogram and set some cuts (time)"
   ]
  },
  {
   "cell_type": "code",
   "execution_count": 4,
   "metadata": {},
   "outputs": [],
   "source": [
    "file= \"/Users/gleb/software/EDMTracking/trackRecoPlots_16145_16234.root\"\n",
    "path =  \"TrackSummary/FitResults/Times_gt_1800MeV\" # plot path in the ROOT file \n",
    "xmin=30 # us \n",
    "xmax=150 # us \n",
    "t_file = TFile.Open(file) \n",
    "h_wiggle = t_file.Get(path)"
   ]
  },
  {
   "cell_type": "markdown",
   "metadata": {},
   "source": [
    "## Display the wiggle histogram"
   ]
  },
  {
   "cell_type": "code",
   "execution_count": 10,
   "metadata": {},
   "outputs": [
    {
     "name": "stdout",
     "output_type": "stream",
     "text": [
      "5827722 tracks in range 30 to 150 [us]\n"
     ]
    }
   ],
   "source": [
    "h_wiggle.Draw()\n",
    "Xaxis = h_wiggle.GetXaxis()\n",
    "Yaxis = h_wiggle.GetYaxis()\n",
    "Xaxis.SetRangeUser(xmin-5, xmax+5) # apply the time cut (display purpose only +/-5 us to see start/end of the fit)\n",
    "# Find the number of events in range\n",
    "bmin = Xaxis.FindBin(xmin)\n",
    "bmax = Xaxis.FindBin(xmax)\n",
    "entries = h_wiggle.Integral(bmin,bmax)\n",
    "print(int(entries), \"tracks in range\",xmin,\"to\",xmax,\"[us]\")\n",
    "binW=h_wiggle.GetBinWidth(1) \n",
    "Xaxis.SetTitle(\"Time [#mus]\")\n",
    "h_wiggle.GetYaxis().SetTitle(\"Tracks/ %.1f #mus\" % binW)\n",
    "Xaxis.CenterTitle()\n",
    "Yaxis.CenterTitle()\n",
    "# c.Draw()"
   ]
  },
  {
   "cell_type": "markdown",
   "metadata": {},
   "source": [
    "## Now we can set some initial guess on the parameters and do a blinded fit"
   ]
  },
  {
   "cell_type": "code",
   "execution_count": 6,
   "metadata": {},
   "outputs": [],
   "source": [
    "func = TF1(\"func\", blinded_wiggle_function, xmin, xmax, 5) # use our defined function in range with 5 parameters\n",
    "func.SetParNames('N','#tau','A','R','#phi') # name the parameters \n",
    "func.SetParameters(20000, 64.4 , 0.4 ,0.0, 0.0) # initial guess \n",
    "func.SetLineColor(2) # red \n",
    "func.SetNpx(10000) # prevent under-sampling (display only)\n",
    "if(blinded==False):\n",
    "    print(\"You are not blinded!\")"
   ]
  },
  {
   "cell_type": "markdown",
   "metadata": {},
   "source": [
    "## Now we can set some initial guess on the parameters and do a blinded fit"
   ]
  },
  {
   "cell_type": "code",
   "execution_count": 11,
   "metadata": {},
   "outputs": [
    {
     "name": "stdout",
     "output_type": "stream",
     "text": [
      " FCN=1365.43 FROM MINOS     STATUS=SUCCESSFUL     36 CALLS         282 TOTAL\n",
      "                     EDM=5.35736e-09    STRATEGY= 1      ERROR MATRIX ACCURATE \n",
      "  EXT PARAMETER                                   STEP         FIRST   \n",
      "  NO.   NAME      VALUE            ERROR          SIZE      DERIVATIVE \n",
      "   1  N            2.69404e+04   2.78028e+01  -9.04993e-03  -2.03293e-08\n",
      "   2  #tau         6.13723e+01   4.96683e-02   7.23831e-06  -4.92452e-06\n",
      "   3  A            3.44587e-01   5.56785e-04  -4.33393e-07   1.09139e-04\n",
      "   4  R           -6.80072e+01   3.64923e+01  -1.80913e-04   3.56929e-08\n",
      "   5  #phi         2.06438e+00   4.12064e-03   4.12064e-03   4.53430e-04\n"
     ]
    },
    {
     "name": "stderr",
     "output_type": "stream",
     "text": [
      "Info in <TCanvas::Print>: png file wiggle_blinded.png has been created\n"
     ]
    }
   ],
   "source": [
    "h_wiggle.Fit('func','REM') # fit in range (R), TMinut fit (M), Minos errors (E)\n",
    "\n",
    "# Get the fit parameters\n",
    "chi2=func.GetChisquare()\n",
    "ndf=func.GetNDF()\n",
    "ch2ndf=chi2/ndf\n",
    "LT = func.GetParameter(1)\n",
    "LT_error = func.GetParError(1)\n",
    "R= func.GetParameter(3)\n",
    "phi = func.GetParameter(4)\n",
    "phi_error = func.GetParError(4)\n",
    "\n",
    "# Set and draw legend\n",
    "legend =  TLegend(0.3,0.55,0.90,0.88)\n",
    "legend.SetHeader(r\"16145-16234\\,(\\mathrm{HighKick}) \\ N(t)=Ne^{-t/\\tau} \\cdot [1+A\\cos(\\omega_{a}t+\\phi)]\", \"C\")\n",
    "legenValue1 = \"#chi^{2}_{ndf}=%.2f #tau=%.2f #mus R=%0.2f ppm #phi=%.3f #pm %.3f\" % (ch2ndf, LT, R, phi, phi_error)\n",
    "legenValue2 = \"Entries (30 #mus - 150 #mus; > 1.8 GeV): %.2E\" % entries\n",
    "legend.AddEntry(func, \"#splitline{\"+str(legenValue1)+\"}{\"+str(legenValue2)+\"}\", \"\")\n",
    "gStyle.SetLegendBorderSize(0)\n",
    "gStyle.SetLegendTextSize(0.044)\n",
    "legend.Draw()\n",
    "\n",
    "# c.Draw()\n",
    "c.SaveAs(\"wiggle_blinded.png\")"
   ]
  },
  {
   "cell_type": "code",
   "execution_count": null,
   "metadata": {},
   "outputs": [],
   "source": []
  }
 ],
 "metadata": {
  "kernelspec": {
   "display_name": "Python 3",
   "language": "python",
   "name": "python3"
  },
  "language_info": {
   "codemirror_mode": {
    "name": "ipython",
    "version": 3
   },
   "file_extension": ".py",
   "mimetype": "text/x-python",
   "name": "python",
   "nbconvert_exporter": "python",
   "pygments_lexer": "ipython3",
   "version": "3.7.3"
  }
 },
 "nbformat": 4,
 "nbformat_minor": 2
}
