{
 "cells": [
  {
   "cell_type": "code",
   "execution_count": 1,
   "metadata": {},
   "outputs": [],
   "source": [
    "import os, sys\n",
    "sys.path.append('CommonUtils/')\n",
    "import CommonUtils as cu\n",
    "\n",
    "import argparse, math\n",
    "from scipy import stats\n",
    "import numpy as np\n",
    "import seaborn as sns\n",
    "import matplotlib.pyplot as plt\n",
    "import pandas as pd\n",
    "from pandas import Series, DataFrame\n",
    "from scipy import optimize"
   ]
  },
  {
   "cell_type": "code",
   "execution_count": 2,
   "metadata": {},
   "outputs": [],
   "source": [
    "df=pd.read_csv(\"df.csv\")"
   ]
  },
  {
   "cell_type": "code",
   "execution_count": 3,
   "metadata": {},
   "outputs": [
    {
     "data": {
      "text/html": [
       "<div>\n",
       "<style scoped>\n",
       "    .dataframe tbody tr th:only-of-type {\n",
       "        vertical-align: middle;\n",
       "    }\n",
       "\n",
       "    .dataframe tbody tr th {\n",
       "        vertical-align: top;\n",
       "    }\n",
       "\n",
       "    .dataframe thead th {\n",
       "        text-align: right;\n",
       "    }\n",
       "</style>\n",
       "<table border=\"1\" class=\"dataframe\">\n",
       "  <thead>\n",
       "    <tr style=\"text-align: right;\">\n",
       "      <th></th>\n",
       "      <th>Unnamed: 0</th>\n",
       "      <th>bincenters</th>\n",
       "      <th>ymean</th>\n",
       "      <th>xerr</th>\n",
       "      <th>yerr</th>\n",
       "    </tr>\n",
       "  </thead>\n",
       "  <tbody>\n",
       "    <tr>\n",
       "      <th>0</th>\n",
       "      <td>1</td>\n",
       "      <td>0.152301</td>\n",
       "      <td>-0.076308</td>\n",
       "      <td>0.145026</td>\n",
       "      <td>0.043424</td>\n",
       "    </tr>\n",
       "    <tr>\n",
       "      <th>1</th>\n",
       "      <td>2</td>\n",
       "      <td>0.442353</td>\n",
       "      <td>-0.002594</td>\n",
       "      <td>0.145026</td>\n",
       "      <td>0.042003</td>\n",
       "    </tr>\n",
       "    <tr>\n",
       "      <th>2</th>\n",
       "      <td>3</td>\n",
       "      <td>0.732404</td>\n",
       "      <td>0.042376</td>\n",
       "      <td>0.145026</td>\n",
       "      <td>0.040703</td>\n",
       "    </tr>\n",
       "    <tr>\n",
       "      <th>3</th>\n",
       "      <td>4</td>\n",
       "      <td>1.022456</td>\n",
       "      <td>0.099553</td>\n",
       "      <td>0.145026</td>\n",
       "      <td>0.038935</td>\n",
       "    </tr>\n",
       "    <tr>\n",
       "      <th>4</th>\n",
       "      <td>5</td>\n",
       "      <td>1.312507</td>\n",
       "      <td>0.116654</td>\n",
       "      <td>0.145026</td>\n",
       "      <td>0.037167</td>\n",
       "    </tr>\n",
       "    <tr>\n",
       "      <th>5</th>\n",
       "      <td>6</td>\n",
       "      <td>1.602559</td>\n",
       "      <td>0.120240</td>\n",
       "      <td>0.145026</td>\n",
       "      <td>0.036087</td>\n",
       "    </tr>\n",
       "    <tr>\n",
       "      <th>6</th>\n",
       "      <td>7</td>\n",
       "      <td>1.892610</td>\n",
       "      <td>0.027373</td>\n",
       "      <td>0.145026</td>\n",
       "      <td>0.035351</td>\n",
       "    </tr>\n",
       "    <tr>\n",
       "      <th>7</th>\n",
       "      <td>8</td>\n",
       "      <td>2.182661</td>\n",
       "      <td>-0.097767</td>\n",
       "      <td>0.145026</td>\n",
       "      <td>0.035208</td>\n",
       "    </tr>\n",
       "    <tr>\n",
       "      <th>8</th>\n",
       "      <td>9</td>\n",
       "      <td>2.472713</td>\n",
       "      <td>-0.131670</td>\n",
       "      <td>0.145026</td>\n",
       "      <td>0.035668</td>\n",
       "    </tr>\n",
       "    <tr>\n",
       "      <th>9</th>\n",
       "      <td>10</td>\n",
       "      <td>2.762764</td>\n",
       "      <td>-0.165456</td>\n",
       "      <td>0.145026</td>\n",
       "      <td>0.037005</td>\n",
       "    </tr>\n",
       "    <tr>\n",
       "      <th>10</th>\n",
       "      <td>11</td>\n",
       "      <td>3.052816</td>\n",
       "      <td>-0.182151</td>\n",
       "      <td>0.145026</td>\n",
       "      <td>0.038520</td>\n",
       "    </tr>\n",
       "    <tr>\n",
       "      <th>11</th>\n",
       "      <td>12</td>\n",
       "      <td>3.342867</td>\n",
       "      <td>-0.153748</td>\n",
       "      <td>0.145026</td>\n",
       "      <td>0.040446</td>\n",
       "    </tr>\n",
       "    <tr>\n",
       "      <th>12</th>\n",
       "      <td>13</td>\n",
       "      <td>3.632919</td>\n",
       "      <td>-0.251999</td>\n",
       "      <td>0.145026</td>\n",
       "      <td>0.042347</td>\n",
       "    </tr>\n",
       "    <tr>\n",
       "      <th>13</th>\n",
       "      <td>14</td>\n",
       "      <td>3.922970</td>\n",
       "      <td>-0.238455</td>\n",
       "      <td>0.145026</td>\n",
       "      <td>0.043820</td>\n",
       "    </tr>\n",
       "    <tr>\n",
       "      <th>14</th>\n",
       "      <td>15</td>\n",
       "      <td>4.213022</td>\n",
       "      <td>-0.201914</td>\n",
       "      <td>0.145026</td>\n",
       "      <td>0.045903</td>\n",
       "    </tr>\n",
       "  </tbody>\n",
       "</table>\n",
       "</div>"
      ],
      "text/plain": [
       "    Unnamed: 0  bincenters     ymean      xerr      yerr\n",
       "0            1    0.152301 -0.076308  0.145026  0.043424\n",
       "1            2    0.442353 -0.002594  0.145026  0.042003\n",
       "2            3    0.732404  0.042376  0.145026  0.040703\n",
       "3            4    1.022456  0.099553  0.145026  0.038935\n",
       "4            5    1.312507  0.116654  0.145026  0.037167\n",
       "5            6    1.602559  0.120240  0.145026  0.036087\n",
       "6            7    1.892610  0.027373  0.145026  0.035351\n",
       "7            8    2.182661 -0.097767  0.145026  0.035208\n",
       "8            9    2.472713 -0.131670  0.145026  0.035668\n",
       "9           10    2.762764 -0.165456  0.145026  0.037005\n",
       "10          11    3.052816 -0.182151  0.145026  0.038520\n",
       "11          12    3.342867 -0.153748  0.145026  0.040446\n",
       "12          13    3.632919 -0.251999  0.145026  0.042347\n",
       "13          14    3.922970 -0.238455  0.145026  0.043820\n",
       "14          15    4.213022 -0.201914  0.145026  0.045903"
      ]
     },
     "execution_count": 3,
     "metadata": {},
     "output_type": "execute_result"
    }
   ],
   "source": [
    "df"
   ]
  },
  {
   "cell_type": "code",
   "execution_count": 4,
   "metadata": {},
   "outputs": [],
   "source": [
    "# df.info()"
   ]
  },
  {
   "cell_type": "code",
   "execution_count": 5,
   "metadata": {},
   "outputs": [],
   "source": [
    "# df.describe()"
   ]
  },
  {
   "cell_type": "code",
   "execution_count": 6,
   "metadata": {},
   "outputs": [],
   "source": [
    "x=df['bincenters']\n",
    "y=df['ymean']\n",
    "x_err=df['xerr']\n",
    "y_err=df['yerr']\n",
    "\n",
    "# print(x, y, x_err, y_err)"
   ]
  },
  {
   "cell_type": "markdown",
   "metadata": {},
   "source": [
    "#### Define $y(x) = A\\sin(bx)$"
   ]
  },
  {
   "cell_type": "code",
   "execution_count": 12,
   "metadata": {},
   "outputs": [
    {
     "name": "stdout",
     "output_type": "stream",
     "text": [
      "[ 0.16460636  1.31266561 -0.07752449]\n",
      "[[ 1.94413379e-04  4.50736481e-05 -2.08598383e-06]\n",
      " [ 4.50736481e-05  1.69645523e-03  1.18813832e-04]\n",
      " [-2.08598383e-06  1.18813832e-04  1.12913571e-04]]\n"
     ]
    }
   ],
   "source": [
    "def sin_unblinded(x, A, b, c):\n",
    "    return A * np.sin(b * x)+c\n",
    "\n",
    "params, params_covariance = optimize.curve_fit(sin_unblinded, x, y, p0=[0.22, 1.5, -0.1])\n",
    "\n",
    "print(params)\n",
    "print(params_covariance)"
   ]
  },
  {
   "cell_type": "code",
   "execution_count": 15,
   "metadata": {},
   "outputs": [
    {
     "data": {
      "image/png": "[encoded data removed]",
      "text/plain": [
       "<Figure size 432x288 with 1 Axes>"
      ]
     },
     "metadata": {
      "needs_background": "light"
     },
     "output_type": "display_data"
    }
   ],
   "source": [
    "plt.figure(figsize=(6, 4))\n",
    "plt.scatter(x, y, label='Data')\n",
    "plt.errorbar(x,y,xerr=x_err, yerr=y_err, linewidth=0, elinewidth=2, color=\"green\", marker=\"o\")\n",
    "plt.plot(x, sin_unblinded(x, params[0], params[1], params[2]),label='Fitted function')\n",
    "plt.legend(loc='best')\n",
    "plt.savefig(\"testFit.png\", dpi=300)\n",
    "plt.show()\n"
   ]
  },
  {
   "cell_type": "code",
   "execution_count": null,
   "metadata": {},
   "outputs": [],
   "source": []
  },
  {
   "cell_type": "code",
   "execution_count": null,
   "metadata": {},
   "outputs": [],
   "source": []
  }
 ],
 "metadata": {
  "kernelspec": {
   "display_name": "Python 3",
   "language": "python",
   "name": "python3"
  },
  "language_info": {
   "codemirror_mode": {
    "name": "ipython",
    "version": 3
   },
   "file_extension": ".py",
   "mimetype": "text/x-python",
   "name": "python",
   "nbconvert_exporter": "python",
   "pygments_lexer": "ipython3",
   "version": "3.7.4"
  }
 },
 "nbformat": 4,
 "nbformat_minor": 4
}
