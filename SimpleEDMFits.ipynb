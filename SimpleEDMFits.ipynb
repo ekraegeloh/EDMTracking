{
 "cells": [
  {
   "cell_type": "code",
   "execution_count": 1,
   "metadata": {},
   "outputs": [],
   "source": [
    "import os, sys\n",
    "sys.path.append('CommonUtils/')\n",
    "import CommonUtils as cu\n",
    "\n",
    "import argparse, math\n",
    "from scipy import stats\n",
    "import numpy as np\n",
    "import seaborn as sns\n",
    "import matplotlib.pyplot as plt\n",
    "import pandas as pd\n",
    "from pandas import Series, DataFrame\n",
    "from scipy import optimize"
   ]
  },
  {
   "cell_type": "code",
   "execution_count": 10,
   "metadata": {},
   "outputs": [],
   "source": [
    "df=pd.read_csv(\"df.csv\")"
   ]
  },
  {
   "cell_type": "code",
   "execution_count": 11,
   "metadata": {},
   "outputs": [
    {
     "data": {
      "text/html": [
       "<div>\n",
       "<style scoped>\n",
       "    .dataframe tbody tr th:only-of-type {\n",
       "        vertical-align: middle;\n",
       "    }\n",
       "\n",
       "    .dataframe tbody tr th {\n",
       "        vertical-align: top;\n",
       "    }\n",
       "\n",
       "    .dataframe thead th {\n",
       "        text-align: right;\n",
       "    }\n",
       "</style>\n",
       "<table border=\"1\" class=\"dataframe\">\n",
       "  <thead>\n",
       "    <tr style=\"text-align: right;\">\n",
       "      <th></th>\n",
       "      <th>Unnamed: 0</th>\n",
       "      <th>bincenters</th>\n",
       "      <th>ymean</th>\n",
       "      <th>xerr</th>\n",
       "      <th>yerr</th>\n",
       "    </tr>\n",
       "  </thead>\n",
       "  <tbody>\n",
       "    <tr>\n",
       "      <th>0</th>\n",
       "      <td>1</td>\n",
       "      <td>0.152301</td>\n",
       "      <td>-1.636795</td>\n",
       "      <td>0.145026</td>\n",
       "      <td>0.136972</td>\n",
       "    </tr>\n",
       "    <tr>\n",
       "      <th>1</th>\n",
       "      <td>2</td>\n",
       "      <td>0.442353</td>\n",
       "      <td>-1.315822</td>\n",
       "      <td>0.145026</td>\n",
       "      <td>0.138025</td>\n",
       "    </tr>\n",
       "    <tr>\n",
       "      <th>2</th>\n",
       "      <td>3</td>\n",
       "      <td>0.732404</td>\n",
       "      <td>-1.444979</td>\n",
       "      <td>0.145026</td>\n",
       "      <td>0.136087</td>\n",
       "    </tr>\n",
       "    <tr>\n",
       "      <th>3</th>\n",
       "      <td>4</td>\n",
       "      <td>1.022456</td>\n",
       "      <td>-1.299704</td>\n",
       "      <td>0.145026</td>\n",
       "      <td>0.132262</td>\n",
       "    </tr>\n",
       "    <tr>\n",
       "      <th>4</th>\n",
       "      <td>5</td>\n",
       "      <td>1.312507</td>\n",
       "      <td>-1.147867</td>\n",
       "      <td>0.145026</td>\n",
       "      <td>0.131823</td>\n",
       "    </tr>\n",
       "    <tr>\n",
       "      <th>5</th>\n",
       "      <td>6</td>\n",
       "      <td>1.602559</td>\n",
       "      <td>-1.098057</td>\n",
       "      <td>0.145026</td>\n",
       "      <td>0.129799</td>\n",
       "    </tr>\n",
       "    <tr>\n",
       "      <th>6</th>\n",
       "      <td>7</td>\n",
       "      <td>1.892610</td>\n",
       "      <td>-1.149864</td>\n",
       "      <td>0.145026</td>\n",
       "      <td>0.127600</td>\n",
       "    </tr>\n",
       "    <tr>\n",
       "      <th>7</th>\n",
       "      <td>8</td>\n",
       "      <td>2.182661</td>\n",
       "      <td>-1.218846</td>\n",
       "      <td>0.145026</td>\n",
       "      <td>0.129154</td>\n",
       "    </tr>\n",
       "    <tr>\n",
       "      <th>8</th>\n",
       "      <td>9</td>\n",
       "      <td>2.472713</td>\n",
       "      <td>-1.331864</td>\n",
       "      <td>0.145026</td>\n",
       "      <td>0.128183</td>\n",
       "    </tr>\n",
       "    <tr>\n",
       "      <th>9</th>\n",
       "      <td>10</td>\n",
       "      <td>2.762764</td>\n",
       "      <td>-1.287945</td>\n",
       "      <td>0.145026</td>\n",
       "      <td>0.130300</td>\n",
       "    </tr>\n",
       "    <tr>\n",
       "      <th>10</th>\n",
       "      <td>11</td>\n",
       "      <td>3.052816</td>\n",
       "      <td>-1.268691</td>\n",
       "      <td>0.145026</td>\n",
       "      <td>0.132748</td>\n",
       "    </tr>\n",
       "    <tr>\n",
       "      <th>11</th>\n",
       "      <td>12</td>\n",
       "      <td>3.342867</td>\n",
       "      <td>-1.349533</td>\n",
       "      <td>0.145026</td>\n",
       "      <td>0.135265</td>\n",
       "    </tr>\n",
       "    <tr>\n",
       "      <th>12</th>\n",
       "      <td>13</td>\n",
       "      <td>3.632919</td>\n",
       "      <td>-1.353536</td>\n",
       "      <td>0.145026</td>\n",
       "      <td>0.138212</td>\n",
       "    </tr>\n",
       "    <tr>\n",
       "      <th>13</th>\n",
       "      <td>14</td>\n",
       "      <td>3.922970</td>\n",
       "      <td>-1.483379</td>\n",
       "      <td>0.145026</td>\n",
       "      <td>0.141163</td>\n",
       "    </tr>\n",
       "    <tr>\n",
       "      <th>14</th>\n",
       "      <td>15</td>\n",
       "      <td>4.213022</td>\n",
       "      <td>-1.192189</td>\n",
       "      <td>0.145026</td>\n",
       "      <td>0.144879</td>\n",
       "    </tr>\n",
       "  </tbody>\n",
       "</table>\n",
       "</div>"
      ],
      "text/plain": [
       "    Unnamed: 0  bincenters     ymean      xerr      yerr\n",
       "0            1    0.152301 -1.636795  0.145026  0.136972\n",
       "1            2    0.442353 -1.315822  0.145026  0.138025\n",
       "2            3    0.732404 -1.444979  0.145026  0.136087\n",
       "3            4    1.022456 -1.299704  0.145026  0.132262\n",
       "4            5    1.312507 -1.147867  0.145026  0.131823\n",
       "5            6    1.602559 -1.098057  0.145026  0.129799\n",
       "6            7    1.892610 -1.149864  0.145026  0.127600\n",
       "7            8    2.182661 -1.218846  0.145026  0.129154\n",
       "8            9    2.472713 -1.331864  0.145026  0.128183\n",
       "9           10    2.762764 -1.287945  0.145026  0.130300\n",
       "10          11    3.052816 -1.268691  0.145026  0.132748\n",
       "11          12    3.342867 -1.349533  0.145026  0.135265\n",
       "12          13    3.632919 -1.353536  0.145026  0.138212\n",
       "13          14    3.922970 -1.483379  0.145026  0.141163\n",
       "14          15    4.213022 -1.192189  0.145026  0.144879"
      ]
     },
     "execution_count": 11,
     "metadata": {},
     "output_type": "execute_result"
    }
   ],
   "source": [
    "df"
   ]
  },
  {
   "cell_type": "code",
   "execution_count": 12,
   "metadata": {},
   "outputs": [],
   "source": [
    "# df.info()"
   ]
  },
  {
   "cell_type": "code",
   "execution_count": 13,
   "metadata": {},
   "outputs": [],
   "source": [
    "# df.describe()"
   ]
  },
  {
   "cell_type": "code",
   "execution_count": 14,
   "metadata": {},
   "outputs": [],
   "source": [
    "x=df['bincenters']\n",
    "y=df['ymean']\n",
    "x_err=df['xerr']\n",
    "y_err=df['yerr']\n",
    "\n",
    "# print(x, y, x_err, y_err)"
   ]
  },
  {
   "cell_type": "markdown",
   "metadata": {},
   "source": [
    "#### Define $y(x) = A\\sin(bx)+c$"
   ]
  },
  {
   "cell_type": "code",
   "execution_count": 15,
   "metadata": {},
   "outputs": [
    {
     "name": "stdout",
     "output_type": "stream",
     "text": [
      "[ 0.29066969  0.68651207 -1.49913377]\n",
      "[[ 0.01326457 -0.00225768 -0.00933905]\n",
      " [-0.00225768  0.00476893  0.00254582]\n",
      " [-0.00933905  0.00254582  0.0077702 ]]\n"
     ]
    }
   ],
   "source": [
    "def sin_unblinded(x, A, b, c):\n",
    "    return A * np.sin(b * x)+c\n",
    "\n",
    "#function, X, Y, [starting par]\n",
    "params, params_covariance = optimize.curve_fit(sin_unblinded, x, y, p0=[0.22, 1.5, -0.1])\n",
    "\n",
    "print(params)\n",
    "print(params_covariance)"
   ]
  },
  {
   "cell_type": "code",
   "execution_count": 9,
   "metadata": {},
   "outputs": [
    {
     "data": {
      "image/png": "[encoded data removed]",
      "text/plain": [
       "<Figure size 432x288 with 1 Axes>"
      ]
     },
     "metadata": {
      "needs_background": "light"
     },
     "output_type": "display_data"
    }
   ],
   "source": [
    "plt.figure(figsize=(6, 4))\n",
    "plt.scatter(x, y, label='Data')\n",
    "plt.errorbar(x,y,xerr=x_err, yerr=y_err, linewidth=0, elinewidth=2, color=\"green\", marker=\"o\")\n",
    "plt.plot(x, sin_unblinded(x, params[0], params[1], params[2]),label='Fitted function')\n",
    "plt.legend(loc='best')\n",
    "plt.savefig(\"testFit.png\", dpi=300)\n",
    "plt.show()\n",
    "\n",
    "#add Chi2,\n"
   ]
  },
  {
   "cell_type": "code",
   "execution_count": null,
   "metadata": {},
   "outputs": [],
   "source": []
  },
  {
   "cell_type": "code",
   "execution_count": null,
   "metadata": {},
   "outputs": [],
   "source": []
  }
 ],
 "metadata": {
  "kernelspec": {
   "display_name": "Python 3",
   "language": "python",
   "name": "python3"
  },
  "language_info": {
   "codemirror_mode": {
    "name": "ipython",
    "version": 3
   },
   "file_extension": ".py",
   "mimetype": "text/x-python",
   "name": "python",
   "nbconvert_exporter": "python",
   "pygments_lexer": "ipython3",
   "version": "3.7.4"
  }
 },
 "nbformat": 4,
 "nbformat_minor": 4
}
