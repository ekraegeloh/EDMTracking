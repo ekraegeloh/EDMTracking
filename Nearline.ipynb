{
 "cells": [
  {
   "cell_type": "markdown",
   "metadata": {},
   "source": [
    "# Read Nearline data (ROOT) into pandas from ROOT files with NTuples and TH1s"
   ]
  },
  {
   "cell_type": "markdown",
   "metadata": {},
   "source": [
    "## 1) Form a list of ROOT files in the target dir."
   ]
  },
  {
   "cell_type": "code",
   "execution_count": null,
   "metadata": {},
   "outputs": [],
   "source": [
    "import os, re\n",
    "\n",
    "target_dir = \"DATA/Nearline/\" # TODO impliment as argparse in proper Python code \n",
    "\n",
    "#storage \n",
    "file_list=[] \n",
    "run_list=[]\n",
    "\n",
    "# loop over files in the directroy \n",
    "for file in os.listdir(target_dir):\n",
    "    file_name=file.replace(\".\", \"_\") # make all seperations the same \n",
    "    file_name_split=re.split('_', file_name) # split into e.g. \"NearlinePlots\", \"30528\", \"root\"\n",
    "    if(file_name_split[0] == \"NearlinePlots\"): # check we got a correct file \n",
    "        run_list.append(file_name_split[1]) # form list of all runs \n",
    "        file_list.append(file) # ... of all files \n",
    "\n",
    "print(\"Found\", len(file_list), \"nearline files for runs:\", *run_list) # \"*\" unpacked the list for print function"
   ]
  },
  {
   "cell_type": "markdown",
   "metadata": {},
   "source": [
    "## 2) Loop over the file structure"
   ]
  },
  {
   "cell_type": "code",
   "execution_count": 2,
   "metadata": {},
   "outputs": [
    {
     "name": "stdout",
     "output_type": "stream",
     "text": [
      "\n",
      "In top dir <ROOTDirectory b'AllStations' at 0x000110a98550> <ROOTDirectory b'station00' at 0x000110a981d0> <ROOTDirectory b'station12' at 0x000110a98750> <ROOTDirectory b'station18' at 0x000110a98990> <TTree b'Info_ntup' at 0x00011083f510>\n",
      "\n",
      "Following folders found [<ROOTDirectory b'AllStations' at 0x000110a98550>, <ROOTDirectory b'station00' at 0x000110a981d0>, <ROOTDirectory b'station12' at 0x000110a98750>, <ROOTDirectory b'station18' at 0x000110a98990>]\n",
      "\n",
      "Fond trees in the NTuple [b'gpsTime_first', b'gpsTime_first_frac', b'gpsTime_last', b'gpsTime_last_frac', b'nEvents', b'nDigits00', b'nDigits12', b'nDigits18', b'nCandidatesTotal00', b'nCandidatesTotal12', b'nCandidatesTotal18', b'nCandidatesPassQuality00', b'nCandidatesPassQuality12', b'nCandidatesPassQuality18', b'nTracksTotal00', b'nTracksTotal12', b'nTracksTotal18', b'nTracksPassQuality00', b'nTracksPassQuality12', b'nTracksPassQuality18', b'nVerticesTotal00', b'nVerticesTotal12', b'nVerticesTotal18', b'nVerticesPassQuality00', b'nVerticesPassQuality12', b'nVerticesPassQuality18']\n"
     ]
    }
   ],
   "source": [
    "# See https://github.com/scikit-hep/uproot for the manual \n",
    "import uproot # get this module by \"python3 -m pip install uproot\"\n",
    "\n",
    "file = uproot.open(target_dir+\"/\"+file_list[0]) # load the ROOT file\n",
    "\n",
    "top_dir = file[\"Nearline\"] # look into top dir\n",
    "folders_Tuple = top_dir.values() # list of sub-dirs and 1 NTuple \n",
    "print(\"\\nIn top dir\", *folders_Tuple)\n",
    "folders = folders_Tuple[0:-1] # folders only have histograms (e.g. AllStations/Digits/hitTime)\n",
    "print(\"\\nFollowing folders found\", folders)\n",
    "ntuple = folders_Tuple[-1] # this is our single NTuple\n",
    "trees=ntuple.keys()\n",
    "print(\"\\nFond trees in the NTuple\", trees)\n",
    "\n",
    "# TODO there are more and better ways to get TDir, and all objects etc. information see https://github.com/scikit-hep/uproot for the manual \\\n",
    "# TODO form a python dictionary of all availble histograms and Trees, use their names as \"varialbes\" for pandas storage \n",
    "# i.e. you shouldn't have to type them by hand "
   ]
  },
  {
   "cell_type": "code",
   "execution_count": 3,
   "metadata": {},
   "outputs": [
    {
     "data": {
      "text/html": [
       "<img src=\"https://raw.githubusercontent.com/scikit-hep/uproot/master/docs/terminology.png\" height=\"400\"/>"
      ],
      "text/plain": [
       "<IPython.core.display.Image object>"
      ]
     },
     "execution_count": 3,
     "metadata": {},
     "output_type": "execute_result"
    }
   ],
   "source": [
    "from IPython.display import Image\n",
    "from IPython.core.display import HTML \n",
    "Image(url=\"https://raw.githubusercontent.com/scikit-hep/uproot/master/docs/terminology.png\", height=400)"
   ]
  },
  {
   "cell_type": "markdown",
   "metadata": {},
   "source": [
    "## 3) Read one Histogram into pandas"
   ]
  },
  {
   "cell_type": "code",
   "execution_count": 4,
   "metadata": {},
   "outputs": [
    {
     "name": "stdout",
     "output_type": "stream",
     "text": [
      "\n",
      "hist is a TH1F object <b'TH1F' b'hitTime' 0x000110a46e30>\n",
      "(array([0., 0., 0., ..., 0., 0., 0.], dtype=float32), array([0.00000000e+00, 1.48936000e-01, 2.97872000e-01, ...,\n",
      "       5.95446128e+02, 5.95595064e+02, 5.95744000e+02]))\n",
      "\n",
      "Just loaded 16 tracks !!! Overflows/Underflows not included!!!!\n"
     ]
    },
    {
     "data": {
      "text/html": [
       "<div>\n",
       "<style scoped>\n",
       "    .dataframe tbody tr th:only-of-type {\n",
       "        vertical-align: middle;\n",
       "    }\n",
       "\n",
       "    .dataframe tbody tr th {\n",
       "        vertical-align: top;\n",
       "    }\n",
       "\n",
       "    .dataframe thead th {\n",
       "        text-align: right;\n",
       "    }\n",
       "</style>\n",
       "<table border=\"1\" class=\"dataframe\">\n",
       "  <thead>\n",
       "    <tr style=\"text-align: right;\">\n",
       "      <th></th>\n",
       "      <th>count</th>\n",
       "      <th>variance</th>\n",
       "    </tr>\n",
       "  </thead>\n",
       "  <tbody>\n",
       "    <tr>\n",
       "      <th>[-inf, 0.0)</th>\n",
       "      <td>0.0</td>\n",
       "      <td>0.0</td>\n",
       "    </tr>\n",
       "    <tr>\n",
       "      <th>[0.0, 0.148936)</th>\n",
       "      <td>0.0</td>\n",
       "      <td>0.0</td>\n",
       "    </tr>\n",
       "    <tr>\n",
       "      <th>[0.148936, 0.297872)</th>\n",
       "      <td>0.0</td>\n",
       "      <td>0.0</td>\n",
       "    </tr>\n",
       "    <tr>\n",
       "      <th>[0.297872, 0.44680800000000004)</th>\n",
       "      <td>0.0</td>\n",
       "      <td>0.0</td>\n",
       "    </tr>\n",
       "    <tr>\n",
       "      <th>[0.44680800000000004, 0.595744)</th>\n",
       "      <td>0.0</td>\n",
       "      <td>0.0</td>\n",
       "    </tr>\n",
       "    <tr>\n",
       "      <th>...</th>\n",
       "      <td>...</td>\n",
       "      <td>...</td>\n",
       "    </tr>\n",
       "    <tr>\n",
       "      <th>[595.1482560000001, 595.297192)</th>\n",
       "      <td>0.0</td>\n",
       "      <td>0.0</td>\n",
       "    </tr>\n",
       "    <tr>\n",
       "      <th>[595.297192, 595.446128)</th>\n",
       "      <td>0.0</td>\n",
       "      <td>0.0</td>\n",
       "    </tr>\n",
       "    <tr>\n",
       "      <th>[595.446128, 595.5950640000001)</th>\n",
       "      <td>0.0</td>\n",
       "      <td>0.0</td>\n",
       "    </tr>\n",
       "    <tr>\n",
       "      <th>[595.5950640000001, 595.744)</th>\n",
       "      <td>0.0</td>\n",
       "      <td>0.0</td>\n",
       "    </tr>\n",
       "    <tr>\n",
       "      <th>[595.744, inf)</th>\n",
       "      <td>16.0</td>\n",
       "      <td>16.0</td>\n",
       "    </tr>\n",
       "  </tbody>\n",
       "</table>\n",
       "<p>4002 rows × 2 columns</p>\n",
       "</div>"
      ],
      "text/plain": [
       "                                 count  variance\n",
       "[-inf, 0.0)                        0.0       0.0\n",
       "[0.0, 0.148936)                    0.0       0.0\n",
       "[0.148936, 0.297872)               0.0       0.0\n",
       "[0.297872, 0.44680800000000004)    0.0       0.0\n",
       "[0.44680800000000004, 0.595744)    0.0       0.0\n",
       "...                                ...       ...\n",
       "[595.1482560000001, 595.297192)    0.0       0.0\n",
       "[595.297192, 595.446128)           0.0       0.0\n",
       "[595.446128, 595.5950640000001)    0.0       0.0\n",
       "[595.5950640000001, 595.744)       0.0       0.0\n",
       "[595.744, inf)                    16.0      16.0\n",
       "\n",
       "[4002 rows x 2 columns]"
      ]
     },
     "execution_count": 4,
     "metadata": {},
     "output_type": "execute_result"
    }
   ],
   "source": [
    "#Simple code to read data (this should be done though forming dictionaries, see above)\n",
    "import numpy as np\n",
    "\n",
    "# Open a histogram \n",
    "hist=file[\"Nearline\"+\"/\"+\"AllStations\"+\"/\"+\"AllTime/Digits/hitTime\"] # load histogram (again should be in a clever loop to avoid manually typing all histos names)\n",
    "print(\"\\nhist is a TH1F object\", hist)\n",
    "\n",
    "# the histogram in the numpy format (bin edges and frequencies)\n",
    "hist_data_np = hist.numpy() \n",
    "print(hist_data_np)\n",
    "counts, edges = hist_data_np[0], hist_data_np[1] # len(edges) = len(counts) + 1 \n",
    "print(\"\\nJust loaded\", int(np.sum(counts)), \"tracks !!! Overflows/Underflows not included!!!!\")\n",
    "\n",
    "# BONUS: the histogram in the pandas format (bin edges and frequencies)\n",
    "hist_data = hist.pandas()\n",
    "hist_data # nice printing only works in JupyetLab (use print() in the .py file https://stackoverflow.com/questions/38487945/how-to-print-a-df-in-terminal-without-loosing-format)"
   ]
  },
  {
   "cell_type": "code",
   "execution_count": 8,
   "metadata": {},
   "outputs": [
    {
     "data": {
      "image/png": "[encoded data removed]",
      "text/plain": [
       "<Figure size 432x288 with 1 Axes>"
      ]
     },
     "metadata": {
      "needs_background": "light"
     },
     "output_type": "display_data"
    }
   ],
   "source": [
    "%matplotlib inline\n",
    "import matplotlib.pyplot as plt\n",
    "binW=edges[1] - edges[0] # fndd bin wdith \n",
    "binC=np.linspace(edges[0]+binW/2, edges[-1]-binW/2, len(counts)) # form array of bin centeres\n",
    "plt.hist(binC, weights=counts, bins=100);# plot our historgram "
   ]
  },
  {
   "cell_type": "markdown",
   "metadata": {},
   "source": [
    "## 4) Read NTuple"
   ]
  },
  {
   "cell_type": "code",
   "execution_count": 55,
   "metadata": {},
   "outputs": [
    {
     "name": "stdout",
     "output_type": "stream",
     "text": [
      "\n",
      "branch is a TBranch object <TBranch b'gpsTime_first' at 0x000113fa6550>\n",
      "Total enties 3\n",
      "[1575757867 1575757884 1575757900]\n"
     ]
    }
   ],
   "source": [
    "# Open a Tree\n",
    "branch=ntuple[\"gpsTime_first\"] # load a brnach (again should be in a clever loop to avoid manually typing all tuple names)\n",
    "print(\"\\nbranch is a TBranch object\", branch)\n",
    "\n",
    "# look into branch\n",
    "print(\"Total enties\", branch.numentries)\n",
    "\n",
    "#load into array\n",
    "a=branch.array()\n",
    "print(a)"
   ]
  },
  {
   "cell_type": "code",
   "execution_count": 56,
   "metadata": {},
   "outputs": [
    {
     "name": "stderr",
     "output_type": "stream",
     "text": [
      "ERROR:root:Internal Python error in the inspect module.\n",
      "Below is the traceback from this internal error.\n",
      "\n"
     ]
    },
    {
     "name": "stdout",
     "output_type": "stream",
     "text": [
      "The history saving thread hit an unexpected error (OperationalError('unable to open database file')).History will not be written to the database.Traceback (most recent call last):\n",
      "  File \"/usr/local/Cellar/ipython/7.8.0/libexec/lib/python3.7/site-packages/IPython/core/interactiveshell.py\", line 3326, in run_code\n",
      "    exec(code_obj, self.user_global_ns, self.user_ns)\n",
      "  File \"<ipython-input-56-12b836fffe38>\", line 9, in <module>\n",
      "    data = read_root(target_dir+file_list[0], 'Nearline/Info_ntup')\n",
      "  File \"/Users/gleb/Library/Python/3.7/lib/python/site-packages/root_pandas/readwrite.py\", line 206, in read_root\n",
      "  File \"/Users/gleb/Library/Python/3.7/lib/python/site-packages/root_numpy/_tree.py\", line 55, in list_trees\n",
      "  File \"root_numpy/src/tree.pyx\", line 60, in _librootnumpy.list_trees\n",
      "  File \"root_numpy/src/tree.pyx\", line 51, in _librootnumpy.list_objects\n",
      "OSError: cannot read DATA/Nearline/NearlinePlots_30528.root\n",
      "\n",
      "During handling of the above exception, another exception occurred:\n",
      "\n",
      "Traceback (most recent call last):\n",
      "  File \"/usr/local/Cellar/ipython/7.8.0/libexec/lib/python3.7/site-packages/IPython/core/interactiveshell.py\", line 2040, in showtraceback\n",
      "    stb = value._render_traceback_()\n",
      "AttributeError: 'OSError' object has no attribute '_render_traceback_'\n",
      "\n",
      "During handling of the above exception, another exception occurred:\n",
      "\n",
      "Traceback (most recent call last):\n",
      "  File \"/usr/local/Cellar/ipython/7.8.0/libexec/lib/python3.7/site-packages/IPython/core/ultratb.py\", line 1101, in get_records\n",
      "  File \"/usr/local/Cellar/ipython/7.8.0/libexec/lib/python3.7/site-packages/IPython/core/ultratb.py\", line 319, in wrapped\n",
      "  File \"/usr/local/Cellar/ipython/7.8.0/libexec/lib/python3.7/site-packages/IPython/core/ultratb.py\", line 353, in _fixed_getinnerframes\n",
      "  File \"/usr/local/Cellar/python/3.7.4_1/Frameworks/Python.framework/Versions/3.7/lib/python3.7/inspect.py\", line 1502, in getinnerframes\n",
      "  File \"/usr/local/Cellar/python/3.7.4_1/Frameworks/Python.framework/Versions/3.7/lib/python3.7/inspect.py\", line 1460, in getframeinfo\n",
      "  File \"/usr/local/Cellar/python/3.7.4_1/Frameworks/Python.framework/Versions/3.7/lib/python3.7/inspect.py\", line 696, in getsourcefile\n",
      "  File \"/usr/local/Cellar/python/3.7.4_1/Frameworks/Python.framework/Versions/3.7/lib/python3.7/inspect.py\", line 725, in getmodule\n",
      "  File \"/usr/local/Cellar/python/3.7.4_1/Frameworks/Python.framework/Versions/3.7/lib/python3.7/inspect.py\", line 709, in getabsfile\n",
      "  File \"/usr/local/Cellar/python/3.7.4_1/Frameworks/Python.framework/Versions/3.7/lib/python3.7/posixpath.py\", line 383, in abspath\n",
      "OSError: [Errno 24] Too many open files\n"
     ]
    },
    {
     "name": "stderr",
     "output_type": "stream",
     "text": [
      "Exception in thread IPythonHistorySavingThread:\n",
      "Traceback (most recent call last):\n",
      "  File \"/usr/local/Cellar/ipython/7.8.0/libexec/lib/python3.7/site-packages/IPython/core/history.py\", line 834, in run\n",
      "  File \"</usr/local/Cellar/ipython/7.8.0/libexec/vendor/lib/python3.7/site-packages/decorator.py:decorator-gen-23>\", line 2, in writeout_cache\n",
      "  File \"/usr/local/Cellar/ipython/7.8.0/libexec/lib/python3.7/site-packages/IPython/core/history.py\", line 58, in needs_sqlite\n",
      "  File \"/usr/local/Cellar/ipython/7.8.0/libexec/lib/python3.7/site-packages/IPython/core/history.py\", line 780, in writeout_cache\n",
      "  File \"/usr/local/Cellar/ipython/7.8.0/libexec/lib/python3.7/site-packages/IPython/core/history.py\", line 764, in _writeout_input_cache\n",
      "sqlite3.OperationalError: unable to open database file\n",
      "\n",
      "During handling of the above exception, another exception occurred:\n",
      "\n",
      "Traceback (most recent call last):\n",
      "  File \"/Users/gleb/Library/Python/3.7/lib/python/site-packages/ipykernel/iostream.py\", line 97, in _event_pipe\n",
      "AttributeError: '_thread._local' object has no attribute 'event_pipe'\n",
      "\n",
      "During handling of the above exception, another exception occurred:\n",
      "\n",
      "Traceback (most recent call last):\n",
      "  File \"/usr/local/Cellar/python/3.7.4_1/Frameworks/Python.framework/Versions/3.7/lib/python3.7/threading.py\", line 926, in _bootstrap_inner\n",
      "  File \"</usr/local/Cellar/ipython/7.8.0/libexec/vendor/lib/python3.7/site-packages/decorator.py:decorator-gen-24>\", line 2, in run\n",
      "  File \"/usr/local/Cellar/ipython/7.8.0/libexec/lib/python3.7/site-packages/IPython/core/history.py\", line 58, in needs_sqlite\n",
      "  File \"/usr/local/Cellar/ipython/7.8.0/libexec/lib/python3.7/site-packages/IPython/core/history.py\", line 837, in run\n",
      "  File \"/Users/gleb/Library/Python/3.7/lib/python/site-packages/ipykernel/iostream.py\", line 400, in write\n",
      "  File \"/Users/gleb/Library/Python/3.7/lib/python/site-packages/ipykernel/iostream.py\", line 203, in schedule\n",
      "  File \"/Users/gleb/Library/Python/3.7/lib/python/site-packages/ipykernel/iostream.py\", line 101, in _event_pipe\n",
      "  File \"/usr/local/Cellar/ipython/7.8.0/libexec/vendor/lib/python3.7/site-packages/zmq/sugar/context.py\", line 204, in socket\n",
      "  File \"/usr/local/Cellar/ipython/7.8.0/libexec/vendor/lib/python3.7/site-packages/zmq/sugar/socket.py\", line 59, in __init__\n",
      "  File \"zmq/backend/cython/socket.pyx\", line 328, in zmq.backend.cython.socket.Socket.__init__\n",
      "zmq.error.ZMQError: Too many open files\n",
      "Unhandled exception in thread started by <bound method Thread._bootstrap of <HistorySavingThread(IPythonHistorySavingThread, started 123145467953152)>>\n"
     ]
    },
    {
     "ename": "OSError",
     "evalue": "cannot read DATA/Nearline/NearlinePlots_30528.root",
     "output_type": "error",
     "traceback": [
      "\u001b[0;31m---------------------------------------------------------------------------\u001b[0m"
     ]
    }
   ],
   "source": [
    "# BONUS: Alternative way to get ALL data from Tuples/Trees is with (requires ROOT linking to Python!)\n",
    "import sys,os\n",
    "sys.path.append(os.environ[\"JUPYROOT\"]) # where JUPYROOT is path to ROOT e.g. /usr/local/Cellar/root/6.18.04/lib/root\n",
    "# for Python3 install root_numpy with \"python3 -m pip install --user root_numpy\"\n",
    "import root_numpy # see http://scikit-hep.org/root_numpy/install.html  \n",
    "# for Python3 install root_pandas with \"python3 -m pip install --user root_pandas\"\n",
    "from root_pandas import read_root # see https://github.com/scikit-hep/root_pandas \n",
    "\n",
    "data = read_root(target_dir+file_list[0], 'Nearline/Info_ntup')\n",
    "data"
   ]
  },
  {
   "cell_type": "code",
   "execution_count": null,
   "metadata": {},
   "outputs": [],
   "source": []
  }
 ],
 "metadata": {
  "kernelspec": {
   "display_name": "Python 3",
   "language": "python",
   "name": "python3"
  },
  "language_info": {
   "codemirror_mode": {
    "name": "ipython",
    "version": 3
   },
   "file_extension": ".py",
   "mimetype": "text/x-python",
   "name": "python",
   "nbconvert_exporter": "python",
   "pygments_lexer": "ipython3",
   "version": "3.7.4"
  }
 },
 "nbformat": 4,
 "nbformat_minor": 4
}
