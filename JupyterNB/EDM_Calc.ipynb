{
 "cells": [
  {
   "cell_type": "markdown",
   "metadata": {
    "Collapsed": "false"
   },
   "source": [
    "# Predict the observed amplitude, A, of $\\theta_y$ in simulation."
   ]
  },
  {
   "cell_type": "markdown",
   "metadata": {
    "Collapsed": "false"
   },
   "source": [
    "Define constants"
   ]
  },
  {
   "cell_type": "code",
   "execution_count": 11,
   "metadata": {
    "Collapsed": "false"
   },
   "outputs": [],
   "source": [
    "from math import sqrt, radians, atan2, tan, degrees\n",
    "from IPython.display import Latex\n",
    "# Physics\n",
    "c_light=299792458. # m/s \n",
    "mMuon = 105.6583745 # MeV \n",
    "aMuon= 11659208.9e-10  \n",
    "h_bar= 1.054571817e-34 # J/s\n",
    "MeV_to_kg = 1.79e-30 # MeV -> kg conversion factor \n",
    "cm_to_m = 1e-2 # cm -> m conversion factor \n",
    "\n",
    "#Simulation pars (input and measured)\n",
    "eMuon = 5.4e-18 # e.cm (30xBNL_limit)\n",
    "# eMuon = 1.8e-19 # e.cm (BNL_limit)\n",
    "measured_A=0.18 # mrad // from simulation \n",
    "measured_A_e=0.02 # mrad // from simulation"
   ]
  },
  {
   "cell_type": "markdown",
   "metadata": {
    "Collapsed": "false"
   },
   "source": [
    "One-step equation, $A=0.13\\tan^{-1}(\\frac{2d_{\\mu}\\beta m_{\\mu}c}{a_{\\mu}\\gamma e \\hbar})$, below are steps"
   ]
  },
  {
   "cell_type": "code",
   "execution_count": 20,
   "metadata": {
    "Collapsed": "false"
   },
   "outputs": [
    {
     "name": "stdout",
     "output_type": "stream",
     "text": [
      "Expected A=0.22 [mrad]\n",
      "Observed A=0.18 ± 0.02 [mrad]\n"
     ]
    }
   ],
   "source": [
    "gamma_fast=29.303431969091314\n",
    "beta_fast=sqrt(1-1/gamma_fast)\n",
    "A_fast =  0.13 * atan2( (2*eMuon*cm_to_m*beta_fast*mMuon*MeV_to_kg*c_light), (aMuon*h_bar*gamma_fast) )\n",
    "print(\"Expected A={0:.2f} [mrad]\".format(A_fast*1e3))\n",
    "print(\"Observed A={0:.2f} ± {1:.2f} [mrad]\".format(measured_A, measured_A_e))"
   ]
  },
  {
   "cell_type": "markdown",
   "metadata": {
    "Collapsed": "false"
   },
   "source": [
    " $\\eta = \\frac{4d_{\\mu}m_{\\mu}c}{e\\hbar} = \\frac{4d[e\\cdot\\mathrm{cm}][\\rm{cm \\ to \\ m}]m_{\\mu}[\\mathrm{MeV}][\\rm{MeV \\ to \\ kg}]c}{\\hbar}$"
   ]
  },
  {
   "cell_type": "code",
   "execution_count": 13,
   "metadata": {
    "Collapsed": "false"
   },
   "outputs": [
    {
     "data": {
      "text/latex": [
       "$\\eta$=0.00011613289"
      ],
      "text/plain": [
       "<IPython.core.display.Latex object>"
      ]
     },
     "execution_count": 13,
     "metadata": {},
     "output_type": "execute_result"
    }
   ],
   "source": [
    "eta=((4*mMuon*MeV_to_kg*c_light*eMuon*cm_to_m)/ (h_bar) ) # no units \n",
    "Latex(\"$\\eta$={0:.11f}\".format(eta))"
   ]
  },
  {
   "cell_type": "markdown",
   "metadata": {
    "Collapsed": "false"
   },
   "source": [
    "Get the magic $\\beta$ for muons in the ring:"
   ]
  },
  {
   "cell_type": "code",
   "execution_count": 14,
   "metadata": {
    "Collapsed": "false"
   },
   "outputs": [
    {
     "name": "stdout",
     "output_type": "stream",
     "text": [
      "ɣ=29.30343\n",
      "β=0.99942\n"
     ]
    }
   ],
   "source": [
    "# https://cdcvs.fnal.gov/redmine/projects/gm2geom/repository/revisions/develop/entry/common/Gm2Constants_service.cc\n",
    "betaGammaMagicSquared = (1.0 / aMuon)\n",
    "# print(\"betaGammaMagicSquared\", betaGammaMagicSquared)\n",
    "gammaMagicSquared = (1.0 + betaGammaMagicSquared)\n",
    "# print(\"gammaMagicSquared\", gammaMagicSquared)\n",
    "gammaMagic=sqrt(gammaMagicSquared)\n",
    "print(\"ɣ\"+\"={0:.5f}\".format(gammaMagic))\n",
    "\n",
    "# set gamma to gammaMagic\n",
    "gamma = gammaMagic\n",
    "gamma_2 = gamma**2\n",
    "\n",
    "beta= sqrt( 1.0- (1.0/gamma_2) )\n",
    "print(\"β\"+\"={0:.5f}\".format(beta))"
   ]
  },
  {
   "cell_type": "markdown",
   "metadata": {
    "Collapsed": "false"
   },
   "source": [
    "The angle in the muon rest frame (MRF) is $\\delta = \\tan^{-1}(\\frac{\\eta\\beta}{2a_{\\mu}}) $"
   ]
  },
  {
   "cell_type": "code",
   "execution_count": 15,
   "metadata": {
    "Collapsed": "false"
   },
   "outputs": [
    {
     "data": {
      "text/latex": [
       "$\\delta$=0.049733 [rad] =2.849 [deg]"
      ],
      "text/plain": [
       "<IPython.core.display.Latex object>"
      ]
     },
     "execution_count": 15,
     "metadata": {},
     "output_type": "execute_result"
    }
   ],
   "source": [
    "delta = atan2( (eta * beta) , (2 * aMuon) )  # rad \n",
    "Latex(\"$\\delta$\"+\"={:.6f} [rad]\".format(delta)+\" ={:.3f} [deg]\".format(degrees(delta)) )"
   ]
  },
  {
   "cell_type": "markdown",
   "metadata": {
    "Collapsed": "false"
   },
   "source": [
    "The observed $\\delta$ in the lab frame (LF) is $\\delta ' = \\tan^{-1}(\\frac{tan(\\delta)}{\\gamma}) =  \\tan^{-1}( \\frac{\\eta\\beta}{2a_{mu}\\gamma} )$"
   ]
  },
  {
   "cell_type": "code",
   "execution_count": 16,
   "metadata": {
    "Collapsed": "false"
   },
   "outputs": [
    {
     "data": {
      "text/latex": [
       "$\\delta'$=1.699 [mrad]"
      ],
      "text/plain": [
       "<IPython.core.display.Latex object>"
      ]
     },
     "execution_count": 16,
     "metadata": {},
     "output_type": "execute_result"
    }
   ],
   "source": [
    "delta_obs = atan2( (eta*beta),(2*aMuon*gamma) )\n",
    "delta_obs_mrad = delta_obs*1e3\n",
    "Latex(\"$\\delta'$\"+\"={0:.3f} [mrad]\".format(delta_obs_mrad))"
   ]
  },
  {
   "cell_type": "markdown",
   "metadata": {
    "Collapsed": "false"
   },
   "source": [
    "The recorded $A=0.1\\delta '$ due to the tracker acceptance"
   ]
  },
  {
   "cell_type": "code",
   "execution_count": 17,
   "metadata": {
    "Collapsed": "false"
   },
   "outputs": [
    {
     "name": "stdout",
     "output_type": "stream",
     "text": [
      "Expected A=0.22 [mrad]\n",
      "Observed A=0.18 ± 0.02 [mrad]\n"
     ]
    }
   ],
   "source": [
    "A=0.13*delta_obs_mrad\n",
    "print(\"Expected A={0:.2f} [mrad]\".format(A))\n",
    "print(\"Observed A={0:.2f} ± {1:.2f} [mrad]\".format(measured_A, measured_A_e))"
   ]
  },
  {
   "cell_type": "code",
   "execution_count": null,
   "metadata": {
    "Collapsed": "false"
   },
   "outputs": [],
   "source": []
  },
  {
   "cell_type": "code",
   "execution_count": null,
   "metadata": {
    "Collapsed": "false"
   },
   "outputs": [],
   "source": []
  },
  {
   "cell_type": "code",
   "execution_count": null,
   "metadata": {
    "Collapsed": "false"
   },
   "outputs": [],
   "source": []
  }
 ],
 "metadata": {
  "kernelspec": {
   "display_name": "Python 3",
   "language": "python",
   "name": "python3"
  },
  "language_info": {
   "codemirror_mode": {
    "name": "ipython",
    "version": 3
   },
   "file_extension": ".py",
   "mimetype": "text/x-python",
   "name": "python",
   "nbconvert_exporter": "python",
   "pygments_lexer": "ipython3",
   "version": "3.7.6"
  }
 },
 "nbformat": 4,
 "nbformat_minor": 4
}
