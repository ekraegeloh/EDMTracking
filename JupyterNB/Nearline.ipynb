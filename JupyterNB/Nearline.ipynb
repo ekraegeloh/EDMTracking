{
 "cells": [
  {
   "cell_type": "markdown",
   "metadata": {},
   "source": [
    "# Read Nearline data (ROOT) into pandas from ROOT files with NTuples and TH1s"
   ]
  },
  {
   "cell_type": "markdown",
   "metadata": {},
   "source": [
    "## 1) Form a list of ROOT files in the target dir."
   ]
  },
  {
   "cell_type": "code",
   "execution_count": 1,
   "metadata": {},
   "outputs": [
    {
     "name": "stdout",
     "output_type": "stream",
     "text": [
      "Found 2 nearline files for runs: 30528 30529\n"
     ]
    }
   ],
   "source": [
    "import os, re\n",
    "\n",
    "target_dir = \"../DATA/Nearline/\" # TODO impliment as argparse in proper Python code \n",
    "\n",
    "#storage \n",
    "file_list=[] \n",
    "run_list=[]\n",
    "\n",
    "# loop over files in the directroy \n",
    "for file in os.listdir(target_dir):\n",
    "    file_name=file.replace(\".\", \"_\") # make all seperations the same \n",
    "    file_name_split=re.split('_', file_name) # split into e.g. \"NearlinePlots\", \"30528\", \"root\"\n",
    "    if(file_name_split[0] == \"NearlinePlots\"): # check we got a correct file \n",
    "        run_list.append(file_name_split[1]) # form list of all runs \n",
    "        file_list.append(file) # ... of all files \n",
    "\n",
    "print(\"Found\", len(file_list), \"nearline files for runs:\", *run_list) # \"*\" unpacked the list for print function"
   ]
  },
  {
   "cell_type": "markdown",
   "metadata": {},
   "source": [
    "## 2) Loop over the file structure"
   ]
  },
  {
   "cell_type": "code",
   "execution_count": 2,
   "metadata": {},
   "outputs": [
    {
     "name": "stdout",
     "output_type": "stream",
     "text": [
      "\n",
      "In top dir <ROOTDirectory b'AllStations' at 0x000104c220d0> <ROOTDirectory b'station00' at 0x000104c224d0> <ROOTDirectory b'station12' at 0x000104c22850> <ROOTDirectory b'station18' at 0x000104c22a90> <TTree b'Info_ntup' at 0x0001049c9690>\n",
      "\n",
      "Following folders found [<ROOTDirectory b'AllStations' at 0x000104c220d0>, <ROOTDirectory b'station00' at 0x000104c224d0>, <ROOTDirectory b'station12' at 0x000104c22850>, <ROOTDirectory b'station18' at 0x000104c22a90>]\n",
      "\n",
      "Fond trees in the NTuple [b'gpsTime_first', b'gpsTime_first_frac', b'gpsTime_last', b'gpsTime_last_frac', b'nEvents', b'nDigits00', b'nDigits12', b'nDigits18', b'nCandidatesTotal00', b'nCandidatesTotal12', b'nCandidatesTotal18', b'nCandidatesPassQuality00', b'nCandidatesPassQuality12', b'nCandidatesPassQuality18', b'nTracksTotal00', b'nTracksTotal12', b'nTracksTotal18', b'nTracksPassQuality00', b'nTracksPassQuality12', b'nTracksPassQuality18', b'nVerticesTotal00', b'nVerticesTotal12', b'nVerticesTotal18', b'nVerticesPassQuality00', b'nVerticesPassQuality12', b'nVerticesPassQuality18']\n"
     ]
    }
   ],
   "source": [
    "# See https://github.com/scikit-hep/uproot for the manual \n",
    "import uproot # get this module by \"python3 -m pip install uproot\"\n",
    "\n",
    "file = uproot.open(target_dir+\"/\"+file_list[0]) # load the ROOT file\n",
    "\n",
    "top_dir = file[\"Nearline\"] # look into top dir\n",
    "folders_Tuple = top_dir.values() # list of sub-dirs and 1 NTuple \n",
    "print(\"\\nIn top dir\", *folders_Tuple)\n",
    "folders = folders_Tuple[0:-1] # folders only have histograms (e.g. AllStations/Digits/hitTime)\n",
    "print(\"\\nFollowing folders found\", folders)\n",
    "ntuple = folders_Tuple[-1] # this is our single NTuple\n",
    "trees=ntuple.keys()\n",
    "print(\"\\nFond trees in the NTuple\", trees)\n",
    "\n",
    "# TODO there are more and better ways to get TDir, and all objects etc. information see https://github.com/scikit-hep/uproot for the manual \\\n",
    "# TODO form a python dictionary of all availble histograms and Trees, use their names as \"varialbes\" for pandas storage \n",
    "# i.e. you shouldn't have to type them by hand "
   ]
  },
  {
   "cell_type": "code",
   "execution_count": 3,
   "metadata": {},
   "outputs": [
    {
     "data": {
      "text/html": [
       "<img src=\"https://raw.githubusercontent.com/scikit-hep/uproot/master/docs/terminology.png\" height=\"400\"/>"
      ],
      "text/plain": [
       "<IPython.core.display.Image object>"
      ]
     },
     "execution_count": 3,
     "metadata": {},
     "output_type": "execute_result"
    }
   ],
   "source": [
    "from IPython.display import Image\n",
    "from IPython.core.display import HTML \n",
    "Image(url=\"https://raw.githubusercontent.com/scikit-hep/uproot/master/docs/terminology.png\", height=400)"
   ]
  },
  {
   "cell_type": "markdown",
   "metadata": {},
   "source": [
    "## 3) Read one Histogram into pandas"
   ]
  },
  {
   "cell_type": "code",
   "execution_count": 4,
   "metadata": {},
   "outputs": [
    {
     "name": "stdout",
     "output_type": "stream",
     "text": [
      "\n",
      "hist is a TH1F object <b'TH1F' b'hitTime' 0x000104be1470>\n",
      "(array([0., 0., 0., ..., 0., 0., 0.], dtype=float32), array([0.00000000e+00, 1.48936000e-01, 2.97872000e-01, ...,\n",
      "       5.95446128e+02, 5.95595064e+02, 5.95744000e+02]))\n",
      "\n",
      "Just loaded 16 tracks !!! Overflows/Underflows not included!!!!\n"
     ]
    },
    {
     "data": {
      "text/html": [
       "<div>\n",
       "<style scoped>\n",
       "    .dataframe tbody tr th:only-of-type {\n",
       "        vertical-align: middle;\n",
       "    }\n",
       "\n",
       "    .dataframe tbody tr th {\n",
       "        vertical-align: top;\n",
       "    }\n",
       "\n",
       "    .dataframe thead th {\n",
       "        text-align: right;\n",
       "    }\n",
       "</style>\n",
       "<table border=\"1\" class=\"dataframe\">\n",
       "  <thead>\n",
       "    <tr style=\"text-align: right;\">\n",
       "      <th></th>\n",
       "      <th>count</th>\n",
       "      <th>variance</th>\n",
       "    </tr>\n",
       "  </thead>\n",
       "  <tbody>\n",
       "    <tr>\n",
       "      <th>[-inf, 0.0)</th>\n",
       "      <td>0.0</td>\n",
       "      <td>0.0</td>\n",
       "    </tr>\n",
       "    <tr>\n",
       "      <th>[0.0, 0.148936)</th>\n",
       "      <td>0.0</td>\n",
       "      <td>0.0</td>\n",
       "    </tr>\n",
       "    <tr>\n",
       "      <th>[0.148936, 0.297872)</th>\n",
       "      <td>0.0</td>\n",
       "      <td>0.0</td>\n",
       "    </tr>\n",
       "    <tr>\n",
       "      <th>[0.297872, 0.44680800000000004)</th>\n",
       "      <td>0.0</td>\n",
       "      <td>0.0</td>\n",
       "    </tr>\n",
       "    <tr>\n",
       "      <th>[0.44680800000000004, 0.595744)</th>\n",
       "      <td>0.0</td>\n",
       "      <td>0.0</td>\n",
       "    </tr>\n",
       "    <tr>\n",
       "      <th>...</th>\n",
       "      <td>...</td>\n",
       "      <td>...</td>\n",
       "    </tr>\n",
       "    <tr>\n",
       "      <th>[595.1482560000001, 595.297192)</th>\n",
       "      <td>0.0</td>\n",
       "      <td>0.0</td>\n",
       "    </tr>\n",
       "    <tr>\n",
       "      <th>[595.297192, 595.446128)</th>\n",
       "      <td>0.0</td>\n",
       "      <td>0.0</td>\n",
       "    </tr>\n",
       "    <tr>\n",
       "      <th>[595.446128, 595.5950640000001)</th>\n",
       "      <td>0.0</td>\n",
       "      <td>0.0</td>\n",
       "    </tr>\n",
       "    <tr>\n",
       "      <th>[595.5950640000001, 595.744)</th>\n",
       "      <td>0.0</td>\n",
       "      <td>0.0</td>\n",
       "    </tr>\n",
       "    <tr>\n",
       "      <th>[595.744, inf)</th>\n",
       "      <td>16.0</td>\n",
       "      <td>16.0</td>\n",
       "    </tr>\n",
       "  </tbody>\n",
       "</table>\n",
       "<p>4002 rows × 2 columns</p>\n",
       "</div>"
      ],
      "text/plain": [
       "                                 count  variance\n",
       "[-inf, 0.0)                        0.0       0.0\n",
       "[0.0, 0.148936)                    0.0       0.0\n",
       "[0.148936, 0.297872)               0.0       0.0\n",
       "[0.297872, 0.44680800000000004)    0.0       0.0\n",
       "[0.44680800000000004, 0.595744)    0.0       0.0\n",
       "...                                ...       ...\n",
       "[595.1482560000001, 595.297192)    0.0       0.0\n",
       "[595.297192, 595.446128)           0.0       0.0\n",
       "[595.446128, 595.5950640000001)    0.0       0.0\n",
       "[595.5950640000001, 595.744)       0.0       0.0\n",
       "[595.744, inf)                    16.0      16.0\n",
       "\n",
       "[4002 rows x 2 columns]"
      ]
     },
     "execution_count": 4,
     "metadata": {},
     "output_type": "execute_result"
    }
   ],
   "source": [
    "#Simple code to read data (this should be done though forming dictionaries, see above)\n",
    "import numpy as np\n",
    "\n",
    "# Open a histogram \n",
    "hist=file[\"Nearline\"+\"/\"+\"AllStations\"+\"/\"+\"AllTime/Digits/hitTime\"] # load histogram (again should be in a clever loop to avoid manually typing all histos names)\n",
    "print(\"\\nhist is a TH1F object\", hist)\n",
    "\n",
    "# the histogram in the numpy format (bin edges and frequencies)\n",
    "hist_data_np = hist.numpy() \n",
    "print(hist_data_np)\n",
    "counts, edges = hist_data_np[0], hist_data_np[1] # len(edges) = len(counts) + 1 \n",
    "print(\"\\nJust loaded\", int(np.sum(counts)), \"tracks !!! Overflows/Underflows not included!!!!\")\n",
    "\n",
    "# BONUS: the histogram in the pandas format (bin edges and frequencies)\n",
    "hist_data = hist.pandas()\n",
    "hist_data # nice printing only works in JupyetLab (use print() in the .py file https://stackoverflow.com/questions/38487945/how-to-print-a-df-in-terminal-without-loosing-format)"
   ]
  },
  {
   "cell_type": "code",
   "execution_count": 5,
   "metadata": {},
   "outputs": [
    {
     "data": {
      "image/png": "[encoded data removed]",
      "text/plain": [
       "<Figure size 432x288 with 1 Axes>"
      ]
     },
     "metadata": {
      "needs_background": "light"
     },
     "output_type": "display_data"
    }
   ],
   "source": [
    "%matplotlib inline\n",
    "import matplotlib.pyplot as plt\n",
    "binW=edges[1] - edges[0] # fndd bin wdith \n",
    "binC=np.linspace(edges[0]+binW/2, edges[-1]-binW/2, len(counts)) # form array of bin centeres\n",
    "plt.hist(binC, weights=counts, bins=100);# plot our historgram "
   ]
  },
  {
   "cell_type": "markdown",
   "metadata": {},
   "source": [
    "## 4) Read NTuple"
   ]
  },
  {
   "cell_type": "code",
   "execution_count": 6,
   "metadata": {},
   "outputs": [
    {
     "name": "stdout",
     "output_type": "stream",
     "text": [
      "\n",
      "branch is a TBranch object <TBranch b'gpsTime_first' at 0x000104c22b90>\n",
      "Total enties 3\n",
      "[1575757867 1575757884 1575757900]\n"
     ]
    }
   ],
   "source": [
    "# Open a Tree\n",
    "branch=ntuple[\"gpsTime_first\"] # load a brnach (again should be in a clever loop to avoid manually typing all tuple names)\n",
    "print(\"\\nbranch is a TBranch object\", branch)\n",
    "\n",
    "# look into branch\n",
    "print(\"Total enties\", branch.numentries)\n",
    "\n",
    "#load into array\n",
    "a=branch.array()\n",
    "print(a)"
   ]
  },
  {
   "cell_type": "code",
   "execution_count": 7,
   "metadata": {},
   "outputs": [
    {
     "name": "stdout",
     "output_type": "stream",
     "text": [
      "Welcome to JupyROOT 6.18/04\n"
     ]
    },
    {
     "data": {
      "text/html": [
       "<div>\n",
       "<style scoped>\n",
       "    .dataframe tbody tr th:only-of-type {\n",
       "        vertical-align: middle;\n",
       "    }\n",
       "\n",
       "    .dataframe tbody tr th {\n",
       "        vertical-align: top;\n",
       "    }\n",
       "\n",
       "    .dataframe thead th {\n",
       "        text-align: right;\n",
       "    }\n",
       "</style>\n",
       "<table border=\"1\" class=\"dataframe\">\n",
       "  <thead>\n",
       "    <tr style=\"text-align: right;\">\n",
       "      <th></th>\n",
       "      <th>gpsTime_first</th>\n",
       "      <th>gpsTime_first_frac</th>\n",
       "      <th>gpsTime_last</th>\n",
       "      <th>gpsTime_last_frac</th>\n",
       "      <th>nEvents</th>\n",
       "      <th>nDigits00</th>\n",
       "      <th>nDigits12</th>\n",
       "      <th>nDigits18</th>\n",
       "      <th>nCandidatesTotal00</th>\n",
       "      <th>nCandidatesTotal12</th>\n",
       "      <th>...</th>\n",
       "      <th>nTracksTotal18</th>\n",
       "      <th>nTracksPassQuality00</th>\n",
       "      <th>nTracksPassQuality12</th>\n",
       "      <th>nTracksPassQuality18</th>\n",
       "      <th>nVerticesTotal00</th>\n",
       "      <th>nVerticesTotal12</th>\n",
       "      <th>nVerticesTotal18</th>\n",
       "      <th>nVerticesPassQuality00</th>\n",
       "      <th>nVerticesPassQuality12</th>\n",
       "      <th>nVerticesPassQuality18</th>\n",
       "    </tr>\n",
       "  </thead>\n",
       "  <tbody>\n",
       "    <tr>\n",
       "      <th>0</th>\n",
       "      <td>1575757867</td>\n",
       "      <td>568286498</td>\n",
       "      <td>1575757883</td>\n",
       "      <td>4294065096</td>\n",
       "      <td>100</td>\n",
       "      <td>0</td>\n",
       "      <td>7</td>\n",
       "      <td>7</td>\n",
       "      <td>0</td>\n",
       "      <td>0</td>\n",
       "      <td>...</td>\n",
       "      <td>0</td>\n",
       "      <td>0</td>\n",
       "      <td>0</td>\n",
       "      <td>0</td>\n",
       "      <td>0</td>\n",
       "      <td>0</td>\n",
       "      <td>0</td>\n",
       "      <td>0</td>\n",
       "      <td>0</td>\n",
       "      <td>0</td>\n",
       "    </tr>\n",
       "    <tr>\n",
       "      <th>1</th>\n",
       "      <td>1575757884</td>\n",
       "      <td>1101991198</td>\n",
       "      <td>1575757900</td>\n",
       "      <td>3204369788</td>\n",
       "      <td>100</td>\n",
       "      <td>0</td>\n",
       "      <td>0</td>\n",
       "      <td>0</td>\n",
       "      <td>0</td>\n",
       "      <td>0</td>\n",
       "      <td>...</td>\n",
       "      <td>0</td>\n",
       "      <td>0</td>\n",
       "      <td>0</td>\n",
       "      <td>0</td>\n",
       "      <td>0</td>\n",
       "      <td>0</td>\n",
       "      <td>0</td>\n",
       "      <td>0</td>\n",
       "      <td>0</td>\n",
       "      <td>0</td>\n",
       "    </tr>\n",
       "    <tr>\n",
       "      <th>2</th>\n",
       "      <td>1575757900</td>\n",
       "      <td>3247361033</td>\n",
       "      <td>1575757928</td>\n",
       "      <td>1841578255</td>\n",
       "      <td>95</td>\n",
       "      <td>0</td>\n",
       "      <td>9</td>\n",
       "      <td>9</td>\n",
       "      <td>0</td>\n",
       "      <td>0</td>\n",
       "      <td>...</td>\n",
       "      <td>0</td>\n",
       "      <td>0</td>\n",
       "      <td>0</td>\n",
       "      <td>0</td>\n",
       "      <td>0</td>\n",
       "      <td>0</td>\n",
       "      <td>0</td>\n",
       "      <td>0</td>\n",
       "      <td>0</td>\n",
       "      <td>0</td>\n",
       "    </tr>\n",
       "  </tbody>\n",
       "</table>\n",
       "<p>3 rows × 26 columns</p>\n",
       "</div>"
      ],
      "text/plain": [
       "   gpsTime_first  gpsTime_first_frac  gpsTime_last  gpsTime_last_frac  \\\n",
       "0     1575757867           568286498    1575757883         4294065096   \n",
       "1     1575757884          1101991198    1575757900         3204369788   \n",
       "2     1575757900          3247361033    1575757928         1841578255   \n",
       "\n",
       "   nEvents  nDigits00  nDigits12  nDigits18  nCandidatesTotal00  \\\n",
       "0      100          0          7          7                   0   \n",
       "1      100          0          0          0                   0   \n",
       "2       95          0          9          9                   0   \n",
       "\n",
       "   nCandidatesTotal12  ...  nTracksTotal18  nTracksPassQuality00  \\\n",
       "0                   0  ...               0                     0   \n",
       "1                   0  ...               0                     0   \n",
       "2                   0  ...               0                     0   \n",
       "\n",
       "   nTracksPassQuality12  nTracksPassQuality18  nVerticesTotal00  \\\n",
       "0                     0                     0                 0   \n",
       "1                     0                     0                 0   \n",
       "2                     0                     0                 0   \n",
       "\n",
       "   nVerticesTotal12  nVerticesTotal18  nVerticesPassQuality00  \\\n",
       "0                 0                 0                       0   \n",
       "1                 0                 0                       0   \n",
       "2                 0                 0                       0   \n",
       "\n",
       "   nVerticesPassQuality12  nVerticesPassQuality18  \n",
       "0                       0                       0  \n",
       "1                       0                       0  \n",
       "2                       0                       0  \n",
       "\n",
       "[3 rows x 26 columns]"
      ]
     },
     "execution_count": 7,
     "metadata": {},
     "output_type": "execute_result"
    }
   ],
   "source": [
    "# BONUS: Alternative way to get ALL data from Tuples/Trees is with (requires ROOT linking to Python!)\n",
    "import sys,os\n",
    "sys.path.append(os.environ[\"JUPYROOT\"]) # where JUPYROOT is path to ROOT e.g. /usr/local/Cellar/root/6.18.04/lib/root\n",
    "# for Python3 install root_numpy with \"python3 -m pip install --user root_numpy\"\n",
    "import root_numpy # see http://scikit-hep.org/root_numpy/install.html  \n",
    "# for Python3 install root_pandas with \"python3 -m pip install --user root_pandas\"\n",
    "from root_pandas import read_root # see https://github.com/scikit-hep/root_pandas \n",
    "\n",
    "data = read_root(target_dir+file_list[0], 'Nearline/Info_ntup')\n",
    "data"
   ]
  },
  {
   "cell_type": "code",
   "execution_count": 8,
   "metadata": {},
   "outputs": [
    {
     "data": {
      "image/png": "[encoded data removed]",
      "text/plain": [
       "<Figure size 432x288 with 1 Axes>"
      ]
     },
     "metadata": {
      "needs_background": "light"
     },
     "output_type": "display_data"
    }
   ],
   "source": [
    "data[\"gpsTime_first\"].hist();"
   ]
  },
  {
   "cell_type": "code",
   "execution_count": null,
   "metadata": {},
   "outputs": [],
   "source": []
  }
 ],
 "metadata": {
  "kernelspec": {
   "display_name": "Python 3",
   "language": "python",
   "name": "python3"
  },
  "language_info": {
   "codemirror_mode": {
    "name": "ipython",
    "version": 3
   },
   "file_extension": ".py",
   "mimetype": "text/x-python",
   "name": "python",
   "nbconvert_exporter": "python",
   "pygments_lexer": "ipython3",
   "version": "3.7.4"
  }
 },
 "nbformat": 4,
 "nbformat_minor": 4
}
