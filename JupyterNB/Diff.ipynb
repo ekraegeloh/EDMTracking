{
 "cells": [
  {
   "cell_type": "code",
   "execution_count": 2,
   "metadata": {},
   "outputs": [],
   "source": [
    "import os, sys\n",
    "sys.path.append('../CommonUtils/')\n",
    "import CommonUtils as cu\n",
    "\n",
    "import argparse, math\n",
    "from scipy import stats\n",
    "import numpy as np\n",
    "import seaborn as sns\n",
    "import matplotlib.pyplot as plt\n",
    "\n",
    "# np.set_printoptions(precision=15)"
   ]
  },
  {
   "cell_type": "code",
   "execution_count": 3,
   "metadata": {},
   "outputs": [
    {
     "name": "stdout",
     "output_type": "stream",
     "text": [
      "[3.21583139 4.65194631 3.33209    ... 2.55086774 2.88411268 3.63855854]\n"
     ]
    }
   ],
   "source": [
    "dataPY=np.load(\"../DATA/misc/PyEDMBlind.npy\")\n",
    "print(dataPY)"
   ]
  },
  {
   "cell_type": "code",
   "execution_count": 4,
   "metadata": {},
   "outputs": [
    {
     "name": "stdout",
     "output_type": "stream",
     "text": [
      "[3.21583139 4.65194631 3.33209    ... 2.55086774 2.88411268 3.63855854]\n"
     ]
    }
   ],
   "source": [
    "dataC=np.loadtxt(\"../DATA/misc/CEDMBlind.txt\")\n",
    "print(dataC)"
   ]
  },
  {
   "cell_type": "code",
   "execution_count": 5,
   "metadata": {},
   "outputs": [
    {
     "data": {
      "image/png": "[encoded data removed]",
      "text/plain": [
       "<Figure size 432x288 with 1 Axes>"
      ]
     },
     "metadata": {
      "needs_background": "light"
     },
     "output_type": "display_data"
    }
   ],
   "source": [
    "diff=dataC-dataPY\n",
    "ax,legend =cu.plotHist(diff)\n",
    "ax.set_xlabel(xlabel=r\"$\\Delta$(C-Python)\")\n",
    "plt.savefig(\"dif.png\", dpi=300)"
   ]
  },
  {
   "cell_type": "code",
   "execution_count": 6,
   "metadata": {},
   "outputs": [],
   "source": [
    "# Load X vs Y data\n",
    "dataXY=np.load(\"../DATA/misc/dataXY.npy\")\n",
    "x=dataXY[0]\n",
    "y=dataXY[1]\n",
    "# binsX=binsXY[0]\n",
    "# binsY=binsXY[1]\n",
    "font_size=14"
   ]
  },
  {
   "cell_type": "code",
   "execution_count": 7,
   "metadata": {},
   "outputs": [
    {
     "ename": "NameError",
     "evalue": "name 'binsX' is not defined",
     "output_type": "error",
     "traceback": [
      "\u001b[0;31m---------------------------------------------------------------------------\u001b[0m",
      "\u001b[0;31mNameError\u001b[0m                                 Traceback (most recent call last)",
      "\u001b[0;32m<ipython-input-7-60d3da4611f5>\u001b[0m in \u001b[0;36m<module>\u001b[0;34m\u001b[0m\n\u001b[1;32m      4\u001b[0m \u001b[0mjg\u001b[0m\u001b[0;34m.\u001b[0m\u001b[0max_joint\u001b[0m\u001b[0;34m.\u001b[0m\u001b[0mcla\u001b[0m\u001b[0;34m(\u001b[0m\u001b[0;34m)\u001b[0m \u001b[0;31m# clear\u001b[0m\u001b[0;34m\u001b[0m\u001b[0;34m\u001b[0m\u001b[0m\n\u001b[1;32m      5\u001b[0m \u001b[0mplt\u001b[0m\u001b[0;34m.\u001b[0m\u001b[0msca\u001b[0m\u001b[0;34m(\u001b[0m\u001b[0mjg\u001b[0m\u001b[0;34m.\u001b[0m\u001b[0max_joint\u001b[0m\u001b[0;34m)\u001b[0m \u001b[0;31m# join\u001b[0m\u001b[0;34m\u001b[0m\u001b[0;34m\u001b[0m\u001b[0m\n\u001b[0;32m----> 6\u001b[0;31m \u001b[0mplt\u001b[0m\u001b[0;34m.\u001b[0m\u001b[0mhist2d\u001b[0m\u001b[0;34m(\u001b[0m\u001b[0mx\u001b[0m\u001b[0;34m,\u001b[0m \u001b[0my\u001b[0m\u001b[0;34m,\u001b[0m \u001b[0mbins\u001b[0m\u001b[0;34m=\u001b[0m\u001b[0;34m(\u001b[0m\u001b[0mbinsX\u001b[0m\u001b[0;34m,\u001b[0m \u001b[0mbinsY\u001b[0m\u001b[0;34m)\u001b[0m\u001b[0;34m,\u001b[0m \u001b[0mcmap\u001b[0m\u001b[0;34m=\u001b[0m\u001b[0mcmap\u001b[0m\u001b[0;34m)\u001b[0m \u001b[0;31m#add 2D histo on top\u001b[0m\u001b[0;34m\u001b[0m\u001b[0;34m\u001b[0m\u001b[0m\n\u001b[0m\u001b[1;32m      7\u001b[0m \u001b[0;34m\u001b[0m\u001b[0m\n\u001b[1;32m      8\u001b[0m \u001b[0;31m#add color bar with separate axis\u001b[0m\u001b[0;34m\u001b[0m\u001b[0;34m\u001b[0m\u001b[0;34m\u001b[0m\u001b[0m\n",
      "\u001b[0;31mNameError\u001b[0m: name 'binsX' is not defined"
     ]
    },
    {
     "data": {
      "image/png": "[encoded data removed]",
      "text/plain": [
       "<Figure size 432x432 with 3 Axes>"
      ]
     },
     "metadata": {
      "needs_background": "light"
     },
     "output_type": "display_data"
    }
   ],
   "source": [
    "# the return in JointGrid (not axes)\n",
    "# fig : jg.fig, axes : jg.ax_joint\n",
    "jg = sns.jointplot(x=x, y=y)\n",
    "jg.ax_joint.cla() # clear \n",
    "plt.sca(jg.ax_joint) # join \n",
    "plt.hist2d(x, y, bins=(binsX, binsY), cmap=cmap) #add 2D histo on top\n",
    "\n",
    "#add color bar with separate axis \n",
    "cbar_ax = jg.fig.add_axes([1, 0.1, .03, .7])\n",
    "cb = plt.colorbar(cax=cbar_ax)\n",
    "cb.set_label(\"Frequency\", fontsize=font_size)\n",
    "cb.ax.tick_params(labelsize=font_size-1)\n",
    "\n",
    "#Make pretty plot as default\n",
    "jg.ax_joint.tick_params(labelsize=font_size-1)\n",
    "jg.ax_joint.set_ylabel(\"Y\",fontsize=font_size)\n",
    "jg.ax_joint.set_xlabel(\"X\",fontsize=font_size)\n",
    "jg.ax_joint.tick_params(axis='x', which='both', bottom=True, top=False, direction='inout')\n",
    "jg.ax_joint.tick_params(axis='y', which='both', left=True, right=False, direction='inout')\n",
    "jg.ax_joint.minorticks_on()\n",
    "\n",
    "#make space for the colour bar\n",
    "jg.fig.tight_layout(rect=[0.2, 0.1, 0.1, 0.1]) \n",
    "\n",
    "plt.show()"
   ]
  },
  {
   "cell_type": "code",
   "execution_count": null,
   "metadata": {},
   "outputs": [],
   "source": [
    "# x_estimator is np.mean when bins are used\n",
    "# x_ci: \"ci\" for mean, \"sd\" for sd\n",
    "# fit_reg: True for a a regression mode\n",
    "# ci : 95 = 95% CL \n",
    "# n_boot default none=optional, n iterations\n",
    "x_bins=10\n",
    "fit_bool=False\n",
    "ax=sns.regplot(x=x, y=y, x_estimator=np.mean, x_bins=x_bins, fit_reg=fit_bool, ci=95, marker=\"o\", color=\"green\")\n",
    "#plt.savefig(\"CL.png\")"
   ]
  }
 ],
 "metadata": {
  "kernelspec": {
   "display_name": "Python 3",
   "language": "python",
   "name": "python3"
  },
  "language_info": {
   "codemirror_mode": {
    "name": "ipython",
    "version": 3
   },
   "file_extension": ".py",
   "mimetype": "text/x-python",
   "name": "python",
   "nbconvert_exporter": "python",
   "pygments_lexer": "ipython3",
   "version": "3.7.4"
  }
 },
 "nbformat": 4,
 "nbformat_minor": 4
}
