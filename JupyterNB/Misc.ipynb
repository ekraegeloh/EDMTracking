{
 "cells": [
  {
   "cell_type": "code",
   "execution_count": 3,
   "metadata": {
    "Collapsed": "false",
    "collapsed": true,
    "jupyter": {
     "outputs_hidden": true,
     "source_hidden": true
    }
   },
   "outputs": [
    {
     "name": "stdout",
     "output_type": "stream",
     "text": [
      "15650\n",
      "Progress at 0%\n",
      "10 %...\n",
      "20 %...\n",
      "30 %...\n",
      "40 %...\n",
      "50 %...\n",
      "60 %...\n",
      "70 %...\n",
      "80 %...\n",
      "90 %...\n",
      "100 %...\n"
     ]
    }
   ],
   "source": [
    "inputEntries=156503\n",
    "\n",
    "tenth = int(inputEntries / 10)\n",
    "\n",
    "print(tenth)\n",
    "\n",
    "tenth_counter = 1\n",
    "print(\"Progress at 0%\")\n",
    "for entry in range(inputEntries):\n",
    "        if ( entry+1 == tenth_counter*tenth ):\n",
    "          print(tenth_counter * 10, \"%...\")\n",
    "          tenth_counter=tenth_counter+1;\n",
    "   "
   ]
  },
  {
   "cell_type": "code",
   "execution_count": 1,
   "metadata": {
    "Collapsed": "false"
   },
   "outputs": [],
   "source": [
    "import pandas as pd\n",
    "import numpy as np\n",
    "import sys\n",
    "sys.path.append('../CommonUtils/') # https://github.com/glukicov/EDMTracking/tree/master/CommonUtils\n",
    "import CommonUtils as cu\n",
    "font_size=16"
   ]
  },
  {
   "cell_type": "code",
   "execution_count": 5,
   "metadata": {
    "Collapsed": "false"
   },
   "outputs": [],
   "source": [
    "path=\"../DATA/HDF/MMA/9D.h5\"\n",
    "data_tracks = pd.read_hdf(path, 'QualityTracks')\n",
    "data_verticies = pd.read_hdf(path, 'QualityVertices')"
   ]
  },
  {
   "cell_type": "code",
   "execution_count": 10,
   "metadata": {
    "Collapsed": "false"
   },
   "outputs": [
    {
     "data": {
      "text/html": [
       "<div>\n",
       "<style scoped>\n",
       "    .dataframe tbody tr th:only-of-type {\n",
       "        vertical-align: middle;\n",
       "    }\n",
       "\n",
       "    .dataframe tbody tr th {\n",
       "        vertical-align: top;\n",
       "    }\n",
       "\n",
       "    .dataframe thead th {\n",
       "        text-align: right;\n",
       "    }\n",
       "</style>\n",
       "<table border=\"1\" class=\"dataframe\">\n",
       "  <thead>\n",
       "    <tr style=\"text-align: right;\">\n",
       "      <th></th>\n",
       "      <th>Unnamed: 0</th>\n",
       "      <th>Cut</th>\n",
       "      <th>N</th>\n",
       "      <th>A_bz</th>\n",
       "      <th>A_edm</th>\n",
       "      <th>chi2</th>\n",
       "    </tr>\n",
       "  </thead>\n",
       "  <tbody>\n",
       "    <tr>\n",
       "      <th>0</th>\n",
       "      <td>0</td>\n",
       "      <td>1500&lt;p&lt;3100</td>\n",
       "      <td>2183667</td>\n",
       "      <td>-0.054547</td>\n",
       "      <td>0.158951</td>\n",
       "      <td>1.394932</td>\n",
       "    </tr>\n",
       "    <tr>\n",
       "      <th>1</th>\n",
       "      <td>1</td>\n",
       "      <td>1600&lt;p&lt;3100</td>\n",
       "      <td>1909299</td>\n",
       "      <td>-0.045982</td>\n",
       "      <td>0.164984</td>\n",
       "      <td>1.331251</td>\n",
       "    </tr>\n",
       "    <tr>\n",
       "      <th>2</th>\n",
       "      <td>2</td>\n",
       "      <td>1700&lt;p&lt;3100</td>\n",
       "      <td>1647119</td>\n",
       "      <td>-0.025605</td>\n",
       "      <td>0.160380</td>\n",
       "      <td>0.936203</td>\n",
       "    </tr>\n",
       "    <tr>\n",
       "      <th>3</th>\n",
       "      <td>3</td>\n",
       "      <td>1800&lt;p&lt;3100</td>\n",
       "      <td>1403231</td>\n",
       "      <td>-0.022231</td>\n",
       "      <td>0.134676</td>\n",
       "      <td>0.945260</td>\n",
       "    </tr>\n",
       "    <tr>\n",
       "      <th>4</th>\n",
       "      <td>4</td>\n",
       "      <td>1900&lt;p&lt;3100</td>\n",
       "      <td>1178812</td>\n",
       "      <td>-0.009816</td>\n",
       "      <td>0.132619</td>\n",
       "      <td>0.870143</td>\n",
       "    </tr>\n",
       "    <tr>\n",
       "      <th>5</th>\n",
       "      <td>5</td>\n",
       "      <td>2000&lt;p&lt;3100</td>\n",
       "      <td>974660</td>\n",
       "      <td>-0.004299</td>\n",
       "      <td>0.130666</td>\n",
       "      <td>1.377958</td>\n",
       "    </tr>\n",
       "  </tbody>\n",
       "</table>\n",
       "</div>"
      ],
      "text/plain": [
       "   Unnamed: 0          Cut        N      A_bz     A_edm      chi2\n",
       "0           0  1500<p<3100  2183667 -0.054547  0.158951  1.394932\n",
       "1           1  1600<p<3100  1909299 -0.045982  0.164984  1.331251\n",
       "2           2  1700<p<3100  1647119 -0.025605  0.160380  0.936203\n",
       "3           3  1800<p<3100  1403231 -0.022231  0.134676  0.945260\n",
       "4           4  1900<p<3100  1178812 -0.009816  0.132619  0.870143\n",
       "5           5  2000<p<3100   974660 -0.004299  0.130666  1.377958"
      ]
     },
     "execution_count": 10,
     "metadata": {},
     "output_type": "execute_result"
    }
   ],
   "source": [
    "df=pd.read_csv(\"../DATA/misc/df_cuts_bz.csv\")\n",
    "df"
   ]
  },
  {
   "cell_type": "code",
   "execution_count": 11,
   "metadata": {
    "Collapsed": "false"
   },
   "outputs": [
    {
     "data": {
      "text/plain": [
       "(14628671, 5089097)"
      ]
     },
     "execution_count": 11,
     "metadata": {},
     "output_type": "execute_result"
    }
   ],
   "source": [
    "data_tracks.shape[0], data_verticies.shape[0]"
   ]
  },
  {
   "cell_type": "code",
   "execution_count": 12,
   "metadata": {
    "Collapsed": "false"
   },
   "outputs": [
    {
     "data": {
      "image/png": "[encoded data removed]",
      "text/plain": [
       "<Figure size 576x360 with 1 Axes>"
      ]
     },
     "metadata": {
      "needs_background": "light"
     },
     "output_type": "display_data"
    }
   ],
   "source": [
    "# fig, ax = cu.plot(df['Cut'], NA_2_edm, fs=font_size, label=r\"$NA^2_{\\rm{EDM}}$\", lw=2, tight=True, figsize=(8,5), plot=True)\n",
    "fig, ax = cu.plot(df['Cut'],  df['N'], fs=font_size, label=\"N\", lw=2, tight=True, figsize=(8,5), ls=\"--\", c=\"r\", plot=True)\n",
    "# fig, ax = cu.plot(df['Cut'],  df['A_edm'], fs=font_size, label=r\"$A_{\\rm{EDM}}$\", lw=2, tight=True, figsize=(8,5), ls=\":\", c=\"k\")\n",
    "ax.set_xlabel(xlabel=\"Momentum cuts [MeV]\", fontsize=font_size)\n",
    "ax.set_ylabel(ylabel=r\"$NA^2$\", fontsize=font_size)\n",
    "ax.legend(fontsize=font_size)\n",
    "for tick in ax.get_xticklabels():\n",
    "    tick.set_rotation(45)\n",
    "ax.set_yscale('log')\n",
    "fig.savefig(\"../fig/NA_edm.png\", dpi=300)"
   ]
  },
  {
   "cell_type": "code",
   "execution_count": 13,
   "metadata": {
    "Collapsed": "false"
   },
   "outputs": [],
   "source": [
    "NA_2_bz = df['N'] * df['A_bz'] ** 2"
   ]
  },
  {
   "cell_type": "code",
   "execution_count": 14,
   "metadata": {
    "Collapsed": "false"
   },
   "outputs": [
    {
     "data": {
      "image/png": "[encoded data removed]",
      "text/plain": [
       "<Figure size 576x360 with 1 Axes>"
      ]
     },
     "metadata": {
      "needs_background": "light"
     },
     "output_type": "display_data"
    }
   ],
   "source": [
    "# fig, ax = cu.plotScatter(df['Cut'], NA_2_bz, font_size=font_size, label=r\"$NA^2_{\\rm{B_z}}$\", lw=2, tight=True, figsize=(8,5))\n",
    "# fig, ax = cu.plotScatter(df['Cut'], df['N'], font_size=font_size, label=r\"N\", lw=2, tight=True, figsize=(8,5), ls=\"--\", input_color=\"r\")\n",
    "fig, ax = cu.plot(df['Cut'], df['A_bz'], fs=font_size, label=r\"$A_{\\rm{B_z}}$\", lw=2, tight=True, figsize=(8,5), ls=\"--\", c=\"k\", plot=True)\n",
    "ax.set_xlabel(xlabel=\"Momentum cuts [MeV]\", fontsize=font_size)\n",
    "ax.set_ylabel(ylabel=r\"$NA^2$\", fontsize=font_size)\n",
    "ax.legend(fontsize=font_size)\n",
    "for tick in ax.get_xticklabels():\n",
    "    tick.set_rotation(45)\n",
    "# ax.set_yscale('log')\n",
    "fig.savefig(\"../fig/NA_edm.png\", dpi=300)"
   ]
  },
  {
   "cell_type": "markdown",
   "metadata": {
    "Collapsed": "false"
   },
   "source": [
    "$$N(t)=Ne^{-t/\\tau}[1+A\\cos(\\omega_at+\\phi)]\\cdot{C(t)}\\cdot{V(t)}$$\n",
    "$$ V(t) = 1.0 + e^{-t / \\rm{T_{vBO}} }  \\rm{A_{vBO}} \\cos( \\rm{WV_{vBO}} \\cdot t + \\phi_{\\rm{vBO}} ) $$\n",
    "$$  C(t) = 1.0 + e^{-t / \\rm{T_{CBO}}}\\rm{A_{CBO}} \\cos(\\omega_{\\rm{CBO}} t + \\phi_{\\rm{CBO}}) $$"
   ]
  },
  {
   "cell_type": "code",
   "execution_count": 26,
   "metadata": {
    "Collapsed": "false"
   },
   "outputs": [],
   "source": [
    "data=pd.read_csv(\"../DATA/scans/scan.csv\")"
   ]
  },
  {
   "cell_type": "code",
   "execution_count": 27,
   "metadata": {
    "Collapsed": "false"
   },
   "outputs": [
    {
     "data": {
      "text/plain": [
       "0     2804\n",
       "1     2804\n",
       "2     2794\n",
       "3     2794\n",
       "4     2784\n",
       "      ... \n",
       "77    2424\n",
       "78    2414\n",
       "79    2414\n",
       "80    2404\n",
       "81    2404\n",
       "Name: ndf, Length: 82, dtype: int64"
      ]
     },
     "execution_count": 27,
     "metadata": {},
     "output_type": "execute_result"
    }
   ],
   "source": [
    "data['ndf']"
   ]
  },
  {
   "cell_type": "code",
   "execution_count": null,
   "metadata": {
    "Collapsed": "false"
   },
   "outputs": [],
   "source": []
  }
 ],
 "metadata": {
  "kernelspec": {
   "display_name": "Python 3",
   "language": "python",
   "name": "python3"
  },
  "language_info": {
   "codemirror_mode": {
    "name": "ipython",
    "version": 3
   },
   "file_extension": ".py",
   "mimetype": "text/x-python",
   "name": "python",
   "nbconvert_exporter": "python",
   "pygments_lexer": "ipython3",
   "version": "3.7.6"
  }
 },
 "nbformat": 4,
 "nbformat_minor": 4
}
