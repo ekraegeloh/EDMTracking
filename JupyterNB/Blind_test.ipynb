{
 "cells": [
  {
   "cell_type": "code",
   "execution_count": 1,
   "metadata": {
    "Collapsed": "false"
   },
   "outputs": [
    {
     "name": "stdout",
     "output_type": "stream",
     "text": [
      "Welcome to JupyROOT 6.18/04\n"
     ]
    }
   ],
   "source": [
    "import numpy as np\n",
    "import pandas as pd\n",
    "import matplotlib.pyplot as plt\n",
    "%matplotlib inline\n",
    "import os, sys\n",
    "from scipy import optimize\n",
    "sys.path.append(\"../CommonUtils/\") # https://github.com/glukicov/EDMTracking/blob/master/CommonUtils/CommonUtils.py\n",
    "import CommonUtils as cu\n",
    "import RUtils as ru"
   ]
  },
  {
   "cell_type": "code",
   "execution_count": 2,
   "metadata": {
    "Collapsed": "false"
   },
   "outputs": [
    {
     "name": "stdout",
     "output_type": "stream",
     "text": [
      "Starting and end times: 4.5 to 100 us\n",
      "Momentum cuts: 1800 to 3100 MeV\n",
      "Magic omega set to 1.43934 MHz\n",
      "g-2 period  4.365 us\n",
      "Setting bin width of 10.0 ns with 437 bins\n",
      "Starting pars count (N, tau, A, phi): 5000 64 -0.4 6\n",
      "Starting pars TRUTH theta (A_Bz, A_edm, c): 0.0 0.17 0.0\n",
      "Starting pars theta blinded (A_Bz, A_edm, c): 1.0 1.0 1.0\n"
     ]
    }
   ],
   "source": [
    "font_size=14 # for plots \n",
    "\n",
    "t_min = 4.5 # us  #TODO 30 for data \n",
    "t_max = 100 # us \n",
    "print(\"Starting and end times:\", t_min, \"to\", t_max, \"us\")\n",
    "p_min = 1800 # MeV \n",
    "p_max = 3100 # MeV \n",
    "print(\"Momentum cuts:\", p_min, \"to\", p_max, \"MeV\")\n",
    "\n",
    "omega_a = 1.43934 # MHz (magic)\n",
    "cu._omega=omega_a #for BNL fits\n",
    "print(\"Magic omega set to\", cu._omega, \"MHz\")\n",
    "\n",
    "g2period = 2*np.pi / omega_a   # 4.3653 us \n",
    "print(\"g-2 period \", round(g2period, 3), \"us\")\n",
    "if(t_min<g2period):\n",
    "    raise Exception(\"Set t_min>g2period for EDM reflection blidning to work\")\n",
    "\n",
    "bin_w = 10*1e-3 # 10 ns \n",
    "bin_n = int( round(g2period/bin_w) )\n",
    "print(\"Setting bin width of\", bin_w*1e3, \"ns with\", bin_n, \"bins\")\n",
    "\n",
    "p0_count=(5000, 64, -0.4, 6)\n",
    "print(\"Starting pars count (N, tau, A, phi):\", *p0_count)\n",
    "p0_theta_truth=(0.00, 0.17, 0.0)\n",
    "print(\"Starting pars TRUTH theta (A_Bz, A_edm, c):\", *p0_theta_truth)\n",
    "p0_theta_blinded=(1.0, 1.0, 1.0) \n",
    "print(\"Starting pars theta blinded (A_Bz, A_edm, c):\", *p0_theta_blinded)"
   ]
  },
  {
   "cell_type": "code",
   "execution_count": 3,
   "metadata": {
    "Collapsed": "false"
   },
   "outputs": [
    {
     "data": {
      "text/html": [
       "<div>\n",
       "<style scoped>\n",
       "    .dataframe tbody tr th:only-of-type {\n",
       "        vertical-align: middle;\n",
       "    }\n",
       "\n",
       "    .dataframe tbody tr th {\n",
       "        vertical-align: top;\n",
       "    }\n",
       "\n",
       "    .dataframe thead th {\n",
       "        text-align: right;\n",
       "    }\n",
       "</style>\n",
       "<table border=\"1\" class=\"dataframe\">\n",
       "  <thead>\n",
       "    <tr style=\"text-align: right;\">\n",
       "      <th></th>\n",
       "      <th>index</th>\n",
       "      <th>trackT0</th>\n",
       "      <th>station</th>\n",
       "      <th>trackMomentum</th>\n",
       "      <th>trackMomentumY</th>\n",
       "      <th>mod_times</th>\n",
       "      <th>theta_y_mrad</th>\n",
       "    </tr>\n",
       "  </thead>\n",
       "  <tbody>\n",
       "    <tr>\n",
       "      <th>0</th>\n",
       "      <td>2</td>\n",
       "      <td>80.277852</td>\n",
       "      <td>18</td>\n",
       "      <td>2544.615967</td>\n",
       "      <td>-59.835049</td>\n",
       "      <td>1.702021</td>\n",
       "      <td>-23.510041</td>\n",
       "    </tr>\n",
       "    <tr>\n",
       "      <th>1</th>\n",
       "      <td>3</td>\n",
       "      <td>42.755086</td>\n",
       "      <td>0</td>\n",
       "      <td>2182.920654</td>\n",
       "      <td>15.766864</td>\n",
       "      <td>3.467171</td>\n",
       "      <td>7.222704</td>\n",
       "    </tr>\n",
       "    <tr>\n",
       "      <th>2</th>\n",
       "      <td>6</td>\n",
       "      <td>10.879105</td>\n",
       "      <td>12</td>\n",
       "      <td>2120.369385</td>\n",
       "      <td>-8.798045</td>\n",
       "      <td>2.148458</td>\n",
       "      <td>-4.149274</td>\n",
       "    </tr>\n",
       "    <tr>\n",
       "      <th>3</th>\n",
       "      <td>18</td>\n",
       "      <td>11.418941</td>\n",
       "      <td>0</td>\n",
       "      <td>2252.512695</td>\n",
       "      <td>1.755878</td>\n",
       "      <td>2.688294</td>\n",
       "      <td>0.779520</td>\n",
       "    </tr>\n",
       "    <tr>\n",
       "      <th>4</th>\n",
       "      <td>23</td>\n",
       "      <td>59.367961</td>\n",
       "      <td>12</td>\n",
       "      <td>1947.019653</td>\n",
       "      <td>-30.768492</td>\n",
       "      <td>2.618750</td>\n",
       "      <td>-15.801551</td>\n",
       "    </tr>\n",
       "    <tr>\n",
       "      <th>...</th>\n",
       "      <td>...</td>\n",
       "      <td>...</td>\n",
       "      <td>...</td>\n",
       "      <td>...</td>\n",
       "      <td>...</td>\n",
       "      <td>...</td>\n",
       "      <td>...</td>\n",
       "    </tr>\n",
       "    <tr>\n",
       "      <th>1013831</th>\n",
       "      <td>5483773</td>\n",
       "      <td>34.607676</td>\n",
       "      <td>18</td>\n",
       "      <td>1846.266602</td>\n",
       "      <td>5.874977</td>\n",
       "      <td>4.050408</td>\n",
       "      <td>3.182074</td>\n",
       "    </tr>\n",
       "    <tr>\n",
       "      <th>1013832</th>\n",
       "      <td>5483776</td>\n",
       "      <td>70.492133</td>\n",
       "      <td>18</td>\n",
       "      <td>2016.368164</td>\n",
       "      <td>17.139523</td>\n",
       "      <td>0.646950</td>\n",
       "      <td>8.499990</td>\n",
       "    </tr>\n",
       "    <tr>\n",
       "      <th>1013833</th>\n",
       "      <td>5483788</td>\n",
       "      <td>33.120555</td>\n",
       "      <td>12</td>\n",
       "      <td>2171.714844</td>\n",
       "      <td>12.780183</td>\n",
       "      <td>2.563287</td>\n",
       "      <td>5.884767</td>\n",
       "    </tr>\n",
       "    <tr>\n",
       "      <th>1013834</th>\n",
       "      <td>5483789</td>\n",
       "      <td>82.543117</td>\n",
       "      <td>12</td>\n",
       "      <td>1940.134521</td>\n",
       "      <td>43.934719</td>\n",
       "      <td>3.967287</td>\n",
       "      <td>22.641322</td>\n",
       "    </tr>\n",
       "    <tr>\n",
       "      <th>1013835</th>\n",
       "      <td>5483793</td>\n",
       "      <td>21.286004</td>\n",
       "      <td>18</td>\n",
       "      <td>1840.056641</td>\n",
       "      <td>-38.210846</td>\n",
       "      <td>3.824708</td>\n",
       "      <td>-20.763140</td>\n",
       "    </tr>\n",
       "  </tbody>\n",
       "</table>\n",
       "<p>1013836 rows × 7 columns</p>\n",
       "</div>"
      ],
      "text/plain": [
       "           index    trackT0  station  trackMomentum  trackMomentumY  \\\n",
       "0              2  80.277852       18    2544.615967      -59.835049   \n",
       "1              3  42.755086        0    2182.920654       15.766864   \n",
       "2              6  10.879105       12    2120.369385       -8.798045   \n",
       "3             18  11.418941        0    2252.512695        1.755878   \n",
       "4             23  59.367961       12    1947.019653      -30.768492   \n",
       "...          ...        ...      ...            ...             ...   \n",
       "1013831  5483773  34.607676       18    1846.266602        5.874977   \n",
       "1013832  5483776  70.492133       18    2016.368164       17.139523   \n",
       "1013833  5483788  33.120555       12    2171.714844       12.780183   \n",
       "1013834  5483789  82.543117       12    1940.134521       43.934719   \n",
       "1013835  5483793  21.286004       18    1840.056641      -38.210846   \n",
       "\n",
       "         mod_times  theta_y_mrad  \n",
       "0         1.702021    -23.510041  \n",
       "1         3.467171      7.222704  \n",
       "2         2.148458     -4.149274  \n",
       "3         2.688294      0.779520  \n",
       "4         2.618750    -15.801551  \n",
       "...            ...           ...  \n",
       "1013831   4.050408      3.182074  \n",
       "1013832   0.646950      8.499990  \n",
       "1013833   2.563287      5.884767  \n",
       "1013834   3.967287     22.641322  \n",
       "1013835   3.824708    -20.763140  \n",
       "\n",
       "[1013836 rows x 7 columns]"
      ]
     },
     "execution_count": 3,
     "metadata": {},
     "output_type": "execute_result"
    }
   ],
   "source": [
    "py_data = pd.read_hdf(\"../DATA/HDF/Sim/VLEDM_times.h5\")\n",
    "py_data"
   ]
  },
  {
   "cell_type": "code",
   "execution_count": 4,
   "metadata": {
    "Collapsed": "false"
   },
   "outputs": [],
   "source": [
    "py_t = py_data[\"trackT0\"]\n",
    "py_ang = py_data[\"theta_y_mrad\"]"
   ]
  },
  {
   "cell_type": "code",
   "execution_count": 5,
   "metadata": {
    "Collapsed": "false"
   },
   "outputs": [
    {
     "data": {
      "text/html": [
       "<div>\n",
       "<style scoped>\n",
       "    .dataframe tbody tr th:only-of-type {\n",
       "        vertical-align: middle;\n",
       "    }\n",
       "\n",
       "    .dataframe tbody tr th {\n",
       "        vertical-align: top;\n",
       "    }\n",
       "\n",
       "    .dataframe thead th {\n",
       "        text-align: right;\n",
       "    }\n",
       "</style>\n",
       "<table border=\"1\" class=\"dataframe\">\n",
       "  <thead>\n",
       "    <tr style=\"text-align: right;\">\n",
       "      <th></th>\n",
       "      <th>t</th>\n",
       "      <th>ang</th>\n",
       "      <th>tMod</th>\n",
       "      <th>weight</th>\n",
       "    </tr>\n",
       "  </thead>\n",
       "  <tbody>\n",
       "    <tr>\n",
       "      <th>0</th>\n",
       "      <td>85.9590</td>\n",
       "      <td>-0.065543</td>\n",
       "      <td>-1.37629</td>\n",
       "      <td>0.978738</td>\n",
       "    </tr>\n",
       "    <tr>\n",
       "      <th>1</th>\n",
       "      <td>79.8036</td>\n",
       "      <td>0.192374</td>\n",
       "      <td>1.20095</td>\n",
       "      <td>1.018930</td>\n",
       "    </tr>\n",
       "    <tr>\n",
       "      <th>2</th>\n",
       "      <td>22.7368</td>\n",
       "      <td>0.154646</td>\n",
       "      <td>-3.46955</td>\n",
       "      <td>0.947264</td>\n",
       "    </tr>\n",
       "    <tr>\n",
       "      <th>3</th>\n",
       "      <td>11.1904</td>\n",
       "      <td>0.012543</td>\n",
       "      <td>2.44947</td>\n",
       "      <td>1.038990</td>\n",
       "    </tr>\n",
       "    <tr>\n",
       "      <th>4</th>\n",
       "      <td>14.5398</td>\n",
       "      <td>0.190097</td>\n",
       "      <td>-2.93384</td>\n",
       "      <td>0.955221</td>\n",
       "    </tr>\n",
       "    <tr>\n",
       "      <th>...</th>\n",
       "      <td>...</td>\n",
       "      <td>...</td>\n",
       "      <td>...</td>\n",
       "      <td>...</td>\n",
       "    </tr>\n",
       "    <tr>\n",
       "      <th>1013831</th>\n",
       "      <td>68.0943</td>\n",
       "      <td>-0.004946</td>\n",
       "      <td>-1.77557</td>\n",
       "      <td>0.972655</td>\n",
       "    </tr>\n",
       "    <tr>\n",
       "      <th>1013832</th>\n",
       "      <td>20.0208</td>\n",
       "      <td>-0.008251</td>\n",
       "      <td>2.54713</td>\n",
       "      <td>1.040580</td>\n",
       "    </tr>\n",
       "    <tr>\n",
       "      <th>1013833</th>\n",
       "      <td>18.9260</td>\n",
       "      <td>0.184442</td>\n",
       "      <td>1.45240</td>\n",
       "      <td>1.022940</td>\n",
       "    </tr>\n",
       "    <tr>\n",
       "      <th>1013834</th>\n",
       "      <td>15.6022</td>\n",
       "      <td>0.002545</td>\n",
       "      <td>-1.87144</td>\n",
       "      <td>0.971200</td>\n",
       "    </tr>\n",
       "    <tr>\n",
       "      <th>1013835</th>\n",
       "      <td>23.8598</td>\n",
       "      <td>0.115196</td>\n",
       "      <td>-2.34653</td>\n",
       "      <td>0.964021</td>\n",
       "    </tr>\n",
       "  </tbody>\n",
       "</table>\n",
       "<p>1013836 rows × 4 columns</p>\n",
       "</div>"
      ],
      "text/plain": [
       "               t       ang     tMod    weight\n",
       "0        85.9590 -0.065543 -1.37629  0.978738\n",
       "1        79.8036  0.192374  1.20095  1.018930\n",
       "2        22.7368  0.154646 -3.46955  0.947264\n",
       "3        11.1904  0.012543  2.44947  1.038990\n",
       "4        14.5398  0.190097 -2.93384  0.955221\n",
       "...          ...       ...      ...       ...\n",
       "1013831  68.0943 -0.004946 -1.77557  0.972655\n",
       "1013832  20.0208 -0.008251  2.54713  1.040580\n",
       "1013833  18.9260  0.184442  1.45240  1.022940\n",
       "1013834  15.6022  0.002545 -1.87144  0.971200\n",
       "1013835  23.8598  0.115196 -2.34653  0.964021\n",
       "\n",
       "[1013836 rows x 4 columns]"
      ]
     },
     "execution_count": 5,
     "metadata": {},
     "output_type": "execute_result"
    }
   ],
   "source": [
    "c_data = pd.read_csv(\"../DATA/misc/C_dump.txt\")\n",
    "c_data"
   ]
  },
  {
   "cell_type": "code",
   "execution_count": 6,
   "metadata": {
    "Collapsed": "false"
   },
   "outputs": [],
   "source": [
    "c_t = c_data[\"t\"]\n",
    "c_ang = c_data[\" ang\"]\n",
    "c_tmod = c_data[\" tMod\"]\n",
    "c_weight = c_data[\" weight\"]"
   ]
  },
  {
   "cell_type": "code",
   "execution_count": 7,
   "metadata": {
    "Collapsed": "false"
   },
   "outputs": [
    {
     "data": {
      "image/png": "[encoded data removed]",
      "text/plain": [
       "<Figure size 432x288 with 1 Axes>"
      ]
     },
     "metadata": {
      "needs_background": "light"
     },
     "output_type": "display_data"
    }
   ],
   "source": [
    "plt.hist(py_ang, bins=120, range=(-50,50));"
   ]
  },
  {
   "cell_type": "code",
   "execution_count": 8,
   "metadata": {
    "Collapsed": "false"
   },
   "outputs": [
    {
     "data": {
      "image/png": "[encoded data removed]",
      "text/plain": [
       "<Figure size 432x288 with 1 Axes>"
      ]
     },
     "metadata": {
      "needs_background": "light"
     },
     "output_type": "display_data"
    }
   ],
   "source": [
    "plt.hist(c_ang, bins=120, range=(-0.40,0.40));"
   ]
  },
  {
   "cell_type": "code",
   "execution_count": 13,
   "metadata": {
    "Collapsed": "false"
   },
   "outputs": [
    {
     "data": {
      "image/png": "[encoded data removed]",
      "text/plain": [
       "<Figure size 432x288 with 1 Axes>"
      ]
     },
     "metadata": {
      "needs_background": "light"
     },
     "output_type": "display_data"
    }
   ],
   "source": [
    "c_tmod_abs=np.abs(c_tmod)\n",
    "h,xedges,yedges,image = plt.hist2d(c_tmod_abs, c_ang, weights=c_weight, bins=200);\n",
    "# h,xedges,yedges,image = plt.hist2d(c_tmod_abs, c_ang,  bins=200);"
   ]
  },
  {
   "cell_type": "code",
   "execution_count": 14,
   "metadata": {
    "Collapsed": "false"
   },
   "outputs": [
    {
     "data": {
      "text/plain": [
       "array([  0.      ,   0.      ,   0.      ,   0.      ,   0.      ,\n",
       "         0.      ,   0.      ,   0.      ,   0.      ,   0.      ,\n",
       "         0.      ,   0.      ,   0.      ,   0.      ,   0.      ,\n",
       "         0.      ,   0.      ,   0.      ,   0.      ,   0.      ,\n",
       "         0.      ,   0.      ,   0.      ,   0.      ,   0.      ,\n",
       "         0.      ,   0.      ,   0.      ,   0.      ,   0.      ,\n",
       "         0.      ,   0.      ,   0.      ,   0.      ,   0.      ,\n",
       "         0.      ,   0.      ,   0.      ,   0.      ,   0.      ,\n",
       "         0.      ,   0.      ,   0.      ,   0.      ,   0.      ,\n",
       "         0.      ,   0.      ,   0.      ,   0.      ,   0.      ,\n",
       "         0.      ,   0.      ,   0.      ,   0.      ,   0.      ,\n",
       "         0.999132,   0.998981,   0.999104,   1.998184,   2.997206,\n",
       "         8.992   ,   8.991729,  11.989278,  25.976396,  18.983922,\n",
       "        39.964514,  52.955447,  69.93835 ,  65.946021,  87.924856,\n",
       "       101.915313, 130.894607, 126.901309, 115.91139 , 136.906349,\n",
       "       116.923395, 136.931688, 117.962541, 139.965646, 135.993513,\n",
       "       136.017041, 123.042177, 145.05927 , 131.067123, 116.083159,\n",
       "       138.100024, 138.111973, 106.090418, 104.080932,  92.076329,\n",
       "        83.068908,  69.057878,  50.04236 ,  37.03174 ,  26.0235  ,\n",
       "        30.02597 ,  13.01172 ,  14.01241 ,   7.00593 ,   1.00076 ,\n",
       "         1.00079 ,   3.00272 ,   0.      ,   0.      ,   0.      ,\n",
       "         0.      ,   0.      ,   0.      ,   0.      ,   0.      ,\n",
       "         0.      ,   0.      ,   0.      ,   0.      ,   0.      ,\n",
       "         0.      ,   0.      ,   0.      ,   0.      ,   0.      ,\n",
       "         0.      ,   0.      ,   0.      ,   0.      ,   0.      ,\n",
       "         0.      ,   0.      ,   0.      ,   0.      ,   0.      ,\n",
       "         0.      ,   0.      ,   0.      ,   0.      ,   0.      ,\n",
       "         0.      ,   0.      ,   0.      ,   0.      ,   0.      ,\n",
       "         0.      ,   0.      ,   0.      ,   0.      ,   0.      ,\n",
       "         0.      ,   0.      ,   0.      ,   0.      ,   0.      ,\n",
       "         0.      ,   0.      ,   0.      ,   0.      ,   0.      ,\n",
       "         0.      ,   0.      ,   0.      ,   0.      ,   0.      ,\n",
       "         0.      ,   0.      ,   0.      ,   0.      ,   0.      ,\n",
       "         0.      ,   0.      ,   0.      ,   0.      ,   0.      ,\n",
       "         0.      ,   0.      ,   0.      ,   0.      ,   0.      ,\n",
       "         0.      ,   0.      ,   0.      ,   0.      ,   0.      ,\n",
       "         0.      ,   0.      ,   0.      ,   0.      ,   0.      ,\n",
       "         0.      ,   0.      ,   0.      ,   0.      ,   0.      ,\n",
       "         0.      ,   0.      ,   0.      ,   0.      ,   0.      ,\n",
       "         0.      ,   0.      ,   0.      ,   0.      ,   0.      ])"
      ]
     },
     "execution_count": 14,
     "metadata": {},
     "output_type": "execute_result"
    }
   ],
   "source": [
    "h[2]"
   ]
  },
  {
   "cell_type": "code",
   "execution_count": 15,
   "metadata": {
    "Collapsed": "false"
   },
   "outputs": [
    {
     "name": "stdout",
     "output_type": "stream",
     "text": [
      "Using passed freq and edges\n"
     ]
    }
   ],
   "source": [
    "dataXY, binsXY, dBinXY = ru.hist2np(h, (xedges,yedges))"
   ]
  },
  {
   "cell_type": "code",
   "execution_count": 16,
   "metadata": {
    "Collapsed": "false"
   },
   "outputs": [
    {
     "data": {
      "text/plain": [
       "1019900"
      ]
     },
     "execution_count": 16,
     "metadata": {},
     "output_type": "execute_result"
    }
   ],
   "source": [
    "len(dataXY[1])"
   ]
  },
  {
   "cell_type": "code",
   "execution_count": 17,
   "metadata": {
    "Collapsed": "false"
   },
   "outputs": [],
   "source": [
    "df_binned =cu.Profile(dataXY[0], dataXY[1], None, nbins=200, xmin=np.min(dataXY[0]), xmax=np.max(dataXY[0]), mean=True, only_binned=True)"
   ]
  },
  {
   "cell_type": "code",
   "execution_count": 18,
   "metadata": {
    "Collapsed": "false"
   },
   "outputs": [],
   "source": [
    "x, y, y_e, x_e =df_binned['bincenters'], df_binned['ymean'], df_binned['yerr'], df_binned['xerr']"
   ]
  },
  {
   "cell_type": "code",
   "execution_count": 19,
   "metadata": {
    "Collapsed": "false"
   },
   "outputs": [],
   "source": [
    "cu._phi=6.295\n",
    "cu._LT=64.04"
   ]
  },
  {
   "cell_type": "code",
   "execution_count": 20,
   "metadata": {
    "Collapsed": "false"
   },
   "outputs": [
    {
     "name": "stdout",
     "output_type": "stream",
     "text": [
      "Params: [-0.036718602 -0.000376647  0.042019303]\n",
      "Errors: [5.128284752e-05 1.731358141e-04 4.942676139e-05]\n",
      "𝝌2/dof=1.45\n"
     ]
    }
   ],
   "source": [
    "par, par_e, chi2_ndf = cu.fit_and_chi2(x, y, y_e, cu.thetaY_unblinded_phase, (-0.04, 0.0, 0.04))"
   ]
  },
  {
   "cell_type": "code",
   "execution_count": 21,
   "metadata": {
    "Collapsed": "false"
   },
   "outputs": [
    {
     "data": {
      "text/plain": [
       "[<matplotlib.lines.Line2D at 0x13e0a9450>]"
      ]
     },
     "execution_count": 21,
     "metadata": {},
     "output_type": "execute_result"
    },
    {
     "data": {
      "image/png": "[encoded data removed]",
      "text/plain": [
       "<Figure size 504x360 with 1 Axes>"
      ]
     },
     "metadata": {
      "needs_background": "light"
     },
     "output_type": "display_data"
    }
   ],
   "source": [
    "fig, ax = cu.plot(x, y, y_err=y_e, error=True, elw=1, label=\"Data (sim.)\", fs=font_size, tight=False,\n",
    "                  xlabel=r\"$t^{mod}_{g-2} \\ \\mathrm{[\\mu}$s]\",  ylabel=r\"$\\langle\\theta_y\\rangle$ [mrad] per \"+str(int(bin_w*1e3))+\" ns\")\n",
    "ax.plot(x, cu.thetaY_unblinded_phase(x, *par), c=\"red\", \n",
    "        label=r'Fit: $\\langle \\theta(t) \\rangle =  A_{\\mathrm{B_z}}\\cos(\\omega_a t + \\phi) + A_{\\mathrm{EDM}}\\sin(\\omega_a t + \\phi) + c$', lw=2)"
   ]
  },
  {
   "cell_type": "code",
   "execution_count": 18,
   "metadata": {
    "Collapsed": "false"
   },
   "outputs": [],
   "source": [
    "# py_tmod = np.fmod(py_t - cu._phi/cu._omega, 2*g2period)-g2period\n",
    "# py_tmod_abs=np.abs(py_tmod)"
   ]
  },
  {
   "cell_type": "code",
   "execution_count": 19,
   "metadata": {
    "Collapsed": "false"
   },
   "outputs": [],
   "source": [
    "# py_weights=np.exp(py_tmod/cu._LT)"
   ]
  },
  {
   "cell_type": "code",
   "execution_count": 21,
   "metadata": {
    "Collapsed": "false"
   },
   "outputs": [],
   "source": [
    "# xy_range=[ [0, 2*g2period], [-50, 50] ]\n",
    "# plt.hist2d(py_tmod_abs, py_ang, weights=py_weights, bins=200, range=xy_range);"
   ]
  },
  {
   "cell_type": "code",
   "execution_count": 125,
   "metadata": {
    "Collapsed": "false"
   },
   "outputs": [
    {
     "data": {
      "text/plain": [
       "[1.5, 2.5, 2.5, 3.5, 3.5, 4.4, 4.4, 4.4]"
      ]
     },
     "execution_count": 125,
     "metadata": {},
     "output_type": "execute_result"
    }
   ],
   "source": [
    "data=[]\n",
    "binC=[1.5, 2.5, 3.5, 4.4]\n",
    "freq=np.array([1, 1.1, 2, 3])\n",
    "\n",
    "math.ceil(0.1)\n",
    "\n",
    "D=len(freq.shape)\n",
    "n_bins=len(freq)\n",
    "\n",
    "for i_bin in range(n_bins):\n",
    "    data.extend( (binC[i_bin]*np.ones(math.ceil(freq[i_bin]))) )\n",
    "\n",
    "# np.array(data).flatten()\n",
    "data"
   ]
  },
  {
   "cell_type": "code",
   "execution_count": 89,
   "metadata": {
    "Collapsed": "false"
   },
   "outputs": [
    {
     "ename": "IndexError",
     "evalue": "list index out of range",
     "output_type": "error",
     "traceback": [
      "\u001b[0;31m---------------------------------------------------------------------------\u001b[0m",
      "\u001b[0;31mIndexError\u001b[0m                                Traceback (most recent call last)",
      "\u001b[0;32m<ipython-input-89-63e4873c4c91>\u001b[0m in \u001b[0;36m<module>\u001b[0;34m\u001b[0m\n\u001b[1;32m      8\u001b[0m \u001b[0;34m\u001b[0m\u001b[0m\n\u001b[1;32m      9\u001b[0m \u001b[0;32mfor\u001b[0m \u001b[0mi_bin\u001b[0m \u001b[0;32min\u001b[0m \u001b[0mrange\u001b[0m\u001b[0;34m(\u001b[0m\u001b[0mn_bins\u001b[0m\u001b[0;34m)\u001b[0m\u001b[0;34m:\u001b[0m\u001b[0;34m\u001b[0m\u001b[0;34m\u001b[0m\u001b[0m\n\u001b[0;32m---> 10\u001b[0;31m     \u001b[0mdata\u001b[0m\u001b[0;34m.\u001b[0m\u001b[0mappend\u001b[0m\u001b[0;34m(\u001b[0m\u001b[0mbinC\u001b[0m\u001b[0;34m[\u001b[0m\u001b[0mi_bin\u001b[0m\u001b[0;34m]\u001b[0m\u001b[0;34m)\u001b[0m\u001b[0;34m\u001b[0m\u001b[0;34m\u001b[0m\u001b[0m\n\u001b[0m\u001b[1;32m     11\u001b[0m \u001b[0;34m\u001b[0m\u001b[0m\n\u001b[1;32m     12\u001b[0m \u001b[0mdata\u001b[0m\u001b[0;34m\u001b[0m\u001b[0;34m\u001b[0m\u001b[0m\n",
      "\u001b[0;31mIndexError\u001b[0m: list index out of range"
     ]
    }
   ],
   "source": [
    "data=[[], []]  \n",
    "binC=[ [1, 2, 3, 4], [10, 20, 30]]\n",
    "freq = np.array  ([[1, 2, 3, 4]   , [4, 5, 6]])\n",
    "\n",
    "# D=2\n",
    "\n",
    "D=len(x.shape)\n",
    "\n",
    "for i_bin in range(n_bins):\n",
    "    data.append(binC[i_bin])\n",
    "\n",
    "data"
   ]
  },
  {
   "cell_type": "code",
   "execution_count": null,
   "metadata": {
    "Collapsed": "false"
   },
   "outputs": [],
   "source": []
  },
  {
   "cell_type": "code",
   "execution_count": null,
   "metadata": {
    "Collapsed": "false"
   },
   "outputs": [],
   "source": [
    "for ix,iy in np.ndindex(freq.shape): # looping over x,y indices of a matrix \n",
    "            for i in range(0, int(freq[ix][iy])): # for that number of freq \n",
    "                    data[0].append(binC[0][ix]) #append to  X, and Y\n",
    "                    data[1].append(binC[1][iy])"
   ]
  }
 ],
 "metadata": {
  "kernelspec": {
   "display_name": "Python 3",
   "language": "python",
   "name": "python3"
  },
  "language_info": {
   "codemirror_mode": {
    "name": "ipython",
    "version": 3
   },
   "file_extension": ".py",
   "mimetype": "text/x-python",
   "name": "python",
   "nbconvert_exporter": "python",
   "pygments_lexer": "ipython3",
   "version": "3.7.6"
  }
 },
 "nbformat": 4,
 "nbformat_minor": 4
}
