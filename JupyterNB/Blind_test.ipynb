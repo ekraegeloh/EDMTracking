{
 "cells": [
  {
   "cell_type": "code",
   "execution_count": 1,
   "metadata": {
    "Collapsed": "false"
   },
   "outputs": [
    {
     "name": "stdout",
     "output_type": "stream",
     "text": [
      "Welcome to JupyROOT 6.18/04\n"
     ]
    }
   ],
   "source": [
    "import numpy as np\n",
    "import pandas as pd\n",
    "import matplotlib.pyplot as plt\n",
    "%matplotlib inline\n",
    "import os, sys\n",
    "from scipy import optimize\n",
    "sys.path.append(\"../CommonUtils/\") # https://github.com/glukicov/EDMTracking/blob/master/CommonUtils/CommonUtils.py\n",
    "import CommonUtils as cu\n",
    "import RUtils as ru"
   ]
  },
  {
   "cell_type": "code",
   "execution_count": 2,
   "metadata": {
    "Collapsed": "false"
   },
   "outputs": [
    {
     "name": "stdout",
     "output_type": "stream",
     "text": [
      "Starting and end times: 4.5 to 100 us\n",
      "Momentum cuts: 1800 to 3100 MeV\n",
      "Magic omega set to 1.43934 MHz\n",
      "g-2 period  4.365 us\n",
      "Setting bin width of 10.0 ns with 437 bins\n",
      "Starting pars count (N, tau, A, phi): 5000 64 -0.4 6\n",
      "Starting pars TRUTH theta (A_Bz, A_edm, c): 0.0 0.17 0.0\n",
      "Starting pars theta blinded (A_Bz, A_edm, c): 1.0 1.0 1.0\n"
     ]
    }
   ],
   "source": [
    "font_size=14 # for plots \n",
    "\n",
    "t_min = 4.5 # us  #TODO 30 for data \n",
    "t_max = 100 # us \n",
    "print(\"Starting and end times:\", t_min, \"to\", t_max, \"us\")\n",
    "p_min = 1800 # MeV \n",
    "p_max = 3100 # MeV \n",
    "print(\"Momentum cuts:\", p_min, \"to\", p_max, \"MeV\")\n",
    "\n",
    "omega_a = 1.43934 # MHz (magic)\n",
    "cu._omega=omega_a #for BNL fits\n",
    "print(\"Magic omega set to\", cu._omega, \"MHz\")\n",
    "\n",
    "g2period = 2*np.pi / omega_a   # 4.3653 us \n",
    "print(\"g-2 period \", round(g2period, 3), \"us\")\n",
    "if(t_min<g2period):\n",
    "    raise Exception(\"Set t_min>g2period for EDM reflection blidning to work\")\n",
    "\n",
    "bin_w = 10*1e-3 # 10 ns \n",
    "bin_n = int( round(g2period/bin_w) )\n",
    "print(\"Setting bin width of\", bin_w*1e3, \"ns with\", bin_n, \"bins\")\n",
    "\n",
    "p0_count=(5000, 64, -0.4, 6)\n",
    "print(\"Starting pars count (N, tau, A, phi):\", *p0_count)\n",
    "p0_theta_truth=(0.00, 0.17, 0.0)\n",
    "print(\"Starting pars TRUTH theta (A_Bz, A_edm, c):\", *p0_theta_truth)\n",
    "p0_theta_blinded=(1.0, 1.0, 1.0) \n",
    "print(\"Starting pars theta blinded (A_Bz, A_edm, c):\", *p0_theta_blinded)"
   ]
  },
  {
   "cell_type": "code",
   "execution_count": 14,
   "metadata": {
    "Collapsed": "false"
   },
   "outputs": [
    {
     "data": {
      "text/html": [
       "<div>\n",
       "<style scoped>\n",
       "    .dataframe tbody tr th:only-of-type {\n",
       "        vertical-align: middle;\n",
       "    }\n",
       "\n",
       "    .dataframe tbody tr th {\n",
       "        vertical-align: top;\n",
       "    }\n",
       "\n",
       "    .dataframe thead th {\n",
       "        text-align: right;\n",
       "    }\n",
       "</style>\n",
       "<table border=\"1\" class=\"dataframe\">\n",
       "  <thead>\n",
       "    <tr style=\"text-align: right;\">\n",
       "      <th></th>\n",
       "      <th>t</th>\n",
       "      <th>ang</th>\n",
       "      <th>tMod</th>\n",
       "      <th>weight</th>\n",
       "    </tr>\n",
       "  </thead>\n",
       "  <tbody>\n",
       "    <tr>\n",
       "      <th>0</th>\n",
       "      <td>188.9480</td>\n",
       "      <td>0.193686</td>\n",
       "      <td>-3.179580</td>\n",
       "      <td>0.951563</td>\n",
       "    </tr>\n",
       "    <tr>\n",
       "      <th>1</th>\n",
       "      <td>164.3130</td>\n",
       "      <td>-0.030004</td>\n",
       "      <td>-1.616350</td>\n",
       "      <td>0.975076</td>\n",
       "    </tr>\n",
       "    <tr>\n",
       "      <th>2</th>\n",
       "      <td>54.2375</td>\n",
       "      <td>0.129539</td>\n",
       "      <td>1.833030</td>\n",
       "      <td>1.029040</td>\n",
       "    </tr>\n",
       "    <tr>\n",
       "      <th>3</th>\n",
       "      <td>38.9891</td>\n",
       "      <td>-0.063680</td>\n",
       "      <td>4.050080</td>\n",
       "      <td>1.065290</td>\n",
       "    </tr>\n",
       "    <tr>\n",
       "      <th>4</th>\n",
       "      <td>42.7731</td>\n",
       "      <td>-0.097035</td>\n",
       "      <td>-0.898644</td>\n",
       "      <td>0.986065</td>\n",
       "    </tr>\n",
       "    <tr>\n",
       "      <th>...</th>\n",
       "      <td>...</td>\n",
       "      <td>...</td>\n",
       "      <td>...</td>\n",
       "      <td>...</td>\n",
       "    </tr>\n",
       "    <tr>\n",
       "      <th>1013831</th>\n",
       "      <td>133.4780</td>\n",
       "      <td>0.017623</td>\n",
       "      <td>2.479440</td>\n",
       "      <td>1.039480</td>\n",
       "    </tr>\n",
       "    <tr>\n",
       "      <th>1013832</th>\n",
       "      <td>50.7985</td>\n",
       "      <td>-0.048847</td>\n",
       "      <td>-1.605960</td>\n",
       "      <td>0.975234</td>\n",
       "    </tr>\n",
       "    <tr>\n",
       "      <th>1013833</th>\n",
       "      <td>49.1189</td>\n",
       "      <td>0.184223</td>\n",
       "      <td>-3.285570</td>\n",
       "      <td>0.949989</td>\n",
       "    </tr>\n",
       "    <tr>\n",
       "      <th>1013834</th>\n",
       "      <td>45.1292</td>\n",
       "      <td>0.170864</td>\n",
       "      <td>1.457400</td>\n",
       "      <td>1.023020</td>\n",
       "    </tr>\n",
       "    <tr>\n",
       "      <th>1013835</th>\n",
       "      <td>55.7030</td>\n",
       "      <td>-0.095373</td>\n",
       "      <td>3.298540</td>\n",
       "      <td>1.052860</td>\n",
       "    </tr>\n",
       "  </tbody>\n",
       "</table>\n",
       "<p>1013836 rows × 4 columns</p>\n",
       "</div>"
      ],
      "text/plain": [
       "                t       ang      tMod    weight\n",
       "0        188.9480  0.193686 -3.179580  0.951563\n",
       "1        164.3130 -0.030004 -1.616350  0.975076\n",
       "2         54.2375  0.129539  1.833030  1.029040\n",
       "3         38.9891 -0.063680  4.050080  1.065290\n",
       "4         42.7731 -0.097035 -0.898644  0.986065\n",
       "...           ...       ...       ...       ...\n",
       "1013831  133.4780  0.017623  2.479440  1.039480\n",
       "1013832   50.7985 -0.048847 -1.605960  0.975234\n",
       "1013833   49.1189  0.184223 -3.285570  0.949989\n",
       "1013834   45.1292  0.170864  1.457400  1.023020\n",
       "1013835   55.7030 -0.095373  3.298540  1.052860\n",
       "\n",
       "[1013836 rows x 4 columns]"
      ]
     },
     "execution_count": 14,
     "metadata": {},
     "output_type": "execute_result"
    }
   ],
   "source": [
    "c_data = pd.read_csv(\"../DATA/misc/C_dump.txt\")\n",
    "c_data"
   ]
  },
  {
   "cell_type": "code",
   "execution_count": 15,
   "metadata": {
    "Collapsed": "false"
   },
   "outputs": [],
   "source": [
    "c_t = c_data[\"t\"]\n",
    "c_ang = c_data[\" ang\"]"
   ]
  },
  {
   "cell_type": "code",
   "execution_count": 16,
   "metadata": {
    "Collapsed": "false"
   },
   "outputs": [],
   "source": [
    "cu._phi=6.295\n",
    "cu._LT=64.04"
   ]
  },
  {
   "cell_type": "code",
   "execution_count": 17,
   "metadata": {
    "Collapsed": "false"
   },
   "outputs": [],
   "source": [
    "c_tmod_abs, c_weight = cu.get_abs_times_weights(c_t)"
   ]
  },
  {
   "cell_type": "code",
   "execution_count": 18,
   "metadata": {
    "Collapsed": "false"
   },
   "outputs": [
    {
     "data": {
      "image/png": "[encoded data removed]",
      "text/plain": [
       "<Figure size 432x288 with 1 Axes>"
      ]
     },
     "metadata": {
      "needs_background": "light"
     },
     "output_type": "display_data"
    }
   ],
   "source": [
    "# c_tmod_abs=np.abs(c_tmod)\n",
    "h,xedges,yedges,image = plt.hist2d(c_tmod_abs, c_ang, weights=c_weight, bins=200);\n",
    "# h,xedges,yedges,image = plt.hist2d(c_tmod_abs, c_ang,  bins=200);"
   ]
  },
  {
   "cell_type": "code",
   "execution_count": 19,
   "metadata": {
    "Collapsed": "false"
   },
   "outputs": [
    {
     "name": "stdout",
     "output_type": "stream",
     "text": [
      "Using passed freq and edges\n"
     ]
    }
   ],
   "source": [
    "dataXY, binsXY, dBinXY = ru.hist2np(h, (xedges,yedges))"
   ]
  },
  {
   "cell_type": "code",
   "execution_count": 20,
   "metadata": {
    "Collapsed": "false"
   },
   "outputs": [
    {
     "data": {
      "text/plain": [
       "1006387"
      ]
     },
     "execution_count": 20,
     "metadata": {},
     "output_type": "execute_result"
    }
   ],
   "source": [
    "len(dataXY[1])"
   ]
  },
  {
   "cell_type": "code",
   "execution_count": 21,
   "metadata": {
    "Collapsed": "false"
   },
   "outputs": [],
   "source": [
    "df_binned =cu.Profile(dataXY[0], dataXY[1], None, nbins=200, xmin=np.min(dataXY[0]), xmax=np.max(dataXY[0]), mean=True, only_binned=True)"
   ]
  },
  {
   "cell_type": "code",
   "execution_count": 22,
   "metadata": {
    "Collapsed": "false"
   },
   "outputs": [],
   "source": [
    "x, y, y_e, x_e =df_binned['bincenters'], df_binned['ymean'], df_binned['yerr'], df_binned['xerr']"
   ]
  },
  {
   "cell_type": "code",
   "execution_count": 23,
   "metadata": {
    "Collapsed": "false"
   },
   "outputs": [
    {
     "name": "stdout",
     "output_type": "stream",
     "text": [
      "Params: [-0.04125351   0.000324941  0.041709868]\n",
      "Errors: [6.383462877e-05 2.226417194e-04 6.155579961e-05]\n",
      "𝝌2/dof=2.41\n"
     ]
    }
   ],
   "source": [
    "par, par_e, chi2_ndf = cu.fit_and_chi2(x, y, y_e, cu.thetaY_unblinded_phase, (-0.04, 0.0, 0.04))"
   ]
  },
  {
   "cell_type": "code",
   "execution_count": 24,
   "metadata": {
    "Collapsed": "false"
   },
   "outputs": [
    {
     "data": {
      "text/plain": [
       "[<matplotlib.lines.Line2D at 0x1067982d0>]"
      ]
     },
     "execution_count": 24,
     "metadata": {},
     "output_type": "execute_result"
    },
    {
     "data": {
      "image/png": "[encoded data removed]",
      "text/plain": [
       "<Figure size 504x360 with 1 Axes>"
      ]
     },
     "metadata": {
      "needs_background": "light"
     },
     "output_type": "display_data"
    }
   ],
   "source": [
    "fig, ax = cu.plot(x, y, y_err=y_e, error=True, elw=1, label=\"Data (sim.)\", fs=font_size, tight=False,\n",
    "                  xlabel=r\"$t^{mod}_{g-2} \\ \\mathrm{[\\mu}$s]\",  ylabel=r\"$\\langle\\theta_y\\rangle$ [mrad] per \"+str(int(bin_w*1e3))+\" ns\")\n",
    "ax.plot(x, cu.thetaY_unblinded_phase(x, *par), c=\"red\", \n",
    "        label=r'Fit: $\\langle \\theta(t) \\rangle =  A_{\\mathrm{B_z}}\\cos(\\omega_a t + \\phi) + A_{\\mathrm{EDM}}\\sin(\\omega_a t + \\phi) + c$', lw=2)"
   ]
  },
  {
   "cell_type": "code",
   "execution_count": null,
   "metadata": {
    "Collapsed": "false"
   },
   "outputs": [],
   "source": []
  }
 ],
 "metadata": {
  "kernelspec": {
   "display_name": "Python 3",
   "language": "python",
   "name": "python3"
  },
  "language_info": {
   "codemirror_mode": {
    "name": "ipython",
    "version": 3
   },
   "file_extension": ".py",
   "mimetype": "text/x-python",
   "name": "python",
   "nbconvert_exporter": "python",
   "pygments_lexer": "ipython3",
   "version": "3.7.6"
  }
 },
 "nbformat": 4,
 "nbformat_minor": 4
}
