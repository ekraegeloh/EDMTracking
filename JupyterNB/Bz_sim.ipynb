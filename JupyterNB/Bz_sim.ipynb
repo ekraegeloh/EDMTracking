{
 "cells": [
  {
   "cell_type": "markdown",
   "metadata": {
    "Collapsed": "false"
   },
   "source": [
    "# $B_z$ extraction is simulation"
   ]
  },
  {
   "cell_type": "code",
   "execution_count": 1,
   "metadata": {
    "Collapsed": "false"
   },
   "outputs": [
    {
     "name": "stdout",
     "output_type": "stream",
     "text": [
      "Welcome to JupyROOT 6.18/04\n"
     ]
    }
   ],
   "source": [
    "import numpy as np\n",
    "import pandas as pd\n",
    "import matplotlib.pyplot as plt\n",
    "%matplotlib inline\n",
    "import os, sys\n",
    "from scipy import optimize\n",
    "sys.path.append(\"../CommonUtils/\") # https://github.com/glukicov/EDMTracking/blob/master/CommonUtils/CommonUtils.py\n",
    "import CommonUtils as cu\n",
    "import RUtils as ru"
   ]
  },
  {
   "cell_type": "markdown",
   "metadata": {
    "Collapsed": "false"
   },
   "source": [
    "### Define constants and starting fit parameters"
   ]
  },
  {
   "cell_type": "code",
   "execution_count": 2,
   "metadata": {
    "Collapsed": "false"
   },
   "outputs": [
    {
     "name": "stdout",
     "output_type": "stream",
     "text": [
      "Magic omega set to 1.43934 MHz\n",
      "g-2 period  4.365 us\n",
      "Starting and end times: 4.4 to 210 us\n",
      "Momentum cuts: 1800 to 3100 MeV\n",
      "Setting bin width of 10.0 ns with 437 bins\n",
      "Starting pars count (N, tau, A, phi): 5000 64 -0.4 6.0\n",
      "Starting pars TRUTH theta (A_Bz, A_edm, c): 0.0 0.17 0.0\n",
      "Starting pars theta blinded (A_Bz, A_edm, c): 1.0 1.0 1.0\n"
     ]
    }
   ],
   "source": [
    "font_size=14 # for plots\n",
    "\n",
    "omega_a = 1.43934 # MHz (magic)\n",
    "cu._omega=omega_a #for BNL fits\n",
    "print(\"Magic omega set to\", cu._omega, \"MHz\")\n",
    "\n",
    "g2period = 2*np.pi / omega_a   # 4.3653 us \n",
    "print(\"g-2 period \", round(g2period, 3), \"us\")\n",
    "# if(t_min<g2period):\n",
    "#     raise Exception(\"Set t_min>g2period for EDM reflection blidning to work\")\n",
    "\n",
    "t_min = 4.4 # us  #TODO 30 for data \n",
    "t_max = 210 # us \n",
    "print(\"Starting and end times:\", t_min, \"to\", t_max, \"us\")\n",
    "p_min = 1800 # MeV \n",
    "p_max = 3100 # MeV \n",
    "print(\"Momentum cuts:\", p_min, \"to\", p_max, \"MeV\")\n",
    "\n",
    "\n",
    "\n",
    "bin_w = 10*1e-3 # 10 ns \n",
    "bin_n = int( round(g2period/bin_w) )\n",
    "xy_bins=(bin_n , bin_n )\n",
    "print(\"Setting bin width of\", bin_w*1e3, \"ns with\", bin_n, \"bins\")\n",
    "\n",
    "\n",
    "p0_count=[5000, 64, -0.4, 6.0]\n",
    "print(\"Starting pars count (N, tau, A, phi):\", *p0_count)\n",
    "p0_theta_truth=[0.00, 0.17, 0.0]\n",
    "print(\"Starting pars TRUTH theta (A_Bz, A_edm, c):\", *p0_theta_truth)\n",
    "p0_theta_blinded=[1.0, 1.0, 1.0]\n",
    "print(\"Starting pars theta blinded (A_Bz, A_edm, c):\", *p0_theta_blinded)"
   ]
  },
  {
   "cell_type": "markdown",
   "metadata": {
    "Collapsed": "false"
   },
   "source": [
    "### Load HDF5 data and apply time and momentum cuts (expecting time data in us) "
   ]
  },
  {
   "cell_type": "code",
   "execution_count": 3,
   "metadata": {
    "Collapsed": "false"
   },
   "outputs": [
    {
     "name": "stdout",
     "output_type": "stream",
     "text": [
      "N before cuts 5483807\n",
      "N after cuts 1257582\n",
      "Total tracks 1.26 M\n"
     ]
    }
   ],
   "source": [
    "#long time to open 1st time\n",
    "# %time data = pd.read_hdf(\"../DATA/HDF/Sim/VLEDM.h5\", columns=(\"trackT0\", \"station\", \"trackMomentum\", \"trackMomentumY\") )\n",
    "\n",
    "# #save to open skimed\n",
    "# data.to_hdf(\"../DATA/HDF/Sim/VLEDM_skim.h5\", key=\"sim\", mode='w', complevel=9, complib=\"zlib\", format=\"fixed\")\n",
    "\n",
    "#open skimmed \n",
    "data = pd.read_hdf(\"../DATA/HDF/Sim/VLEDM_skim.h5\")\n",
    "print(\"N before cuts\", data.shape[0])\n",
    "mom_cut = ( (data['trackMomentum'] > p_min) & (data['trackMomentum'] < p_max) ) # MeV  \n",
    "time_cut =( (data['trackT0'] > t_min) & (data['trackT0'] < t_max) ) # MeV  \n",
    "data=data[mom_cut & time_cut]\n",
    "data=data.reset_index() # reset index from 0 \n",
    "N=data.shape[0] \n",
    "print(\"N after cuts\", N)\n",
    "\n",
    "\n",
    "p=data['trackMomentum']\n",
    "py=data['trackMomentumY']\n",
    "t=data['trackT0']\n",
    "mod_times = cu.get_g2_mod_time(t) # Module the g-2 oscillation time \n",
    "theta_y_mrad = np.arctan2(py, p)*1e3 # rad -> mrad\n",
    "data['mod_times']=mod_times # add to the data frame \n",
    "data['theta_y_mrad']=theta_y_mrad # add to the data frame \n",
    "# data # display data \n",
    "# data.to_hdf(\"../DATA/HDF/Sim/VLEDM_times.h5\", key=\"sim\", mode='w', complevel=9, complib=\"zlib\", format=\"fixed\") # save data \n",
    "\n",
    "\n",
    "#TODO for data\n",
    "#define station cuts to loop over TODO fpr data\n",
    "# s12_cut = (data['station'] == stations[0])\n",
    "# s18_cut = (data['station'] == stations[1])\n",
    "# station_cut = (s12_cut, s18_cut)\n",
    "\n",
    "print(\"Total tracks\", round(N/1e6,2), \"M\")"
   ]
  },
  {
   "cell_type": "markdown",
   "metadata": {
    "Collapsed": "false"
   },
   "source": [
    "### Digitise data"
   ]
  },
  {
   "cell_type": "code",
   "execution_count": 4,
   "metadata": {
    "Collapsed": "false"
   },
   "outputs": [],
   "source": [
    "bin_c, freq = cu.get_freq_bin_c_from_data(mod_times, bin_w, (0, g2period) )\n",
    "y_err = np.sqrt(freq) # Poissson error "
   ]
  },
  {
   "cell_type": "markdown",
   "metadata": {
    "Collapsed": "false"
   },
   "source": [
    "### Plot counts vs. mod time and fit"
   ]
  },
  {
   "cell_type": "code",
   "execution_count": 5,
   "metadata": {
    "Collapsed": "false"
   },
   "outputs": [
    {
     "name": "stdout",
     "output_type": "stream",
     "text": [
      "Params: [ 2.973317107e+03  6.479945309e+01 -3.783358384e-01  6.356436188e+00]\n",
      "Errors: [1.404294095e+01 8.908549543e+00 1.548163781e-03 8.593091132e-03]\n",
      "𝝌2/dof=1.67\n"
     ]
    }
   ],
   "source": [
    "#set vars, fit pars, and plot\n",
    "x,y,y_e = bin_c, freq, y_err\n",
    "par, par_e, chi2_ndf = cu.fit_and_chi2(x, y, y_e, cu.unblinded_wiggle_fixed, p0_count)\n"
   ]
  },
  {
   "cell_type": "code",
   "execution_count": 6,
   "metadata": {
    "Collapsed": "false"
   },
   "outputs": [],
   "source": [
    "fig, ax = cu.plot(bin_c, freq, y_err=y_err, error=True, elw=1, label=\"Data (sim.)\", fs=font_size, tight=False,\n",
    "                  xlabel=r\"$t^{mod}_{g-2} \\ \\mathrm{[\\mu}$s]\", ylabel=r\"Counts ($N$) per \"+str(int(bin_w*1e3))+\" ns\")\n",
    "ax.plot(bin_c, cu.unblinded_wiggle_fixed(bin_c, *par), c=\"red\", \n",
    "        label=r'Fit: $N(t)=Ne^{-t/\\tau}[1+A\\cos(\\omega_at+\\phi)]$', lw=2)\n",
    "ax.set_xlim(0, g2period);\n",
    "ax.set_ylim(np.amin(freq)*0.9, np.amax(freq)*1.25);\n",
    "leg_fit=cu.legend1_fit(chi2_ndf)\n",
    "leg_fit=cu.legend_1par(leg_fit, r\"$\\phi$\", par[3], par_e[3], \" rad\", prec=3)\n",
    "leg_fit=cu.legend_1par(leg_fit, r\"$\\tau$\", par[1], par_e[1], \" us\", prec=3)\n",
    "leg_data=\"N=\"+cu.sci_notation(N)+\"\\n\"+str(p_min)+r\"<$p$<\"+str(p_max)+\" MeV\\n\"+str(t_min)+r\"<$t$<\"+str(t_max)+r\" $\\mathrm{\\mu}$s\"\n",
    "ax.legend(fontsize=font_size, loc='upper center', bbox_to_anchor=(0.5, 1.1));\n",
    "cu.textL(ax, 0.5, 0.35, leg_fit, c=\"r\", fs=font_size+2)\n",
    "cu.textL(ax, 0.8, 0.75, leg_data, fs=font_size+1)\n",
    "fig.savefig(\"../fig/bnl_fit.png\", dpi=300)"
   ]
  },
  {
   "cell_type": "markdown",
   "metadata": {
    "Collapsed": "false"
   },
   "source": [
    "### Set constant phase for the next step"
   ]
  },
  {
   "cell_type": "code",
   "execution_count": 7,
   "metadata": {
    "Collapsed": "false"
   },
   "outputs": [
    {
     "name": "stdout",
     "output_type": "stream",
     "text": [
      "LT set to 64.8 us\n",
      "Phase set to 6.36 rad\n"
     ]
    }
   ],
   "source": [
    "    cu._LT=par[1]\n",
    "    print(\"LT set to\", round(cu._LT,2), \"us\")\n",
    "    cu._phi=par[-1]\n",
    "    print(\"Phase set to\", round(cu._phi,2), \"rad\")\n",
    "# cu._omega=par[3]\n",
    "# print(\"Omega set to\", round(cu._omega,2), \"MHz\")"
   ]
  },
  {
   "cell_type": "markdown",
   "metadata": {
    "Collapsed": "false"
   },
   "source": [
    "# Apply blinding"
   ]
  },
  {
   "cell_type": "markdown",
   "metadata": {
    "Collapsed": "false"
   },
   "source": [
    "### Resolve angle and times"
   ]
  },
  {
   "cell_type": "code",
   "execution_count": 8,
   "metadata": {
    "Collapsed": "false"
   },
   "outputs": [],
   "source": [
    "tmod_abs, weights=cu.get_abs_times_weights(t)\n",
    "ang=theta_y_mrad"
   ]
  },
  {
   "cell_type": "markdown",
   "metadata": {
    "Collapsed": "false"
   },
   "source": [
    "### Digitise data with weights"
   ]
  },
  {
   "cell_type": "code",
   "execution_count": 9,
   "metadata": {
    "Collapsed": "false"
   },
   "outputs": [],
   "source": [
    "h,xedges,yedges,image = plt.hist2d(tmod_abs, ang, weights=weights, bins=xy_bins);"
   ]
  },
  {
   "cell_type": "markdown",
   "metadata": {
    "Collapsed": "false"
   },
   "source": [
    "### Expand before profile"
   ]
  },
  {
   "cell_type": "code",
   "execution_count": 10,
   "metadata": {
    "Collapsed": "false"
   },
   "outputs": [
    {
     "name": "stdout",
     "output_type": "stream",
     "text": [
      "Using passed freq and edges\n"
     ]
    }
   ],
   "source": [
    "    (x_w, y_w), binsXY, dBinXY = ru.hist2np(h, (xedges,yedges))"
   ]
  },
  {
   "cell_type": "markdown",
   "metadata": {
    "Collapsed": "false"
   },
   "source": [
    "### Profile"
   ]
  },
  {
   "cell_type": "code",
   "execution_count": 11,
   "metadata": {
    "Collapsed": "false"
   },
   "outputs": [],
   "source": [
    "df_binned =cu.Profile(x_w, y_w, None, nbins=bin_n, xmin=np.min(x_w), xmax=np.max(x_w), mean=True, only_binned=True)\n",
    "x, y, y_e, x_e =df_binned['bincenters'], df_binned['ymean'], df_binned['yerr'], df_binned['xerr']"
   ]
  },
  {
   "cell_type": "markdown",
   "metadata": {
    "Collapsed": "false"
   },
   "source": [
    "### Fit"
   ]
  },
  {
   "cell_type": "code",
   "execution_count": 12,
   "metadata": {
    "Collapsed": "false"
   },
   "outputs": [
    {
     "name": "stdout",
     "output_type": "stream",
     "text": [
      "Params: [-0.031236835  0.012828416  0.02497186 ]\n",
      "Errors: [0.016394785 0.015608116 0.011560084]\n",
      "𝝌2/dof=1.12\n"
     ]
    }
   ],
   "source": [
    "p0_theta_blinded=(1.0, 1.0, 1.0)\n",
    "par, par_e, chi2_ndf = cu.fit_and_chi2(x, y, y_e, cu.thetaY_phase, p0_theta_blinded)"
   ]
  },
  {
   "cell_type": "markdown",
   "metadata": {
    "Collapsed": "false"
   },
   "source": [
    "### Plot"
   ]
  },
  {
   "cell_type": "code",
   "execution_count": 13,
   "metadata": {
    "Collapsed": "false"
   },
   "outputs": [],
   "source": [
    "fig, ax = cu.plot(x, y, y_err=y_e, error=True, elw=1, label=\"Data (sim.)\", fs=font_size, tight=False,\n",
    "                  xlabel=r\"$t^{mod}_{g-2} \\ \\mathrm{[\\mu}$s]\",  ylabel=r\"$\\langle\\theta_y\\rangle$ [mrad] per \"+str(int(bin_w*1e3))+\" ns\")\n",
    "ax.plot(x, cu.thetaY_phase(x, *par), c=\"red\", \n",
    "        label=r'Fit: $\\langle \\theta(t) \\rangle =  A_{\\mathrm{B_z}}\\cos(\\omega_a t + \\phi) + A_{\\mathrm{EDM}}\\sin(\\omega_a t + \\phi) + c$', lw=2)\n",
    "ax.set_xlim(0, g2period);\n",
    "ax.set_ylim(-np.amax(y)*1.8, np.amax(y)*2.0);\n",
    "leg_data=\"N=\"+cu.sci_notation(N)+\"\\n\"+str(p_min)+r\"<$p$<\"+str(p_max)+\" MeV\\n\"+str(t_min)+r\"<$t$<\"+str(t_max)+r\" $\\mathrm{\\mu}$s\"\n",
    "ax.legend(fontsize=font_size, loc='upper center', bbox_to_anchor=(0.5, 1.1));\n",
    "cu.textL(ax, 0.75, 0.8, leg_data, fs=font_size)\n",
    "leg_fit=cu.legend1_fit(chi2_ndf)\n",
    "leg_fit=cu.legend_1par(leg_fit, r\"$A_{B_{z}}$\", par[0], par_e[0], \"mrad\")\n",
    "leg_fit=cu.legend_1par(leg_fit, r\"$A^{\\rm{BLINDED}}_{\\mathrm{EDM}}$\", par[1], par_e[1], \"mrad\")\n",
    "leg_fit=cu.legend_1par(leg_fit, \"c\", par[2], par_e[2], \"mrad\")\n",
    "cu.textL(ax, 0.25, 0.12, leg_fit, fs=font_size, c=\"r\")\n",
    "fig.savefig(\"../fig/bz_fit_\"+str(t_min)+\"_\"+str(t_max)+\".png\", dpi=300)"
   ]
  },
  {
   "cell_type": "markdown",
   "metadata": {
    "Collapsed": "false"
   },
   "source": [
    "### Profile the $\\langle\\theta_y\\rangle$, fit and plot (UNBLINDED simulation only)"
   ]
  },
  {
   "cell_type": "code",
   "execution_count": 14,
   "metadata": {
    "Collapsed": "false"
   },
   "outputs": [],
   "source": [
    "df_binned =cu.Profile(mod_times, theta_y_mrad, None, nbins=bin_n, xmin=np.min(mod_times), xmax=np.max(mod_times), mean=True, only_binned=True)\n",
    "x, y, y_e, x_e =df_binned['bincenters'], df_binned['ymean'], df_binned['yerr'], df_binned['xerr']"
   ]
  },
  {
   "cell_type": "code",
   "execution_count": 15,
   "metadata": {
    "Collapsed": "false"
   },
   "outputs": [
    {
     "name": "stdout",
     "output_type": "stream",
     "text": [
      "Params: [-0.054366226  0.131179594  0.029013132]\n",
      "Errors: [0.016833022 0.015965961 0.011875108]\n",
      "𝝌2/dof=1.08\n"
     ]
    }
   ],
   "source": [
    "par, par_e, chi2_ndf = cu.fit_and_chi2(x, y, y_e, cu.thetaY_phase, p0_theta_truth)"
   ]
  },
  {
   "cell_type": "code",
   "execution_count": 16,
   "metadata": {
    "Collapsed": "false"
   },
   "outputs": [],
   "source": [
    "fig, ax = cu.plot(x, y, y_err=y_e, error=True, elw=1, label=\"Data (sim.)\", fs=font_size, tight=False,\n",
    "                  xlabel=r\"$t^{mod}_{g-2} \\ \\mathrm{[\\mu}$s]\",  ylabel=r\"$\\langle\\theta_y\\rangle$ [mrad] per \"+str(int(bin_w*1e3))+\" ns\")\n",
    "ax.plot(x, cu.thetaY_phase(x, *par), c=\"red\", \n",
    "        label=r'Fit: $\\langle \\theta(t) \\rangle =  A_{\\mathrm{B_z}}\\cos(\\omega_a t + \\phi) + A_{\\mathrm{EDM}}\\sin(\\omega_a t + \\phi) + c$', lw=2)\n",
    "ax.set_xlim(0, g2period);\n",
    "ax.set_ylim(-np.amax(y)*1.8, np.amax(y)*2.0);\n",
    "leg_data=\"N=\"+cu.sci_notation(N)+\"\\n\"+str(p_min)+r\"<$p$<\"+str(p_max)+\" MeV\\n\"+str(t_min)+r\"<$t$<\"+str(t_max)+r\" $\\mathrm{\\mu}$s\"\n",
    "ax.legend(fontsize=font_size, loc='upper center', bbox_to_anchor=(0.5, 1.1));\n",
    "cu.textL(ax, 0.75, 0.8, leg_data, fs=font_size)\n",
    "leg_fit=cu.legend1_fit(chi2_ndf)\n",
    "leg_fit=cu.legend_1par(leg_fit, r\"$A_{B_{z}}$\", par[0], par_e[0], \"mrad\")\n",
    "leg_fit=cu.legend_1par(leg_fit, r\"$A_{\\mathrm{EDM}}$\", par[1], par_e[1], \"mrad\")\n",
    "leg_fit=cu.legend_1par(leg_fit, \"c\", par[2], par_e[2], \"mrad\")\n",
    "cu.textL(ax, 0.25, 0.12, leg_fit, fs=font_size, c=\"r\")\n",
    "fig.savefig(\"../fig/bz_truth_fit.png\", dpi=300)"
   ]
  },
  {
   "cell_type": "code",
   "execution_count": null,
   "metadata": {
    "Collapsed": "false"
   },
   "outputs": [],
   "source": []
  }
 ],
 "metadata": {
  "kernelspec": {
   "display_name": "Python 3",
   "language": "python",
   "name": "python3"
  },
  "language_info": {
   "codemirror_mode": {
    "name": "ipython",
    "version": 3
   },
   "file_extension": ".py",
   "mimetype": "text/x-python",
   "name": "python",
   "nbconvert_exporter": "python",
   "pygments_lexer": "ipython3",
   "version": "3.7.6"
  }
 },
 "nbformat": 4,
 "nbformat_minor": 4
}
