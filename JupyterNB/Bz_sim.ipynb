{
 "cells": [
  {
   "cell_type": "markdown",
   "metadata": {
    "Collapsed": "false"
   },
   "source": [
    "# $B_z$ extraction is simulation"
   ]
  },
  {
   "cell_type": "code",
   "execution_count": 1,
   "metadata": {
    "Collapsed": "false"
   },
   "outputs": [],
   "source": [
    "import numpy as np\n",
    "import pandas as pd\n",
    "import matplotlib.pyplot as plt\n",
    "%matplotlib inline\n",
    "import os, sys\n",
    "from scipy import optimize\n",
    "sys.path.append(\"../CommonUtils/\")\n",
    "import CommonUtils as cu"
   ]
  },
  {
   "cell_type": "markdown",
   "metadata": {
    "Collapsed": "false"
   },
   "source": [
    "### Define constants and starting fit parameters"
   ]
  },
  {
   "cell_type": "code",
   "execution_count": 2,
   "metadata": {
    "Collapsed": "false"
   },
   "outputs": [
    {
     "name": "stdout",
     "output_type": "stream",
     "text": [
      "Starting and end times [us]: 0 500\n",
      "P cut [MeV]: 1700\n",
      "Using derived phase of [rad] 6.24\n"
     ]
    }
   ],
   "source": [
    "bin_w = 150*1e-3 # 150 ns \n",
    "x_min = 0 # us  #TODO 30 for data \n",
    "x_max = 500 # us \n",
    "p_min = 1700 # MeV \n",
    "print(\"Starting and end times [us]:\", x_min, x_max)\n",
    "print(\"P cut [MeV]:\", p_min)\n",
    "\n",
    "omega_a = 1.44 # MHz (magic)\n",
    "gm2_f = 0.23 # MHz\n",
    "g2period = 2*np.pi / omega_a   # 4.36 us \n",
    "\n",
    "phase=6.240\n",
    "print(\"Using derived phase of [rad]\", phase)\n",
    "\n",
    "gm2_asym = 0.45 \n",
    "ang_amp = 1.0\n",
    "cos_amp = 1. / np.sqrt(2)\n",
    "sin_amp = np.sqrt(1 - np.power(cos_amp, 2))\n",
    "p0_ver=(ang_amp, cos_amp, omega_a, phase, sin_amp)"
   ]
  },
  {
   "cell_type": "markdown",
   "metadata": {
    "Collapsed": "false"
   },
   "source": [
    "### Define fit functions"
   ]
  },
  {
   "cell_type": "code",
   "execution_count": 3,
   "metadata": {
    "Collapsed": "false"
   },
   "outputs": [],
   "source": [
    "def f_vertical(t, *pars):\n",
    "    N=pars[0]\n",
    "    A_w=pars[1]\n",
    "    omega=pars[2]\n",
    "    phi=pars[3]\n",
    "    A_edm=pars[4]\n",
    "    return N*( A_w*np.cos(omega*t+phi) + A_edm*np.sin(omega*t+phi))\n"
   ]
  },
  {
   "cell_type": "markdown",
   "metadata": {
    "Collapsed": "false"
   },
   "source": [
    "### Load HDF5 data and apply time and momentum cuts"
   ]
  },
  {
   "cell_type": "code",
   "execution_count": 4,
   "metadata": {
    "Collapsed": "false"
   },
   "outputs": [],
   "source": [
    "data = pd.read_hdf(\"../DATA/HDF/Sim/VLEDM.h5\", columns=(\"trackT0\", \"station\", \"trackMomentum\", \"trackMomentumY\") )\n",
    "mom_cut = (data['trackMomentum'] > p_min) # MeV  \n",
    "time_cut = (data['trackT0'] > x_min) # MeV  \n",
    "data=data[mom_cut & time_cut]\n",
    "\n",
    "#define station cuts to loop over\n",
    "# s12_cut = (data['station'] == stations[0])\n",
    "# s18_cut = (data['station'] == stations[1])\n",
    "# station_cut = (s12_cut, s18_cut)"
   ]
  },
  {
   "cell_type": "markdown",
   "metadata": {
    "Collapsed": "false"
   },
   "source": [
    "### Resolve variables"
   ]
  },
  {
   "cell_type": "code",
   "execution_count": 5,
   "metadata": {
    "Collapsed": "false"
   },
   "outputs": [
    {
     "data": {
      "text/html": [
       "<div>\n",
       "<style scoped>\n",
       "    .dataframe tbody tr th:only-of-type {\n",
       "        vertical-align: middle;\n",
       "    }\n",
       "\n",
       "    .dataframe tbody tr th {\n",
       "        vertical-align: top;\n",
       "    }\n",
       "\n",
       "    .dataframe thead th {\n",
       "        text-align: right;\n",
       "    }\n",
       "</style>\n",
       "<table border=\"1\" class=\"dataframe\">\n",
       "  <thead>\n",
       "    <tr style=\"text-align: right;\">\n",
       "      <th></th>\n",
       "      <th>trackT0</th>\n",
       "      <th>station</th>\n",
       "      <th>trackMomentum</th>\n",
       "      <th>trackMomentumY</th>\n",
       "      <th>mod_times</th>\n",
       "      <th>theta_y</th>\n",
       "    </tr>\n",
       "  </thead>\n",
       "  <tbody>\n",
       "    <tr>\n",
       "      <th>2</th>\n",
       "      <td>80.277852</td>\n",
       "      <td>18</td>\n",
       "      <td>2544.615967</td>\n",
       "      <td>-59.835049</td>\n",
       "      <td>1.738035</td>\n",
       "      <td>-0.023510</td>\n",
       "    </tr>\n",
       "    <tr>\n",
       "      <th>3</th>\n",
       "      <td>42.755086</td>\n",
       "      <td>0</td>\n",
       "      <td>2182.920654</td>\n",
       "      <td>15.766864</td>\n",
       "      <td>3.485178</td>\n",
       "      <td>0.007223</td>\n",
       "    </tr>\n",
       "    <tr>\n",
       "      <th>6</th>\n",
       "      <td>10.879105</td>\n",
       "      <td>12</td>\n",
       "      <td>2120.369385</td>\n",
       "      <td>-8.798045</td>\n",
       "      <td>2.152459</td>\n",
       "      <td>-0.004149</td>\n",
       "    </tr>\n",
       "    <tr>\n",
       "      <th>18</th>\n",
       "      <td>11.418941</td>\n",
       "      <td>0</td>\n",
       "      <td>2252.512695</td>\n",
       "      <td>1.755878</td>\n",
       "      <td>2.692295</td>\n",
       "      <td>0.000780</td>\n",
       "    </tr>\n",
       "    <tr>\n",
       "      <th>20</th>\n",
       "      <td>204.562281</td>\n",
       "      <td>18</td>\n",
       "      <td>2131.132812</td>\n",
       "      <td>-22.711870</td>\n",
       "      <td>3.849417</td>\n",
       "      <td>-0.010657</td>\n",
       "    </tr>\n",
       "    <tr>\n",
       "      <th>...</th>\n",
       "      <td>...</td>\n",
       "      <td>...</td>\n",
       "      <td>...</td>\n",
       "      <td>...</td>\n",
       "      <td>...</td>\n",
       "      <td>...</td>\n",
       "    </tr>\n",
       "    <tr>\n",
       "      <th>5483788</th>\n",
       "      <td>33.120555</td>\n",
       "      <td>12</td>\n",
       "      <td>2171.714844</td>\n",
       "      <td>12.780183</td>\n",
       "      <td>2.577293</td>\n",
       "      <td>0.005885</td>\n",
       "    </tr>\n",
       "    <tr>\n",
       "      <th>5483789</th>\n",
       "      <td>82.543117</td>\n",
       "      <td>12</td>\n",
       "      <td>1940.134521</td>\n",
       "      <td>43.934719</td>\n",
       "      <td>4.003301</td>\n",
       "      <td>0.022641</td>\n",
       "    </tr>\n",
       "    <tr>\n",
       "      <th>5483790</th>\n",
       "      <td>2.854671</td>\n",
       "      <td>18</td>\n",
       "      <td>1702.657715</td>\n",
       "      <td>-9.733911</td>\n",
       "      <td>2.854671</td>\n",
       "      <td>-0.005717</td>\n",
       "    </tr>\n",
       "    <tr>\n",
       "      <th>5483793</th>\n",
       "      <td>21.286004</td>\n",
       "      <td>18</td>\n",
       "      <td>1840.056641</td>\n",
       "      <td>-38.210846</td>\n",
       "      <td>3.832711</td>\n",
       "      <td>-0.020763</td>\n",
       "    </tr>\n",
       "    <tr>\n",
       "      <th>5483794</th>\n",
       "      <td>107.055422</td>\n",
       "      <td>0</td>\n",
       "      <td>2022.868408</td>\n",
       "      <td>-2.352027</td>\n",
       "      <td>2.335667</td>\n",
       "      <td>-0.001163</td>\n",
       "    </tr>\n",
       "  </tbody>\n",
       "</table>\n",
       "<p>1647557 rows × 6 columns</p>\n",
       "</div>"
      ],
      "text/plain": [
       "            trackT0  station  trackMomentum  trackMomentumY  mod_times  \\\n",
       "2         80.277852       18    2544.615967      -59.835049   1.738035   \n",
       "3         42.755086        0    2182.920654       15.766864   3.485178   \n",
       "6         10.879105       12    2120.369385       -8.798045   2.152459   \n",
       "18        11.418941        0    2252.512695        1.755878   2.692295   \n",
       "20       204.562281       18    2131.132812      -22.711870   3.849417   \n",
       "...             ...      ...            ...             ...        ...   \n",
       "5483788   33.120555       12    2171.714844       12.780183   2.577293   \n",
       "5483789   82.543117       12    1940.134521       43.934719   4.003301   \n",
       "5483790    2.854671       18    1702.657715       -9.733911   2.854671   \n",
       "5483793   21.286004       18    1840.056641      -38.210846   3.832711   \n",
       "5483794  107.055422        0    2022.868408       -2.352027   2.335667   \n",
       "\n",
       "          theta_y  \n",
       "2       -0.023510  \n",
       "3        0.007223  \n",
       "6       -0.004149  \n",
       "18       0.000780  \n",
       "20      -0.010657  \n",
       "...           ...  \n",
       "5483788  0.005885  \n",
       "5483789  0.022641  \n",
       "5483790 -0.005717  \n",
       "5483793 -0.020763  \n",
       "5483794 -0.001163  \n",
       "\n",
       "[1647557 rows x 6 columns]"
      ]
     },
     "execution_count": 5,
     "metadata": {},
     "output_type": "execute_result"
    }
   ],
   "source": [
    "p=data['trackMomentum']\n",
    "py=data['trackMomentumY']\n",
    "t=data['trackT0']\n",
    "mod_times = cu.get_g2_mod_time(t) # Module the g-2 oscillation time \n",
    "theta_y = np.arctan2(py, p)\n",
    "data['mod_times']=mod_times\n",
    "data['theta_y']=theta_y\n",
    "N=data.shape[0] \n",
    "data"
   ]
  },
  {
   "cell_type": "markdown",
   "metadata": {
    "Collapsed": "false"
   },
   "source": [
    "### Digitise data"
   ]
  },
  {
   "cell_type": "code",
   "execution_count": 6,
   "metadata": {
    "Collapsed": "false"
   },
   "outputs": [],
   "source": [
    "count_binw=0.01 # us \n",
    "count_xmin=0\n",
    "count_xmax=g2period\n",
    "bin_c, freq = cu.get_freq_bin_c_from_data(mod_times, count_binw, (count_xmin, count_xmax) )\n",
    "y_err = np.sqrt(freq)"
   ]
  },
  {
   "cell_type": "markdown",
   "metadata": {
    "Collapsed": "false"
   },
   "source": [
    "### Plot counts vs. mod time and fit"
   ]
  },
  {
   "cell_type": "code",
   "execution_count": 7,
   "metadata": {
    "Collapsed": "false"
   },
   "outputs": [
    {
     "name": "stdout",
     "output_type": "stream",
     "text": [
      "Params: [ 3.822e+03  1.307e+02 -3.548e-01  1.422e+00  6.387e+00]\n",
      "Errors: [2.047e+01 3.542e+01 2.162e-03 8.043e-03 2.057e-02]\n",
      "𝝌2/dof=1.95\n"
     ]
    }
   ],
   "source": [
    "#set vars, fit pars, and fot\n",
    "x,y,y_e = bin_c, freq, y_err\n",
    "p0=[1e3, 1e4, -0.4, 1.44, 6.24]\n",
    "par, par_e, chi2_ndf = cu.fit_and_chi2(x, y, y_e, cu.unblinded_wiggle_function, p0)"
   ]
  },
  {
   "cell_type": "code",
   "execution_count": 8,
   "metadata": {
    "Collapsed": "false"
   },
   "outputs": [
    {
     "data": {
      "image/png": "[encoded data removed]",
      "text/plain": [
       "<Figure size 504x360 with 1 Axes>"
      ]
     },
     "metadata": {
      "needs_background": "light"
     },
     "output_type": "display_data"
    }
   ],
   "source": [
    "font_size=14\n",
    "fig, ax = cu.plot(bin_c, freq, y_err=y_err, error=True, elw=1, label=\"Data (sim.)\", fs=font_size, tight=False,\n",
    "                  xlabel=r\"$t^{mod}_{g-2} \\ \\mathrm{[\\mu}$s]\", ylabel=r\"Counts ($N$) per \"+str(int(count_binw*1e3))+\" ns\")\n",
    "ax.plot(bin_c, cu.unblinded_wiggle_function(bin_c, *par), c=\"red\", \n",
    "        label=r'Fit: $N(t)=Ne^{-t/\\tau}[1+A\\cos(\\omega_at+\\phi)]$', lw=2)\n",
    "ax.set_xlim(0, g2period);\n",
    "ax.set_ylim(np.amin(freq)*0.9, np.amax(freq)*1.15);\n",
    "leg_fit=cu.legend1_fit(chi2_ndf)\n",
    "leg_fit=cu.legend_1par(leg_fit, r\"$\\phi$\", par[4], par_e[4], \" rad\", prec=3)\n",
    "leg_data=\"N=\"+cu.sci_notation(N)+\"\\n\"+r\"$p$>\"+str(p_min)+\" MeV\\n\"+str(x_min)+r\"<$t$<\"+str(x_max)+r\"$\\mathrm{[\\mu}$s]\"\n",
    "ax.legend(fontsize=font_size, loc='upper center', bbox_to_anchor=(0.5, 1.1));\n",
    "cu.textL(ax, 0.18, 0.75, leg_fit, c=\"r\", fs=font_size+2)\n",
    "cu.textL(ax, 0.85, 0.75, leg_data, fs=font_size+2)\n",
    "fig.savefig(\"../fig/bnl_fit.png\", dpi=300)"
   ]
  },
  {
   "cell_type": "markdown",
   "metadata": {
    "Collapsed": "false"
   },
   "source": [
    "### Profile the $\\langle\\theta_y\\rangle$, fit and plot"
   ]
  },
  {
   "cell_type": "code",
   "execution_count": 9,
   "metadata": {
    "Collapsed": "false"
   },
   "outputs": [],
   "source": [
    "df_binned =cu.Profile(mod_times, theta_y, None, nbins=100, xmin=np.min(mod_times), xmax=np.max(mod_times), mean=True, only_binned=True)\n",
    "x=df_binned['bincenters']\n",
    "y=df_binned['ymean']*1e3\n",
    "y_e=df_binned['yerr']*1e3\n",
    "x_e=df_binned['xerr']"
   ]
  },
  {
   "cell_type": "code",
   "execution_count": 10,
   "metadata": {
    "Collapsed": "false"
   },
   "outputs": [
    {
     "name": "stdout",
     "output_type": "stream",
     "text": [
      "Params: [-0.013  0.166  0.058  1.334]\n",
      "Errors: [0.034 0.015 0.013 0.096]\n",
      "𝝌2/dof=1.06\n"
     ]
    }
   ],
   "source": [
    "p0=[0.00, 0.14, 0.06, 1.44]\n",
    "par, par_e, chi2_ndf = cu.fit_and_chi2(x, y, y_e, cu.thetaY_unblinded_phase, p0)"
   ]
  },
  {
   "cell_type": "code",
   "execution_count": 11,
   "metadata": {
    "Collapsed": "false"
   },
   "outputs": [
    {
     "data": {
      "image/png": "[encoded data removed]",
      "text/plain": [
       "<Figure size 504x360 with 1 Axes>"
      ]
     },
     "metadata": {
      "needs_background": "light"
     },
     "output_type": "display_data"
    }
   ],
   "source": [
    "fig, ax = cu.plot(x, y, y_err=y_e, error=True, elw=1, label=\"Data (sim.)\", font_size=font_size, tight=False,\n",
    "                  xlabel=r\"$t^{mod}_{g-2} \\ \\mathrm{[\\mu}$s]\",  ylabel=r\"$\\langle\\theta_y\\rangle$ [mrad]\")\n",
    "ax.plot(x, cu.thetaY_unblinded_phase(x, *par), color=\"red\", \n",
    "        label=r'Fit: $\\langle \\theta(t) \\rangle =  A_{\\mathrm{B_z}}\\cos(\\omega_a t + \\phi) + A_{\\mathrm{EDM}}\\sin(\\omega_a t + \\phi) + c$', lw=2)\n",
    "ax.set_xlim(0, g2period);\n",
    "ax.set_ylim(-np.amax(y)*2.0, np.amax(y)*2.0);\n",
    "leg_data=\"N=\"+cu.sci_notation(N)+\"\\n\"+r\"$p$>\"+str(p_min)+\" MeV\\n\"+str(x_min)+r\"<$t$<\"+str(x_max)+r\" $\\mathrm{\\mu}$s\"\n",
    "ax.legend(fontsize=font_size, loc='upper center', bbox_to_anchor=(0.5, 1.1));\n",
    "cu.textL(ax, 0.85, 0.8, leg_data, font_size=font_size)\n",
    "leg_fit=cu.legend1_fit(chi2_ndf)\n",
    "leg_fit=cu.legend_1par(leg_fit, r\"$B_z$\", par[0], par_e[0], \"mrad\")\n",
    "cu.textL(ax, 0.25, 0.3, leg_fit, font_size=font_size, )\n",
    "fig.savefig(\"../fig/bz_fit.png\", dpi=300)"
   ]
  },
  {
   "cell_type": "code",
   "execution_count": null,
   "metadata": {
    "Collapsed": "false"
   },
   "outputs": [],
   "source": []
  },
  {
   "cell_type": "code",
   "execution_count": null,
   "metadata": {
    "Collapsed": "false"
   },
   "outputs": [],
   "source": []
  },
  {
   "cell_type": "code",
   "execution_count": null,
   "metadata": {
    "Collapsed": "false"
   },
   "outputs": [],
   "source": []
  }
 ],
 "metadata": {
  "kernelspec": {
   "display_name": "Python 3",
   "language": "python",
   "name": "python3"
  },
  "language_info": {
   "codemirror_mode": {
    "name": "ipython",
    "version": 3
   },
   "file_extension": ".py",
   "mimetype": "text/x-python",
   "name": "python",
   "nbconvert_exporter": "python",
   "pygments_lexer": "ipython3",
   "version": "3.7.6"
  }
 },
 "nbformat": 4,
 "nbformat_minor": 4
}
