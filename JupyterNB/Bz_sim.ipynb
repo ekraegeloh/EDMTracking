{
 "cells": [
  {
   "cell_type": "markdown",
   "metadata": {
    "Collapsed": "false"
   },
   "source": [
    "# $B_z$ extraction is simulation"
   ]
  },
  {
   "cell_type": "code",
   "execution_count": 1,
   "metadata": {
    "Collapsed": "false"
   },
   "outputs": [],
   "source": [
    "import numpy as np\n",
    "import pandas as pd\n",
    "import matplotlib.pyplot as plt\n",
    "%matplotlib inline\n",
    "import os, sys\n",
    "from scipy import optimize\n",
    "sys.path.append(\"../CommonUtils/\")\n",
    "import CommonUtils as cu"
   ]
  },
  {
   "cell_type": "markdown",
   "metadata": {
    "Collapsed": "false"
   },
   "source": [
    "### Define constants and starting fit parameters"
   ]
  },
  {
   "cell_type": "code",
   "execution_count": 2,
   "metadata": {
    "Collapsed": "false"
   },
   "outputs": [
    {
     "name": "stdout",
     "output_type": "stream",
     "text": [
      "Starting and end times [us]: 0 500\n",
      "P cut [MeV]: 1800\n",
      "Using derived phase of [rad] 6.24\n"
     ]
    }
   ],
   "source": [
    "bin_w = 150*1e-3 # 150 ns \n",
    "min_x = 0 # us  #TODO 30 for data \n",
    "max_x = 500 # us \n",
    "p_min = 1800 # MeV \n",
    "print(\"Starting and end times [us]:\", min_x, max_x)\n",
    "print(\"P cut [MeV]:\", p_min)\n",
    "\n",
    "omega_a = 1.44 # MHz (magic)\n",
    "gm2_f = 0.23 # MHz\n",
    "g2period = 2*np.pi / omega_a   # 4.36 us \n",
    "\n",
    "phase=6.240\n",
    "print(\"Using derived phase of [rad]\", phase)\n",
    "\n",
    "gm2_asym = 0.45 \n",
    "ang_amp = 1.0\n",
    "cos_amp = 1. / np.sqrt(2)\n",
    "sin_amp = np.sqrt(1 - np.power(cos_amp, 2))\n",
    "p0_ver=(ang_amp, cos_amp, omega_a, phase, sin_amp)"
   ]
  },
  {
   "cell_type": "markdown",
   "metadata": {
    "Collapsed": "false"
   },
   "source": [
    "### Define fit functions"
   ]
  },
  {
   "cell_type": "code",
   "execution_count": 3,
   "metadata": {
    "Collapsed": "false"
   },
   "outputs": [],
   "source": [
    "def f_vertical(t, *pars):\n",
    "    N=pars[0]\n",
    "    A_w=pars[1]\n",
    "    omega=pars[2]\n",
    "    phi=pars[3]\n",
    "    A_edm=pars[4]\n",
    "    return N*( A_w*np.cos(omega*t+phi) + A_edm*np.sin(omega*t+phi))\n"
   ]
  },
  {
   "cell_type": "markdown",
   "metadata": {
    "Collapsed": "false"
   },
   "source": [
    "### Load HDF5 data and apply time and momentum cuts"
   ]
  },
  {
   "cell_type": "code",
   "execution_count": 4,
   "metadata": {
    "Collapsed": "false"
   },
   "outputs": [],
   "source": [
    "data = pd.read_hdf(\"../DATA/HDF/Sim/VLEDM.h5\", columns=(\"trackT0\", \"station\", \"trackMomentum\", \"trackMomentumY\") )\n",
    "mom_cut = (data['trackMomentum'] > p_min) # MeV  \n",
    "time_cut = (data['trackT0'] > min_x) # MeV  \n",
    "data=data[mom_cut & time_cut]\n",
    "\n",
    "#define station cuts to loop over\n",
    "# s12_cut = (data['station'] == stations[0])\n",
    "# s18_cut = (data['station'] == stations[1])\n",
    "# station_cut = (s12_cut, s18_cut)"
   ]
  },
  {
   "cell_type": "markdown",
   "metadata": {
    "Collapsed": "false"
   },
   "source": [
    "### Resolve variables"
   ]
  },
  {
   "cell_type": "code",
   "execution_count": 5,
   "metadata": {
    "Collapsed": "false"
   },
   "outputs": [
    {
     "data": {
      "text/html": [
       "<div>\n",
       "<style scoped>\n",
       "    .dataframe tbody tr th:only-of-type {\n",
       "        vertical-align: middle;\n",
       "    }\n",
       "\n",
       "    .dataframe tbody tr th {\n",
       "        vertical-align: top;\n",
       "    }\n",
       "\n",
       "    .dataframe thead th {\n",
       "        text-align: right;\n",
       "    }\n",
       "</style>\n",
       "<table border=\"1\" class=\"dataframe\">\n",
       "  <thead>\n",
       "    <tr style=\"text-align: right;\">\n",
       "      <th></th>\n",
       "      <th>trackT0</th>\n",
       "      <th>station</th>\n",
       "      <th>trackMomentum</th>\n",
       "      <th>trackMomentumY</th>\n",
       "      <th>mod_times</th>\n",
       "      <th>theta_y</th>\n",
       "    </tr>\n",
       "  </thead>\n",
       "  <tbody>\n",
       "    <tr>\n",
       "      <th>2</th>\n",
       "      <td>80.277852</td>\n",
       "      <td>18</td>\n",
       "      <td>2544.615967</td>\n",
       "      <td>-59.835049</td>\n",
       "      <td>1.738035</td>\n",
       "      <td>-0.023510</td>\n",
       "    </tr>\n",
       "    <tr>\n",
       "      <th>3</th>\n",
       "      <td>42.755086</td>\n",
       "      <td>0</td>\n",
       "      <td>2182.920654</td>\n",
       "      <td>15.766864</td>\n",
       "      <td>3.485178</td>\n",
       "      <td>0.007223</td>\n",
       "    </tr>\n",
       "    <tr>\n",
       "      <th>6</th>\n",
       "      <td>10.879105</td>\n",
       "      <td>12</td>\n",
       "      <td>2120.369385</td>\n",
       "      <td>-8.798045</td>\n",
       "      <td>2.152459</td>\n",
       "      <td>-0.004149</td>\n",
       "    </tr>\n",
       "    <tr>\n",
       "      <th>18</th>\n",
       "      <td>11.418941</td>\n",
       "      <td>0</td>\n",
       "      <td>2252.512695</td>\n",
       "      <td>1.755878</td>\n",
       "      <td>2.692295</td>\n",
       "      <td>0.000780</td>\n",
       "    </tr>\n",
       "    <tr>\n",
       "      <th>20</th>\n",
       "      <td>204.562281</td>\n",
       "      <td>18</td>\n",
       "      <td>2131.132812</td>\n",
       "      <td>-22.711870</td>\n",
       "      <td>3.849417</td>\n",
       "      <td>-0.010657</td>\n",
       "    </tr>\n",
       "    <tr>\n",
       "      <th>...</th>\n",
       "      <td>...</td>\n",
       "      <td>...</td>\n",
       "      <td>...</td>\n",
       "      <td>...</td>\n",
       "      <td>...</td>\n",
       "      <td>...</td>\n",
       "    </tr>\n",
       "    <tr>\n",
       "      <th>5483776</th>\n",
       "      <td>70.492133</td>\n",
       "      <td>18</td>\n",
       "      <td>2016.368164</td>\n",
       "      <td>17.139523</td>\n",
       "      <td>0.678963</td>\n",
       "      <td>0.008500</td>\n",
       "    </tr>\n",
       "    <tr>\n",
       "      <th>5483788</th>\n",
       "      <td>33.120555</td>\n",
       "      <td>12</td>\n",
       "      <td>2171.714844</td>\n",
       "      <td>12.780183</td>\n",
       "      <td>2.577293</td>\n",
       "      <td>0.005885</td>\n",
       "    </tr>\n",
       "    <tr>\n",
       "      <th>5483789</th>\n",
       "      <td>82.543117</td>\n",
       "      <td>12</td>\n",
       "      <td>1940.134521</td>\n",
       "      <td>43.934719</td>\n",
       "      <td>4.003301</td>\n",
       "      <td>0.022641</td>\n",
       "    </tr>\n",
       "    <tr>\n",
       "      <th>5483793</th>\n",
       "      <td>21.286004</td>\n",
       "      <td>18</td>\n",
       "      <td>1840.056641</td>\n",
       "      <td>-38.210846</td>\n",
       "      <td>3.832711</td>\n",
       "      <td>-0.020763</td>\n",
       "    </tr>\n",
       "    <tr>\n",
       "      <th>5483794</th>\n",
       "      <td>107.055422</td>\n",
       "      <td>0</td>\n",
       "      <td>2022.868408</td>\n",
       "      <td>-2.352027</td>\n",
       "      <td>2.335667</td>\n",
       "      <td>-0.001163</td>\n",
       "    </tr>\n",
       "  </tbody>\n",
       "</table>\n",
       "<p>1403669 rows × 6 columns</p>\n",
       "</div>"
      ],
      "text/plain": [
       "            trackT0  station  trackMomentum  trackMomentumY  mod_times  \\\n",
       "2         80.277852       18    2544.615967      -59.835049   1.738035   \n",
       "3         42.755086        0    2182.920654       15.766864   3.485178   \n",
       "6         10.879105       12    2120.369385       -8.798045   2.152459   \n",
       "18        11.418941        0    2252.512695        1.755878   2.692295   \n",
       "20       204.562281       18    2131.132812      -22.711870   3.849417   \n",
       "...             ...      ...            ...             ...        ...   \n",
       "5483776   70.492133       18    2016.368164       17.139523   0.678963   \n",
       "5483788   33.120555       12    2171.714844       12.780183   2.577293   \n",
       "5483789   82.543117       12    1940.134521       43.934719   4.003301   \n",
       "5483793   21.286004       18    1840.056641      -38.210846   3.832711   \n",
       "5483794  107.055422        0    2022.868408       -2.352027   2.335667   \n",
       "\n",
       "          theta_y  \n",
       "2       -0.023510  \n",
       "3        0.007223  \n",
       "6       -0.004149  \n",
       "18       0.000780  \n",
       "20      -0.010657  \n",
       "...           ...  \n",
       "5483776  0.008500  \n",
       "5483788  0.005885  \n",
       "5483789  0.022641  \n",
       "5483793 -0.020763  \n",
       "5483794 -0.001163  \n",
       "\n",
       "[1403669 rows x 6 columns]"
      ]
     },
     "execution_count": 5,
     "metadata": {},
     "output_type": "execute_result"
    }
   ],
   "source": [
    "p=data['trackMomentum']\n",
    "py=data['trackMomentumY']\n",
    "t=data['trackT0']\n",
    "mod_times = cu.get_g2_mod_time(t) # Module the g-2 oscillation time \n",
    "theta_y = np.arctan2(py, p)\n",
    "data['mod_times']=mod_times\n",
    "data['theta_y']=theta_y\n",
    "N=data.shape[0] \n",
    "data"
   ]
  },
  {
   "cell_type": "markdown",
   "metadata": {
    "Collapsed": "false"
   },
   "source": [
    "### Digitise data"
   ]
  },
  {
   "cell_type": "code",
   "execution_count": 14,
   "metadata": {
    "Collapsed": "false"
   },
   "outputs": [],
   "source": [
    "count_binw=0.01 # us \n",
    "count_xmin=0\n",
    "count_xmax=g2period\n",
    "bin_c, freq = cu.get_freq_bin_c_from_data(mod_times, count_binw, (count_xmin, count_xmax) )\n",
    "y_err = np.sqrt(freq)"
   ]
  },
  {
   "cell_type": "markdown",
   "metadata": {
    "Collapsed": "false"
   },
   "source": [
    "### Plot counts vs. mod time and fit"
   ]
  },
  {
   "cell_type": "code",
   "execution_count": 36,
   "metadata": {
    "Collapsed": "false"
   },
   "outputs": [
    {
     "name": "stdout",
     "output_type": "stream",
     "text": [
      "Params: [ 3.198e+03 -3.488e+09 -3.871e-01  1.417e+00  6.423e+00]\n",
      "Errors: [8.024e+00 1.089e+15 2.341e-03 7.834e-03 1.711e-02]\n",
      "𝝌2/dof=2.01\n"
     ]
    },
    {
     "data": {
      "text/plain": [
       "Text(0.8, 0.7, 'N=$1.4\\\\cdot10^{6}$')"
      ]
     },
     "execution_count": 36,
     "metadata": {},
     "output_type": "execute_result"
    },
    {
     "data": {
      "image/png": "[encoded data removed]",
      "text/plain": [
       "<Figure size 504x360 with 1 Axes>"
      ]
     },
     "metadata": {
      "needs_background": "light"
     },
     "output_type": "display_data"
    }
   ],
   "source": [
    "x,y,y_e = bin_c, freq, y_err\n",
    "p0=[1e3, 1e4, -0.4, 1.44, 6.24]\n",
    "par, par_e, chi2_ndf = cu.fit_and_chi2(x, y, y_e, cu.unblinded_wiggle_function, p0)\n",
    "\n",
    "fig, ax = cu.plot(bin_c, freq, y_err=y_err, error=True, elw=1, label=\"Data (sim.)\",\n",
    "                  xlabel=r\"$t^{mod}_{g-2} \\ \\mathrm{[\\mu}$s]\", ylabel=r\"Counts ($N$) per \"+str(int(count_binw*1e3))+\" ns\")\n",
    "ax.plot(bin_c, cu.unblinded_wiggle_function(bin_c, *par), color=\"red\", \n",
    "        label=r'Fit: ', lw=2)\n",
    "ax.set_xlim(0, g2period);\n",
    "ax.set_ylim(np.amin(freq)*0.9, np.amax(freq)*1.2);\n",
    "leg_fit=cu.legend1_fit(chi2_ndf)\n",
    "leg_fit=cu.legend_par(leg_fit, [r\"$\\phi$\"], [1], [1], [\"rad\"])\n",
    "leg_data=\"N=\"+cu.sci_notation(N)\n",
    "font_size=16\n",
    "ax.legend(fontsize=font_size)\n",
    "cu.textL(ax, 0.2, 0.8, leg_fit, color=\"r\", font_size=font_size)\n",
    "cu.textL(ax, 0.8, 0.7, leg_data, font_size=font_size)\n",
    "\n"
   ]
  },
  {
   "cell_type": "markdown",
   "metadata": {
    "Collapsed": "false"
   },
   "source": [
    "### Profile the $\\langle\\theta_y\\rangle$, fit and plot"
   ]
  },
  {
   "cell_type": "code",
   "execution_count": 10,
   "metadata": {
    "Collapsed": "false"
   },
   "outputs": [
    {
     "data": {
      "text/html": [
       "<div>\n",
       "<style scoped>\n",
       "    .dataframe tbody tr th:only-of-type {\n",
       "        vertical-align: middle;\n",
       "    }\n",
       "\n",
       "    .dataframe tbody tr th {\n",
       "        vertical-align: top;\n",
       "    }\n",
       "\n",
       "    .dataframe thead th {\n",
       "        text-align: right;\n",
       "    }\n",
       "</style>\n",
       "<table border=\"1\" class=\"dataframe\">\n",
       "  <thead>\n",
       "    <tr style=\"text-align: right;\">\n",
       "      <th></th>\n",
       "      <th>index</th>\n",
       "      <th>bincenters</th>\n",
       "      <th>ymean</th>\n",
       "      <th>xerr</th>\n",
       "      <th>yerr</th>\n",
       "    </tr>\n",
       "  </thead>\n",
       "  <tbody>\n",
       "    <tr>\n",
       "      <th>0</th>\n",
       "      <td>1</td>\n",
       "      <td>0.145448</td>\n",
       "      <td>0.000025</td>\n",
       "      <td>0.145444</td>\n",
       "      <td>0.000055</td>\n",
       "    </tr>\n",
       "    <tr>\n",
       "      <th>1</th>\n",
       "      <td>2</td>\n",
       "      <td>0.436336</td>\n",
       "      <td>0.000178</td>\n",
       "      <td>0.145444</td>\n",
       "      <td>0.000051</td>\n",
       "    </tr>\n",
       "    <tr>\n",
       "      <th>2</th>\n",
       "      <td>3</td>\n",
       "      <td>0.727223</td>\n",
       "      <td>0.000108</td>\n",
       "      <td>0.145444</td>\n",
       "      <td>0.000046</td>\n",
       "    </tr>\n",
       "    <tr>\n",
       "      <th>3</th>\n",
       "      <td>4</td>\n",
       "      <td>1.018111</td>\n",
       "      <td>0.000182</td>\n",
       "      <td>0.145444</td>\n",
       "      <td>0.000042</td>\n",
       "    </tr>\n",
       "    <tr>\n",
       "      <th>4</th>\n",
       "      <td>5</td>\n",
       "      <td>1.308999</td>\n",
       "      <td>0.000165</td>\n",
       "      <td>0.145444</td>\n",
       "      <td>0.000038</td>\n",
       "    </tr>\n",
       "    <tr>\n",
       "      <th>5</th>\n",
       "      <td>6</td>\n",
       "      <td>1.599887</td>\n",
       "      <td>0.000219</td>\n",
       "      <td>0.145444</td>\n",
       "      <td>0.000035</td>\n",
       "    </tr>\n",
       "    <tr>\n",
       "      <th>6</th>\n",
       "      <td>7</td>\n",
       "      <td>1.890775</td>\n",
       "      <td>0.000157</td>\n",
       "      <td>0.145444</td>\n",
       "      <td>0.000035</td>\n",
       "    </tr>\n",
       "    <tr>\n",
       "      <th>7</th>\n",
       "      <td>8</td>\n",
       "      <td>2.181662</td>\n",
       "      <td>0.000066</td>\n",
       "      <td>0.145444</td>\n",
       "      <td>0.000035</td>\n",
       "    </tr>\n",
       "    <tr>\n",
       "      <th>8</th>\n",
       "      <td>9</td>\n",
       "      <td>2.472550</td>\n",
       "      <td>0.000022</td>\n",
       "      <td>0.145444</td>\n",
       "      <td>0.000036</td>\n",
       "    </tr>\n",
       "    <tr>\n",
       "      <th>9</th>\n",
       "      <td>10</td>\n",
       "      <td>2.763438</td>\n",
       "      <td>-0.000005</td>\n",
       "      <td>0.145444</td>\n",
       "      <td>0.000037</td>\n",
       "    </tr>\n",
       "    <tr>\n",
       "      <th>10</th>\n",
       "      <td>11</td>\n",
       "      <td>3.054326</td>\n",
       "      <td>-0.000097</td>\n",
       "      <td>0.145444</td>\n",
       "      <td>0.000039</td>\n",
       "    </tr>\n",
       "    <tr>\n",
       "      <th>11</th>\n",
       "      <td>12</td>\n",
       "      <td>3.345214</td>\n",
       "      <td>-0.000032</td>\n",
       "      <td>0.145444</td>\n",
       "      <td>0.000044</td>\n",
       "    </tr>\n",
       "    <tr>\n",
       "      <th>12</th>\n",
       "      <td>13</td>\n",
       "      <td>3.636101</td>\n",
       "      <td>-0.000054</td>\n",
       "      <td>0.145444</td>\n",
       "      <td>0.000049</td>\n",
       "    </tr>\n",
       "    <tr>\n",
       "      <th>13</th>\n",
       "      <td>14</td>\n",
       "      <td>3.926989</td>\n",
       "      <td>-0.000148</td>\n",
       "      <td>0.145444</td>\n",
       "      <td>0.000054</td>\n",
       "    </tr>\n",
       "    <tr>\n",
       "      <th>14</th>\n",
       "      <td>15</td>\n",
       "      <td>4.217877</td>\n",
       "      <td>0.000011</td>\n",
       "      <td>0.145444</td>\n",
       "      <td>0.000057</td>\n",
       "    </tr>\n",
       "  </tbody>\n",
       "</table>\n",
       "</div>"
      ],
      "text/plain": [
       "    index  bincenters     ymean      xerr      yerr\n",
       "0       1    0.145448  0.000025  0.145444  0.000055\n",
       "1       2    0.436336  0.000178  0.145444  0.000051\n",
       "2       3    0.727223  0.000108  0.145444  0.000046\n",
       "3       4    1.018111  0.000182  0.145444  0.000042\n",
       "4       5    1.308999  0.000165  0.145444  0.000038\n",
       "5       6    1.599887  0.000219  0.145444  0.000035\n",
       "6       7    1.890775  0.000157  0.145444  0.000035\n",
       "7       8    2.181662  0.000066  0.145444  0.000035\n",
       "8       9    2.472550  0.000022  0.145444  0.000036\n",
       "9      10    2.763438 -0.000005  0.145444  0.000037\n",
       "10     11    3.054326 -0.000097  0.145444  0.000039\n",
       "11     12    3.345214 -0.000032  0.145444  0.000044\n",
       "12     13    3.636101 -0.000054  0.145444  0.000049\n",
       "13     14    3.926989 -0.000148  0.145444  0.000054\n",
       "14     15    4.217877  0.000011  0.145444  0.000057"
      ]
     },
     "execution_count": 10,
     "metadata": {},
     "output_type": "execute_result"
    }
   ],
   "source": [
    "df_binned =cu.Profile(mod_times, theta_y, None, nbins=15, xmin=np.min(mod_times), xmax=np.max(mod_times), mean=True, only_binned=True)\n",
    "x=df_binned['bincenters']\n",
    "y=df_binned['ymean']*1e3\n",
    "y_e=df_binned['yerr']*1e3\n",
    "x_e=df_binned['xerr']\n",
    "df_binned"
   ]
  },
  {
   "cell_type": "code",
   "execution_count": 11,
   "metadata": {
    "Collapsed": "false"
   },
   "outputs": [
    {
     "name": "stdout",
     "output_type": "stream",
     "text": [
      "Params: [-0.02482847  0.13836955  0.05216744  1.4113823 ]\n",
      "Errors: [0.03468432 0.01603244 0.01222005 0.11066867]\n",
      "Fit $\\frac{\\chi^2}{\\rm{DoF}}$=1.04\n"
     ]
    }
   ],
   "source": [
    "# Levenberg-Marquardt algorithm as implemented in MINPACK\n",
    "par, pcov = optimize.curve_fit(cu.thetaY_unblinded_phase, x, y, sigma=y_e, p0=[0.00, 0.14, 0.02, 1.41], absolute_sigma=False, method='lm')\n",
    "par_e = np.sqrt(np.diag(pcov))\n",
    "print(\"Params:\", par)\n",
    "print(\"Errors:\", par_e)\n",
    "chi2_ndf, chi2, ndf=cu.chi2_ndf(x, y, y_e, cu.thetaY_unblinded_phase, par)\n",
    "print( r\"Fit $\\frac{\\chi^2}{\\rm{DoF}}$=\"+str(round(chi2_ndf,2)) )"
   ]
  },
  {
   "cell_type": "code",
   "execution_count": 12,
   "metadata": {
    "Collapsed": "false"
   },
   "outputs": [
    {
     "name": "stdout",
     "output_type": "stream",
     "text": [
      "  $\\frac{\\chi^2}{DoF}$=1.04\n",
      "\n",
      "$ A_{B_z}$=-0.02(3) mrad\n",
      "$ A_{\\rm{EDM}}$=+0.14(2) mrad\n",
      "c=+0.05(1) mrad\n",
      "$\\omega$=+1.41(11) MhZ\n",
      "\n"
     ]
    },
    {
     "ename": "TypeError",
     "evalue": "textL() got an unexpected keyword argument 'fontsize'",
     "output_type": "error",
     "traceback": [
      "\u001b[0;31m---------------------------------------------------------------------------\u001b[0m",
      "\u001b[0;31mTypeError\u001b[0m                                 Traceback (most recent call last)",
      "\u001b[0;32m<ipython-input-12-3c18b9f7637d>\u001b[0m in \u001b[0;36m<module>\u001b[0;34m\u001b[0m\n\u001b[0;32m----> 1\u001b[0;31m \u001b[0mfix\u001b[0m\u001b[0;34m,\u001b[0m \u001b[0max\u001b[0m \u001b[0;34m=\u001b[0m \u001b[0mcu\u001b[0m\u001b[0;34m.\u001b[0m\u001b[0mprofile_plot\u001b[0m\u001b[0;34m(\u001b[0m\u001b[0mx\u001b[0m\u001b[0;34m,\u001b[0m\u001b[0my\u001b[0m\u001b[0;34m,\u001b[0m\u001b[0mx_e\u001b[0m\u001b[0;34m,\u001b[0m\u001b[0my_e\u001b[0m\u001b[0;34m,\u001b[0m\u001b[0mcu\u001b[0m\u001b[0;34m.\u001b[0m\u001b[0mthetaY_unblinded_phase\u001b[0m\u001b[0;34m,\u001b[0m \u001b[0mpar\u001b[0m\u001b[0;34m,\u001b[0m \u001b[0mpar_e\u001b[0m\u001b[0;34m,\u001b[0m \u001b[0mchi2_ndf\u001b[0m\u001b[0;34m,\u001b[0m \u001b[0mN\u001b[0m\u001b[0;34m)\u001b[0m\u001b[0;34m\u001b[0m\u001b[0;34m\u001b[0m\u001b[0m\n\u001b[0m",
      "\u001b[0;32m~/software/EDMTracking/CommonUtils/CommonUtils.py\u001b[0m in \u001b[0;36mprofile_plot\u001b[0;34m(x, y, x_err, y_err, func, par, par_e, chi2_ndf, N, font_size, y_label, x_label, data_type, p_cut)\u001b[0m\n\u001b[1;32m    148\u001b[0m     \u001b[0;31m#place on the plot and save\u001b[0m\u001b[0;34m\u001b[0m\u001b[0;34m\u001b[0m\u001b[0;34m\u001b[0m\u001b[0m\n\u001b[1;32m    149\u001b[0m     \u001b[0my1\u001b[0m\u001b[0;34m,\u001b[0m\u001b[0my2\u001b[0m\u001b[0;34m,\u001b[0m\u001b[0mx1\u001b[0m\u001b[0;34m,\u001b[0m\u001b[0mx2\u001b[0m\u001b[0;34m=\u001b[0m\u001b[0;36m0.2\u001b[0m\u001b[0;34m,\u001b[0m\u001b[0;36m0.85\u001b[0m\u001b[0;34m,\u001b[0m\u001b[0;36m0.25\u001b[0m\u001b[0;34m,\u001b[0m\u001b[0;36m0.70\u001b[0m\u001b[0;34m\u001b[0m\u001b[0;34m\u001b[0m\u001b[0m\n\u001b[0;32m--> 150\u001b[0;31m     \u001b[0mtextL\u001b[0m\u001b[0;34m(\u001b[0m\u001b[0max\u001b[0m\u001b[0;34m,\u001b[0m \u001b[0mx1\u001b[0m\u001b[0;34m,\u001b[0m \u001b[0my1\u001b[0m\u001b[0;34m,\u001b[0m \u001b[0mlegend1\u001b[0m\u001b[0;34m,\u001b[0m \u001b[0mfontsize\u001b[0m\u001b[0;34m=\u001b[0m\u001b[0mfont_size\u001b[0m\u001b[0;34m-\u001b[0m\u001b[0;36m5\u001b[0m\u001b[0;34m,\u001b[0m \u001b[0mcolor\u001b[0m\u001b[0;34m=\u001b[0m\u001b[0;34m\"red\"\u001b[0m\u001b[0;34m)\u001b[0m\u001b[0;34m\u001b[0m\u001b[0;34m\u001b[0m\u001b[0m\n\u001b[0m\u001b[1;32m    151\u001b[0m     \u001b[0mtextL\u001b[0m\u001b[0;34m(\u001b[0m\u001b[0max\u001b[0m\u001b[0;34m,\u001b[0m \u001b[0mx2\u001b[0m\u001b[0;34m,\u001b[0m \u001b[0my2\u001b[0m\u001b[0;34m,\u001b[0m \u001b[0mlegend2\u001b[0m\u001b[0;34m,\u001b[0m \u001b[0mfontsize\u001b[0m\u001b[0;34m=\u001b[0m\u001b[0mfont_size\u001b[0m\u001b[0;34m-\u001b[0m\u001b[0;36m4\u001b[0m\u001b[0;34m)\u001b[0m\u001b[0;34m\u001b[0m\u001b[0;34m\u001b[0m\u001b[0m\n\u001b[1;32m    152\u001b[0m     \u001b[0max\u001b[0m\u001b[0;34m.\u001b[0m\u001b[0mlegend\u001b[0m\u001b[0;34m(\u001b[0m\u001b[0mloc\u001b[0m\u001b[0;34m=\u001b[0m\u001b[0;34m'center right'\u001b[0m\u001b[0;34m,\u001b[0m \u001b[0mfontsize\u001b[0m\u001b[0;34m=\u001b[0m\u001b[0mfont_size\u001b[0m\u001b[0;34m-\u001b[0m\u001b[0;36m4\u001b[0m\u001b[0;34m)\u001b[0m\u001b[0;34m\u001b[0m\u001b[0;34m\u001b[0m\u001b[0m\n",
      "\u001b[0;31mTypeError\u001b[0m: textL() got an unexpected keyword argument 'fontsize'"
     ]
    },
    {
     "data": {
      "image/png": "[encoded data removed]",
      "text/plain": [
       "<Figure size 432x288 with 1 Axes>"
      ]
     },
     "metadata": {
      "needs_background": "light"
     },
     "output_type": "display_data"
    }
   ],
   "source": [
    "fix, ax = cu.profile_plot(x,y,x_e,y_e,cu.thetaY_unblinded_phase, par, par_e, chi2_ndf, N)"
   ]
  },
  {
   "cell_type": "code",
   "execution_count": null,
   "metadata": {
    "Collapsed": "false"
   },
   "outputs": [],
   "source": []
  }
 ],
 "metadata": {
  "kernelspec": {
   "display_name": "Python 3",
   "language": "python",
   "name": "python3"
  },
  "language_info": {
   "codemirror_mode": {
    "name": "ipython",
    "version": 3
   },
   "file_extension": ".py",
   "mimetype": "text/x-python",
   "name": "python",
   "nbconvert_exporter": "python",
   "pygments_lexer": "ipython3",
   "version": "3.7.6"
  }
 },
 "nbformat": 4,
 "nbformat_minor": 4
}
