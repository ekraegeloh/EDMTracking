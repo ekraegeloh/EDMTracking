{
 "cells": [
  {
   "cell_type": "markdown",
   "metadata": {},
   "source": [
    "# Example of reading tracker ROOT Trees into a pandas data frame for Python analysis 🖥\n",
    "## See here more details: https://cdcvs.fnal.gov/redmine/projects/gm2analyses/wiki/Python-based_EDM_analysis"
   ]
  },
  {
   "cell_type": "markdown",
   "metadata": {},
   "source": [
    "### First import the necessary modules"
   ]
  },
  {
   "cell_type": "code",
   "execution_count": 4,
   "metadata": {},
   "outputs": [],
   "source": [
    "import sys,os\n",
    "import numpy as np\n",
    "sys.path.append(os.environ[\"JUPYROOT\"]) # where JUPYROOT is path to ROOT e.g. /usr/local/Cellar/root/6.18.04/lib/root\n",
    "# for Python3 install root_numpy with \"python3 -m pip install --user root_numpy\"\n",
    "import root_numpy # see http://scikit-hep.org/root_numpy/install.html  \n",
    "# for Python3 install root_pandas with \"python3 -m pip install --user root_pandas\"\n",
    "from root_pandas import read_root # see https://github.com/scikit-hep/root_pandas "
   ]
  },
  {
   "cell_type": "markdown",
   "metadata": {},
   "source": [
    "## Read in the ROOT Trees into a pandas data frame"
   ]
  },
  {
   "cell_type": "code",
   "execution_count": 5,
   "metadata": {},
   "outputs": [],
   "source": [
    "data_all = read_root(\"../DATA/Trees/sim_test2.root\", 'trackerNTup/tracker')"
   ]
  },
  {
   "cell_type": "markdown",
   "metadata": {},
   "source": [
    "### Calculate vetex momentum (as a new column)"
   ]
  },
  {
   "cell_type": "code",
   "execution_count": 6,
   "metadata": {},
   "outputs": [],
   "source": [
    "data_all['decayVertexMom'] = np.sqrt(data_all[\"decayVertexMomX\"]**2 + data_all[\"decayVertexMomY\"]**2 + data_all[\"decayVertexMomZ\"]**2)"
   ]
  },
  {
   "cell_type": "markdown",
   "metadata": {},
   "source": [
    "### From all data select only what we need"
   ]
  },
  {
   "cell_type": "code",
   "execution_count": 18,
   "metadata": {},
   "outputs": [],
   "source": [
    "mom_cut = (data_all['decayVertexMom'] > 700) & (data_all['decayVertexMom'] < 1700)"
   ]
  },
  {
   "cell_type": "code",
   "execution_count": 19,
   "metadata": {},
   "outputs": [],
   "source": [
    "data = data_all[mom_cut].loc[:, [\"decayVertexMom\", \"decayVertexMomY\", \"trackT0\", \"station\", \"hitVolume\", \"passVertexQuality\", ]]"
   ]
  },
  {
   "cell_type": "markdown",
   "metadata": {},
   "source": [
    "### ns - > us "
   ]
  },
  {
   "cell_type": "code",
   "execution_count": 20,
   "metadata": {},
   "outputs": [],
   "source": [
    "data[\"trackT0\"]=data[\"trackT0\"]*1e-3"
   ]
  },
  {
   "cell_type": "markdown",
   "metadata": {},
   "source": [
    "### Get glimpse of data"
   ]
  },
  {
   "cell_type": "code",
   "execution_count": 21,
   "metadata": {},
   "outputs": [
    {
     "data": {
      "text/html": [
       "<div>\n",
       "<style scoped>\n",
       "    .dataframe tbody tr th:only-of-type {\n",
       "        vertical-align: middle;\n",
       "    }\n",
       "\n",
       "    .dataframe tbody tr th {\n",
       "        vertical-align: top;\n",
       "    }\n",
       "\n",
       "    .dataframe thead th {\n",
       "        text-align: right;\n",
       "    }\n",
       "</style>\n",
       "<table border=\"1\" class=\"dataframe\">\n",
       "  <thead>\n",
       "    <tr style=\"text-align: right;\">\n",
       "      <th></th>\n",
       "      <th>decayVertexMom</th>\n",
       "      <th>decayVertexMomY</th>\n",
       "      <th>trackT0</th>\n",
       "      <th>station</th>\n",
       "      <th>hitVolume</th>\n",
       "      <th>passVertexQuality</th>\n",
       "    </tr>\n",
       "  </thead>\n",
       "  <tbody>\n",
       "    <tr>\n",
       "      <th>10</th>\n",
       "      <td>1534.245972</td>\n",
       "      <td>44.120983</td>\n",
       "      <td>229.475098</td>\n",
       "      <td>12</td>\n",
       "      <td>False</td>\n",
       "      <td>False</td>\n",
       "    </tr>\n",
       "    <tr>\n",
       "      <th>11</th>\n",
       "      <td>1373.373169</td>\n",
       "      <td>-3.547505</td>\n",
       "      <td>128.146317</td>\n",
       "      <td>0</td>\n",
       "      <td>False</td>\n",
       "      <td>False</td>\n",
       "    </tr>\n",
       "    <tr>\n",
       "      <th>12</th>\n",
       "      <td>1273.693115</td>\n",
       "      <td>-25.078747</td>\n",
       "      <td>11.015006</td>\n",
       "      <td>12</td>\n",
       "      <td>True</td>\n",
       "      <td>False</td>\n",
       "    </tr>\n",
       "    <tr>\n",
       "      <th>16</th>\n",
       "      <td>772.100403</td>\n",
       "      <td>-43.096775</td>\n",
       "      <td>29.667305</td>\n",
       "      <td>12</td>\n",
       "      <td>False</td>\n",
       "      <td>False</td>\n",
       "    </tr>\n",
       "    <tr>\n",
       "      <th>17</th>\n",
       "      <td>810.329468</td>\n",
       "      <td>6.853809</td>\n",
       "      <td>11.662471</td>\n",
       "      <td>12</td>\n",
       "      <td>True</td>\n",
       "      <td>False</td>\n",
       "    </tr>\n",
       "    <tr>\n",
       "      <th>...</th>\n",
       "      <td>...</td>\n",
       "      <td>...</td>\n",
       "      <td>...</td>\n",
       "      <td>...</td>\n",
       "      <td>...</td>\n",
       "      <td>...</td>\n",
       "    </tr>\n",
       "    <tr>\n",
       "      <th>111931</th>\n",
       "      <td>1029.424194</td>\n",
       "      <td>-6.234702</td>\n",
       "      <td>71.998360</td>\n",
       "      <td>18</td>\n",
       "      <td>False</td>\n",
       "      <td>False</td>\n",
       "    </tr>\n",
       "    <tr>\n",
       "      <th>111933</th>\n",
       "      <td>1314.330444</td>\n",
       "      <td>-29.205427</td>\n",
       "      <td>2.653927</td>\n",
       "      <td>0</td>\n",
       "      <td>False</td>\n",
       "      <td>False</td>\n",
       "    </tr>\n",
       "    <tr>\n",
       "      <th>111934</th>\n",
       "      <td>1679.070679</td>\n",
       "      <td>41.102791</td>\n",
       "      <td>79.263962</td>\n",
       "      <td>12</td>\n",
       "      <td>True</td>\n",
       "      <td>False</td>\n",
       "    </tr>\n",
       "    <tr>\n",
       "      <th>111936</th>\n",
       "      <td>1152.520996</td>\n",
       "      <td>-10.193842</td>\n",
       "      <td>7.207133</td>\n",
       "      <td>0</td>\n",
       "      <td>True</td>\n",
       "      <td>False</td>\n",
       "    </tr>\n",
       "    <tr>\n",
       "      <th>111937</th>\n",
       "      <td>1378.183716</td>\n",
       "      <td>32.193638</td>\n",
       "      <td>30.934813</td>\n",
       "      <td>12</td>\n",
       "      <td>False</td>\n",
       "      <td>False</td>\n",
       "    </tr>\n",
       "  </tbody>\n",
       "</table>\n",
       "<p>61932 rows × 6 columns</p>\n",
       "</div>"
      ],
      "text/plain": [
       "        decayVertexMom  decayVertexMomY     trackT0  station  hitVolume  \\\n",
       "10         1534.245972        44.120983  229.475098       12      False   \n",
       "11         1373.373169        -3.547505  128.146317        0      False   \n",
       "12         1273.693115       -25.078747   11.015006       12       True   \n",
       "16          772.100403       -43.096775   29.667305       12      False   \n",
       "17          810.329468         6.853809   11.662471       12       True   \n",
       "...                ...              ...         ...      ...        ...   \n",
       "111931     1029.424194        -6.234702   71.998360       18      False   \n",
       "111933     1314.330444       -29.205427    2.653927        0      False   \n",
       "111934     1679.070679        41.102791   79.263962       12       True   \n",
       "111936     1152.520996       -10.193842    7.207133        0       True   \n",
       "111937     1378.183716        32.193638   30.934813       12      False   \n",
       "\n",
       "        passVertexQuality  \n",
       "10                  False  \n",
       "11                  False  \n",
       "12                  False  \n",
       "16                  False  \n",
       "17                  False  \n",
       "...                   ...  \n",
       "111931              False  \n",
       "111933              False  \n",
       "111934              False  \n",
       "111936              False  \n",
       "111937              False  \n",
       "\n",
       "[61932 rows x 6 columns]"
      ]
     },
     "execution_count": 21,
     "metadata": {},
     "output_type": "execute_result"
    }
   ],
   "source": [
    "data"
   ]
  },
  {
   "cell_type": "markdown",
   "metadata": {},
   "source": [
    "# Now let's plot something!"
   ]
  },
  {
   "cell_type": "markdown",
   "metadata": {},
   "source": [
    "## Sanity plot of momentum"
   ]
  },
  {
   "cell_type": "code",
   "execution_count": 22,
   "metadata": {},
   "outputs": [
    {
     "name": "stdout",
     "output_type": "stream",
     "text": [
      "We have 6.19e+04 tracks in this array, with the mean momentum of  1183.5496 MeV\n",
      "Plotting for 1M:\n"
     ]
    },
    {
     "data": {
      "text/plain": [
       "(0, 3500)"
      ]
     },
     "execution_count": 22,
     "metadata": {},
     "output_type": "execute_result"
    },
    {
     "data": {
      "image/png": "[encoded data removed]",
      "text/plain": [
       "<Figure size 432x288 with 1 Axes>"
      ]
     },
     "metadata": {
      "needs_background": "light"
     },
     "output_type": "display_data"
    }
   ],
   "source": [
    "p = data['decayVertexMom']\n",
    "p_mean = p.mean()\n",
    "ax = p[0:int(1e6)].plot.hist(bins=250, color=\"green\")\n",
    "ax.set_xlabel(r\"$p$ [MeV]\")\n",
    "print(\"We have\", \"{:.2e}\".format(len(p)), \"tracks in this array, with the mean momentum of \", p_mean, \"MeV\")\n",
    "print(\"Plotting for 1M:\")\n",
    "fig = ax.get_figure()\n",
    "ax.set_xlim(0, 3500)\n",
    "# fig.savefig('p.png', dpi=300)"
   ]
  },
  {
   "cell_type": "markdown",
   "metadata": {},
   "source": [
    "Now get $\\theta_y = atan2(\\frac{p_y}{p})$ (in mrad) and modulated $g-2$ time (in us, already done above)"
   ]
  },
  {
   "cell_type": "code",
   "execution_count": 11,
   "metadata": {},
   "outputs": [],
   "source": [
    "theta_y = np.arctan2(data[\"decayVertexMomY\"], data[\"decayVertexMom\"]) *1e3 # mrad \n",
    "omegaAMagic = 0.00143934 # from gm2geom consts / kHz \n",
    "g2period = (2*np.pi / omegaAMagic ) * 1e-3 # us \n",
    "g2fracTimeReco = data[\"trackT0\"] / g2period\n",
    "g2fracTimeRecoInt = g2fracTimeReco.astype(int)\n",
    "modulog2TimeReco = (g2fracTimeReco - g2fracTimeRecoInt) * g2period"
   ]
  },
  {
   "cell_type": "markdown",
   "metadata": {},
   "source": [
    "### Now do some serious plotting"
   ]
  },
  {
   "cell_type": "code",
   "execution_count": 15,
   "metadata": {},
   "outputs": [],
   "source": [
    "import os, sys\n",
    "sys.path.append('../CommonUtils/')\n",
    "import CommonUtils as cu\n",
    "import matplotlib as mpl\n",
    "mpl.use('Agg')\n",
    "import matplotlib.pyplot as plt\n",
    "\n",
    "x,y,p=modulog2TimeReco,theta_y,data[\"decayVertexMomY\"]"
   ]
  },
  {
   "cell_type": "markdown",
   "metadata": {},
   "source": [
    "### Create (df_binned) profile DF and plot the profile"
   ]
  },
  {
   "cell_type": "code",
   "execution_count": 13,
   "metadata": {},
   "outputs": [
    {
     "data": {
      "image/png": "[encoded data removed]",
      "text/plain": [
       "<Figure size 432x288 with 1 Axes>"
      ]
     },
     "metadata": {
      "needs_background": "light"
     },
     "output_type": "display_data"
    }
   ],
   "source": [
    "fig,ax=plt.subplots()\n",
    "ax, df_binned, df_input =cu.Profile(x, y, ax, nbins=15, xmin=np.min(x),xmax=np.max(x), mean=True)\n",
    "ax.set_ylabel(r\"$\\langle\\theta_y\\rangle$ [mrad]\", fontsize=16)\n",
    "ax.set_xlabel(r\"$t^{mod}_{g-2} \\ \\mathrm{[\\mu}$s]\", fontsize=16)\n",
    "N=cu.sci_notation(len(x)) # format as a \n",
    "cu.textL(ax, 0.88, 0.9, \"N: \"+N, font_size=14)\n",
    "plt.tight_layout() \n",
    "plt.savefig(\"../fig/profile.png\")"
   ]
  },
  {
   "cell_type": "code",
   "execution_count": null,
   "metadata": {},
   "outputs": [],
   "source": []
  },
  {
   "cell_type": "code",
   "execution_count": null,
   "metadata": {},
   "outputs": [],
   "source": []
  }
 ],
 "metadata": {
  "kernelspec": {
   "display_name": "Python 3",
   "language": "python",
   "name": "python3"
  },
  "language_info": {
   "codemirror_mode": {
    "name": "ipython",
    "version": 3
   },
   "file_extension": ".py",
   "mimetype": "text/x-python",
   "name": "python",
   "nbconvert_exporter": "python",
   "pygments_lexer": "ipython3",
   "version": "3.7.4"
  }
 },
 "nbformat": 4,
 "nbformat_minor": 4
}
