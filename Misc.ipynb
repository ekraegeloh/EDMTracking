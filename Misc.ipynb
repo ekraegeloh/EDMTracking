{
 "cells": [
  {
   "cell_type": "code",
   "execution_count": 1,
   "metadata": {},
   "outputs": [
    {
     "name": "stdout",
     "output_type": "stream",
     "text": [
      "15650\n",
      "Progress at 0%\n",
      "10 %...\n",
      "20 %...\n",
      "30 %...\n",
      "40 %...\n",
      "50 %...\n",
      "60 %...\n",
      "70 %...\n",
      "80 %...\n",
      "90 %...\n",
      "100 %...\n"
     ]
    }
   ],
   "source": [
    "inputEntries=156503\n",
    "\n",
    "tenth = int(inputEntries / 10)\n",
    "\n",
    "print(tenth)\n",
    "\n",
    "tenth_counter = 1\n",
    "print(\"Progress at 0%\")\n",
    "for entry in range(inputEntries):\n",
    "        if ( entry+1 == tenth_counter*tenth ):\n",
    "          print(tenth_counter * 10, \"%...\")\n",
    "          tenth_counter=tenth_counter+1;\n",
    "   "
   ]
  },
  {
   "cell_type": "code",
   "execution_count": 1,
   "metadata": {},
   "outputs": [
    {
     "name": "stdout",
     "output_type": "stream",
     "text": [
      "Welcome to JupyROOT 6.18/04\n",
      "RUtils::hist2np Opening AllStationsNoTQ/VertexExt/t>0/0<p<3600/thetay_vs_time_modg2 in DATA/VLEDM.root\n",
      "RUtils::hist2np Opened Name: thetay_vs_time_modg2 Title:   NbinsX: 300 <class 'float'> with 5243759 entries (exc. over/underflows)\n"
     ]
    }
   ],
   "source": [
    "import os, sys\n",
    "sys.path.append('CommonUtils/')\n",
    "import CommonUtils as cu\n",
    "sys.path.append(os.environ[\"JUPYROOT\"]) \n",
    "import RUtils as ru\n",
    "\n",
    "import math\n",
    "from scipy import stats\n",
    "import numpy as np\n",
    "import seaborn as sns\n",
    "import matplotlib.pyplot as plt\n",
    "import pandas as pd\n",
    "from pandas import Series, DataFrame\n",
    "from scipy import optimize\n",
    "\n",
    "dataXY, n_binsXY, dBinsXY = ru.hist2np(file_path=\"DATA/VLEDM.root\", hist_path=\"AllStationsNoTQ/VertexExt/t>0/0<p<3600/thetay_vs_time_modg2\")\n",
    "df_data=cu.Profile(dataXY[0], dataXY[1], False, nbins=15, xmin=np.min(dataXY[0]),xmax=np.max(dataXY[0]), full_y=True, only_binned=True)"
   ]
  },
  {
   "cell_type": "code",
   "execution_count": 2,
   "metadata": {},
   "outputs": [
    {
     "data": {
      "text/html": [
       "<div>\n",
       "<style scoped>\n",
       "    .dataframe tbody tr th:only-of-type {\n",
       "        vertical-align: middle;\n",
       "    }\n",
       "\n",
       "    .dataframe tbody tr th {\n",
       "        vertical-align: top;\n",
       "    }\n",
       "\n",
       "    .dataframe thead th {\n",
       "        text-align: right;\n",
       "    }\n",
       "</style>\n",
       "<table border=\"1\" class=\"dataframe\">\n",
       "  <thead>\n",
       "    <tr style=\"text-align: right;\">\n",
       "      <th></th>\n",
       "      <th>bincenters</th>\n",
       "      <th>y</th>\n",
       "      <th>xerr</th>\n",
       "      <th>yerr</th>\n",
       "    </tr>\n",
       "  </thead>\n",
       "  <tbody>\n",
       "    <tr>\n",
       "      <th>1</th>\n",
       "      <td>0.152301</td>\n",
       "      <td>[-0.09835, -0.09765000000000001, -0.0975500000...</td>\n",
       "      <td>0.145026</td>\n",
       "      <td>0.000043</td>\n",
       "    </tr>\n",
       "    <tr>\n",
       "      <th>2</th>\n",
       "      <td>0.442353</td>\n",
       "      <td>[-0.09975, -0.09945000000000001, -0.0994500000...</td>\n",
       "      <td>0.145026</td>\n",
       "      <td>0.000042</td>\n",
       "    </tr>\n",
       "    <tr>\n",
       "      <th>3</th>\n",
       "      <td>0.732404</td>\n",
       "      <td>[-0.09915000000000002, -0.09905000000000001, -...</td>\n",
       "      <td>0.145026</td>\n",
       "      <td>0.000041</td>\n",
       "    </tr>\n",
       "    <tr>\n",
       "      <th>4</th>\n",
       "      <td>1.022456</td>\n",
       "      <td>[-0.09935000000000001, -0.09915000000000002, -...</td>\n",
       "      <td>0.145026</td>\n",
       "      <td>0.000039</td>\n",
       "    </tr>\n",
       "    <tr>\n",
       "      <th>5</th>\n",
       "      <td>1.312507</td>\n",
       "      <td>[-0.09995000000000001, -0.09995000000000001, -...</td>\n",
       "      <td>0.145026</td>\n",
       "      <td>0.000037</td>\n",
       "    </tr>\n",
       "    <tr>\n",
       "      <th>6</th>\n",
       "      <td>1.602559</td>\n",
       "      <td>[-0.09955000000000001, -0.09955000000000001, -...</td>\n",
       "      <td>0.145026</td>\n",
       "      <td>0.000036</td>\n",
       "    </tr>\n",
       "    <tr>\n",
       "      <th>7</th>\n",
       "      <td>1.892610</td>\n",
       "      <td>[-0.09995000000000001, -0.09935000000000001, -...</td>\n",
       "      <td>0.145026</td>\n",
       "      <td>0.000035</td>\n",
       "    </tr>\n",
       "    <tr>\n",
       "      <th>8</th>\n",
       "      <td>2.182661</td>\n",
       "      <td>[-0.09995000000000001, -0.09965000000000002, -...</td>\n",
       "      <td>0.145026</td>\n",
       "      <td>0.000035</td>\n",
       "    </tr>\n",
       "    <tr>\n",
       "      <th>9</th>\n",
       "      <td>2.472713</td>\n",
       "      <td>[-0.09995000000000001, -0.09985000000000001, -...</td>\n",
       "      <td>0.145026</td>\n",
       "      <td>0.000036</td>\n",
       "    </tr>\n",
       "    <tr>\n",
       "      <th>10</th>\n",
       "      <td>2.762764</td>\n",
       "      <td>[-0.09935000000000001, -0.09895000000000001, -...</td>\n",
       "      <td>0.145026</td>\n",
       "      <td>0.000037</td>\n",
       "    </tr>\n",
       "    <tr>\n",
       "      <th>11</th>\n",
       "      <td>3.052816</td>\n",
       "      <td>[-0.09895000000000001, -0.09895000000000001, -...</td>\n",
       "      <td>0.145026</td>\n",
       "      <td>0.000039</td>\n",
       "    </tr>\n",
       "    <tr>\n",
       "      <th>12</th>\n",
       "      <td>3.342867</td>\n",
       "      <td>[-0.09995000000000001, -0.09985000000000001, -...</td>\n",
       "      <td>0.145026</td>\n",
       "      <td>0.000040</td>\n",
       "    </tr>\n",
       "    <tr>\n",
       "      <th>13</th>\n",
       "      <td>3.632919</td>\n",
       "      <td>[-0.09885000000000001, -0.09885000000000001, -...</td>\n",
       "      <td>0.145026</td>\n",
       "      <td>0.000042</td>\n",
       "    </tr>\n",
       "    <tr>\n",
       "      <th>14</th>\n",
       "      <td>3.922970</td>\n",
       "      <td>[-0.09965000000000002, -0.09885000000000001, -...</td>\n",
       "      <td>0.145026</td>\n",
       "      <td>0.000044</td>\n",
       "    </tr>\n",
       "    <tr>\n",
       "      <th>15</th>\n",
       "      <td>4.213022</td>\n",
       "      <td>[-0.09905000000000001, -0.09815000000000002, -...</td>\n",
       "      <td>0.145026</td>\n",
       "      <td>0.000046</td>\n",
       "    </tr>\n",
       "  </tbody>\n",
       "</table>\n",
       "</div>"
      ],
      "text/plain": [
       "    bincenters                                                  y      xerr  \\\n",
       "1     0.152301  [-0.09835, -0.09765000000000001, -0.0975500000...  0.145026   \n",
       "2     0.442353  [-0.09975, -0.09945000000000001, -0.0994500000...  0.145026   \n",
       "3     0.732404  [-0.09915000000000002, -0.09905000000000001, -...  0.145026   \n",
       "4     1.022456  [-0.09935000000000001, -0.09915000000000002, -...  0.145026   \n",
       "5     1.312507  [-0.09995000000000001, -0.09995000000000001, -...  0.145026   \n",
       "6     1.602559  [-0.09955000000000001, -0.09955000000000001, -...  0.145026   \n",
       "7     1.892610  [-0.09995000000000001, -0.09935000000000001, -...  0.145026   \n",
       "8     2.182661  [-0.09995000000000001, -0.09965000000000002, -...  0.145026   \n",
       "9     2.472713  [-0.09995000000000001, -0.09985000000000001, -...  0.145026   \n",
       "10    2.762764  [-0.09935000000000001, -0.09895000000000001, -...  0.145026   \n",
       "11    3.052816  [-0.09895000000000001, -0.09895000000000001, -...  0.145026   \n",
       "12    3.342867  [-0.09995000000000001, -0.09985000000000001, -...  0.145026   \n",
       "13    3.632919  [-0.09885000000000001, -0.09885000000000001, -...  0.145026   \n",
       "14    3.922970  [-0.09965000000000002, -0.09885000000000001, -...  0.145026   \n",
       "15    4.213022  [-0.09905000000000001, -0.09815000000000002, -...  0.145026   \n",
       "\n",
       "        yerr  \n",
       "1   0.000043  \n",
       "2   0.000042  \n",
       "3   0.000041  \n",
       "4   0.000039  \n",
       "5   0.000037  \n",
       "6   0.000036  \n",
       "7   0.000035  \n",
       "8   0.000035  \n",
       "9   0.000036  \n",
       "10  0.000037  \n",
       "11  0.000039  \n",
       "12  0.000040  \n",
       "13  0.000042  \n",
       "14  0.000044  \n",
       "15  0.000046  "
      ]
     },
     "execution_count": 2,
     "metadata": {},
     "output_type": "execute_result"
    }
   ],
   "source": [
    "df_data"
   ]
  },
  {
   "cell_type": "code",
   "execution_count": 3,
   "metadata": {},
   "outputs": [
    {
     "name": "stdout",
     "output_type": "stream",
     "text": [
      "322962\n",
      "332508\n",
      "341231\n",
      "352302\n",
      "365814\n",
      "375045\n",
      "381788\n",
      "383475\n",
      "379184\n",
      "367097\n",
      "355197\n",
      "339372\n",
      "325795\n",
      "315231\n",
      "291263\n",
      "5228264\n"
     ]
    }
   ],
   "source": [
    "total_sum=0\n",
    "for i in range(1, 16):\n",
    "    total_sum+=df_data['y'][i].size\n",
    "    print(df_data['y'][i].size)\n",
    "print(total_sum)"
   ]
  },
  {
   "cell_type": "code",
   "execution_count": 18,
   "metadata": {},
   "outputs": [
    {
     "data": {
      "image/png": "[encoded data removed]",
      "text/plain": [
       "<Figure size 432x288 with 1 Axes>"
      ]
     },
     "metadata": {
      "needs_background": "light"
     },
     "output_type": "display_data"
    }
   ],
   "source": [
    "ax, legend = cu.plotHist(df_data['y'][10]*1e3, n_bins=74, prec=2)\n",
    "cu.textL(ax, 0.8, 0.78, r\"$\\theta_y$ [mrad]:\"+\"\\n\"+str(legend), font_size=15)\n",
    "ax.set_xlabel(r\"$\\theta_y$ [mrad]\", fontsize=18)\n",
    "plt.tight_layout()\n",
    "plt.savefig(\"fig/Gaus.png\", dpi=300)"
   ]
  },
  {
   "cell_type": "markdown",
   "metadata": {},
   "source": [
    "### Fit a Gaussian"
   ]
  },
  {
   "cell_type": "code",
   "execution_count": null,
   "metadata": {},
   "outputs": [],
   "source": [
    "def sin_unblinded(t, A, b, c):\n",
    "    return A * np.sin(b * t)+c\n",
    "\n",
    "#function, X, Y, [starting par]\n",
    "# Levenberg-Marquardt algorithm as implemented in MINPACK\n",
    "par, pcov = optimize.curve_fit(sin_unblinded, x, y, sigma=y_err, p0=[0.22, 1.5, -0.1], absolute_sigma=False, method='lm')\n",
    "\n",
    "par_e = np.sqrt(np.diag(pcov))\n",
    "\n",
    "print(\"Params:\", par)\n",
    "print(\"Errors:\", par_e)\n",
    "print(\"Cov:\", pcov)"
   ]
  }
 ],
 "metadata": {
  "kernelspec": {
   "display_name": "Python 3",
   "language": "python",
   "name": "python3"
  },
  "language_info": {
   "codemirror_mode": {
    "name": "ipython",
    "version": 3
   },
   "file_extension": ".py",
   "mimetype": "text/x-python",
   "name": "python",
   "nbconvert_exporter": "python",
   "pygments_lexer": "ipython3",
   "version": "3.7.4"
  }
 },
 "nbformat": 4,
 "nbformat_minor": 4
}
