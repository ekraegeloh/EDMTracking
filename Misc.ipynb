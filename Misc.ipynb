{
 "cells": [
  {
   "cell_type": "code",
   "execution_count": 3,
   "metadata": {},
   "outputs": [
    {
     "name": "stdout",
     "output_type": "stream",
     "text": [
      "15650\n",
      "Progress at 0%\n",
      "10 %...\n",
      "20 %...\n",
      "30 %...\n",
      "40 %...\n",
      "50 %...\n",
      "60 %...\n",
      "70 %...\n",
      "80 %...\n",
      "90 %...\n",
      "100 %...\n"
     ]
    }
   ],
   "source": [
    "inputEntries=156503\n",
    "\n",
    "tenth = int(inputEntries / 10)\n",
    "\n",
    "print(tenth)\n",
    "\n",
    "tenth_counter = 1\n",
    "print(\"Progress at 0%\")\n",
    "for entry in range(inputEntries):\n",
    "        if ( entry+1 == tenth_counter*tenth ):\n",
    "          print(tenth_counter * 10, \"%...\")\n",
    "          tenth_counter=tenth_counter+1;\n",
    "   "
   ]
  }
 ],
 "metadata": {
  "kernelspec": {
   "display_name": "Python 3",
   "language": "python",
   "name": "python3"
  },
  "language_info": {
   "codemirror_mode": {
    "name": "ipython",
    "version": 3
   },
   "file_extension": ".py",
   "mimetype": "text/x-python",
   "name": "python",
   "nbconvert_exporter": "python",
   "pygments_lexer": "ipython3",
   "version": "3.7.4"
  }
 },
 "nbformat": 4,
 "nbformat_minor": 4
}
