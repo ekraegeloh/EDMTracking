{
 "cells": [
  {
   "cell_type": "code",
   "execution_count": 1,
   "metadata": {
    "collapsed": true,
    "jupyter": {
     "outputs_hidden": true,
     "source_hidden": true
    }
   },
   "outputs": [
    {
     "name": "stdout",
     "output_type": "stream",
     "text": [
      "15650\n",
      "Progress at 0%\n",
      "10 %...\n",
      "20 %...\n",
      "30 %...\n",
      "40 %...\n",
      "50 %...\n",
      "60 %...\n",
      "70 %...\n",
      "80 %...\n",
      "90 %...\n",
      "100 %...\n"
     ]
    }
   ],
   "source": [
    "inputEntries=156503\n",
    "\n",
    "tenth = int(inputEntries / 10)\n",
    "\n",
    "print(tenth)\n",
    "\n",
    "tenth_counter = 1\n",
    "print(\"Progress at 0%\")\n",
    "for entry in range(inputEntries):\n",
    "        if ( entry+1 == tenth_counter*tenth ):\n",
    "          print(tenth_counter * 10, \"%...\")\n",
    "          tenth_counter=tenth_counter+1;\n",
    "   "
   ]
  },
  {
   "cell_type": "code",
   "execution_count": 1,
   "metadata": {},
   "outputs": [
    {
     "name": "stdout",
     "output_type": "stream",
     "text": [
      "Welcome to JupyROOT 6.18/04\n",
      "RUtils::hist2np Opening AllStationsNoTQ/VertexExt/t>0/0<p<3600/thetay_vs_time_modg2 in DATA/VLEDM.root\n",
      "RUtils::hist2np Opened Name: thetay_vs_time_modg2 Title:   NbinsX: 300 <class 'float'> with 5276210 entries (exc. over/underflows)\n"
     ]
    }
   ],
   "source": [
    "import os, sys\n",
    "sys.path.append('CommonUtils/')\n",
    "import CommonUtils as cu\n",
    "sys.path.append(os.environ[\"JUPYROOT\"]) \n",
    "import RUtils as ru\n",
    "\n",
    "import math\n",
    "from scipy import stats\n",
    "import numpy as np\n",
    "import seaborn as sns\n",
    "import matplotlib.pyplot as plt\n",
    "import pandas as pd\n",
    "from pandas import Series, DataFrame\n",
    "from scipy import optimize\n",
    "\n",
    "dataXY, n_binsXY, dBinsXY = ru.hist2np(file_path=\"DATA/VLEDM.root\", hist_path=\"AllStationsNoTQ/VertexExt/t>0/0<p<3600/thetay_vs_time_modg2\")\n",
    "df_data=cu.Profile(dataXY[0], dataXY[1], False, nbins=15, xmin=np.min(dataXY[0]),xmax=np.max(dataXY[0]), full_y=True, only_binned=True)\n",
    "df_data.to_csv(\"DATA/misc/df_binned.csv\")"
   ]
  },
  {
   "cell_type": "code",
   "execution_count": 2,
   "metadata": {},
   "outputs": [
    {
     "data": {
      "text/html": [
       "<div>\n",
       "<style scoped>\n",
       "    .dataframe tbody tr th:only-of-type {\n",
       "        vertical-align: middle;\n",
       "    }\n",
       "\n",
       "    .dataframe tbody tr th {\n",
       "        vertical-align: top;\n",
       "    }\n",
       "\n",
       "    .dataframe thead th {\n",
       "        text-align: right;\n",
       "    }\n",
       "</style>\n",
       "<table border=\"1\" class=\"dataframe\">\n",
       "  <thead>\n",
       "    <tr style=\"text-align: right;\">\n",
       "      <th></th>\n",
       "      <th>index</th>\n",
       "      <th>bincenters</th>\n",
       "      <th>y</th>\n",
       "      <th>xerr</th>\n",
       "      <th>yerr</th>\n",
       "    </tr>\n",
       "  </thead>\n",
       "  <tbody>\n",
       "    <tr>\n",
       "      <th>0</th>\n",
       "      <td>1</td>\n",
       "      <td>0.152301</td>\n",
       "      <td>[-0.09845000000000001, -0.09835, -0.0976500000...</td>\n",
       "      <td>0.145026</td>\n",
       "      <td>0.000043</td>\n",
       "    </tr>\n",
       "    <tr>\n",
       "      <th>1</th>\n",
       "      <td>2</td>\n",
       "      <td>0.442353</td>\n",
       "      <td>[-0.09975, -0.09945000000000001, -0.0994500000...</td>\n",
       "      <td>0.145026</td>\n",
       "      <td>0.000042</td>\n",
       "    </tr>\n",
       "    <tr>\n",
       "      <th>2</th>\n",
       "      <td>3</td>\n",
       "      <td>0.732404</td>\n",
       "      <td>[-0.09915000000000002, -0.09905000000000001, -...</td>\n",
       "      <td>0.145026</td>\n",
       "      <td>0.000041</td>\n",
       "    </tr>\n",
       "    <tr>\n",
       "      <th>3</th>\n",
       "      <td>4</td>\n",
       "      <td>1.022456</td>\n",
       "      <td>[-0.09935000000000001, -0.09915000000000002, -...</td>\n",
       "      <td>0.145026</td>\n",
       "      <td>0.000039</td>\n",
       "    </tr>\n",
       "    <tr>\n",
       "      <th>4</th>\n",
       "      <td>5</td>\n",
       "      <td>1.312507</td>\n",
       "      <td>[-0.09995000000000001, -0.09995000000000001, -...</td>\n",
       "      <td>0.145026</td>\n",
       "      <td>0.000037</td>\n",
       "    </tr>\n",
       "    <tr>\n",
       "      <th>5</th>\n",
       "      <td>6</td>\n",
       "      <td>1.602559</td>\n",
       "      <td>[-0.09955000000000001, -0.09805000000000001, -...</td>\n",
       "      <td>0.145026</td>\n",
       "      <td>0.000036</td>\n",
       "    </tr>\n",
       "    <tr>\n",
       "      <th>6</th>\n",
       "      <td>7</td>\n",
       "      <td>1.892610</td>\n",
       "      <td>[-0.09995000000000001, -0.09935000000000001, -...</td>\n",
       "      <td>0.145026</td>\n",
       "      <td>0.000035</td>\n",
       "    </tr>\n",
       "    <tr>\n",
       "      <th>7</th>\n",
       "      <td>8</td>\n",
       "      <td>2.182661</td>\n",
       "      <td>[-0.09995000000000001, -0.09965000000000002, -...</td>\n",
       "      <td>0.145026</td>\n",
       "      <td>0.000035</td>\n",
       "    </tr>\n",
       "    <tr>\n",
       "      <th>8</th>\n",
       "      <td>9</td>\n",
       "      <td>2.472713</td>\n",
       "      <td>[-0.09995000000000001, -0.09985000000000001, -...</td>\n",
       "      <td>0.145026</td>\n",
       "      <td>0.000036</td>\n",
       "    </tr>\n",
       "    <tr>\n",
       "      <th>9</th>\n",
       "      <td>10</td>\n",
       "      <td>2.762764</td>\n",
       "      <td>[-0.09895000000000001, -0.09875, -0.0986500000...</td>\n",
       "      <td>0.145026</td>\n",
       "      <td>0.000037</td>\n",
       "    </tr>\n",
       "    <tr>\n",
       "      <th>10</th>\n",
       "      <td>11</td>\n",
       "      <td>3.052816</td>\n",
       "      <td>[-0.09895000000000001, -0.09895000000000001, -...</td>\n",
       "      <td>0.145026</td>\n",
       "      <td>0.000038</td>\n",
       "    </tr>\n",
       "    <tr>\n",
       "      <th>11</th>\n",
       "      <td>12</td>\n",
       "      <td>3.342867</td>\n",
       "      <td>[-0.09995000000000001, -0.09985000000000001, -...</td>\n",
       "      <td>0.145026</td>\n",
       "      <td>0.000040</td>\n",
       "    </tr>\n",
       "    <tr>\n",
       "      <th>12</th>\n",
       "      <td>13</td>\n",
       "      <td>3.632919</td>\n",
       "      <td>[-0.09885000000000001, -0.09885000000000001, -...</td>\n",
       "      <td>0.145026</td>\n",
       "      <td>0.000042</td>\n",
       "    </tr>\n",
       "    <tr>\n",
       "      <th>13</th>\n",
       "      <td>14</td>\n",
       "      <td>3.922970</td>\n",
       "      <td>[-0.09965000000000002, -0.09885000000000001, -...</td>\n",
       "      <td>0.145026</td>\n",
       "      <td>0.000044</td>\n",
       "    </tr>\n",
       "    <tr>\n",
       "      <th>14</th>\n",
       "      <td>15</td>\n",
       "      <td>4.213022</td>\n",
       "      <td>[-0.09905000000000001, -0.09815000000000002, -...</td>\n",
       "      <td>0.145026</td>\n",
       "      <td>0.000045</td>\n",
       "    </tr>\n",
       "  </tbody>\n",
       "</table>\n",
       "</div>"
      ],
      "text/plain": [
       "    index  bincenters                                                  y  \\\n",
       "0       1    0.152301  [-0.09845000000000001, -0.09835, -0.0976500000...   \n",
       "1       2    0.442353  [-0.09975, -0.09945000000000001, -0.0994500000...   \n",
       "2       3    0.732404  [-0.09915000000000002, -0.09905000000000001, -...   \n",
       "3       4    1.022456  [-0.09935000000000001, -0.09915000000000002, -...   \n",
       "4       5    1.312507  [-0.09995000000000001, -0.09995000000000001, -...   \n",
       "5       6    1.602559  [-0.09955000000000001, -0.09805000000000001, -...   \n",
       "6       7    1.892610  [-0.09995000000000001, -0.09935000000000001, -...   \n",
       "7       8    2.182661  [-0.09995000000000001, -0.09965000000000002, -...   \n",
       "8       9    2.472713  [-0.09995000000000001, -0.09985000000000001, -...   \n",
       "9      10    2.762764  [-0.09895000000000001, -0.09875, -0.0986500000...   \n",
       "10     11    3.052816  [-0.09895000000000001, -0.09895000000000001, -...   \n",
       "11     12    3.342867  [-0.09995000000000001, -0.09985000000000001, -...   \n",
       "12     13    3.632919  [-0.09885000000000001, -0.09885000000000001, -...   \n",
       "13     14    3.922970  [-0.09965000000000002, -0.09885000000000001, -...   \n",
       "14     15    4.213022  [-0.09905000000000001, -0.09815000000000002, -...   \n",
       "\n",
       "        xerr      yerr  \n",
       "0   0.145026  0.000043  \n",
       "1   0.145026  0.000042  \n",
       "2   0.145026  0.000041  \n",
       "3   0.145026  0.000039  \n",
       "4   0.145026  0.000037  \n",
       "5   0.145026  0.000036  \n",
       "6   0.145026  0.000035  \n",
       "7   0.145026  0.000035  \n",
       "8   0.145026  0.000036  \n",
       "9   0.145026  0.000037  \n",
       "10  0.145026  0.000038  \n",
       "11  0.145026  0.000040  \n",
       "12  0.145026  0.000042  \n",
       "13  0.145026  0.000044  \n",
       "14  0.145026  0.000045  "
      ]
     },
     "execution_count": 2,
     "metadata": {},
     "output_type": "execute_result"
    }
   ],
   "source": [
    "df_data"
   ]
  },
  {
   "cell_type": "code",
   "execution_count": 3,
   "metadata": {},
   "outputs": [
    {
     "name": "stdout",
     "output_type": "stream",
     "text": [
      "324904\n",
      "334661\n",
      "343447\n",
      "354415\n",
      "368043\n",
      "377407\n",
      "384246\n",
      "385971\n",
      "381406\n",
      "369501\n",
      "357587\n",
      "341315\n",
      "327849\n",
      "316882\n",
      "308576\n",
      "5276210\n"
     ]
    }
   ],
   "source": [
    "total_sum=0\n",
    "for i in range(0, len(df_data)):\n",
    "    total_sum+=df_data['y'][i].size\n",
    "    print(df_data['y'][i].size)\n",
    "print(total_sum)"
   ]
  },
  {
   "cell_type": "code",
   "execution_count": 5,
   "metadata": {},
   "outputs": [
    {
     "data": {
      "image/png": "[encoded data removed]",
      "text/plain": [
       "<Figure size 432x288 with 1 Axes>"
      ]
     },
     "metadata": {
      "needs_background": "light"
     },
     "output_type": "display_data"
    }
   ],
   "source": [
    "ax, legend = cu.plotHist(df_data['y'][10]*1e3, n_bins=74, prec=2)\n",
    "cu.textL(ax, 0.8, 0.78, r\"$\\theta_y$ [mrad]:\"+\"\\n\"+str(legend), font_size=15)\n",
    "ax.set_xlabel(r\"$\\theta_y$ [mrad]\", fontsize=18)\n",
    "plt.tight_layout()\n",
    "# ax.plot(bin_centres, gauss(bin_centres, *par), color=\"red\", label='Fit')\n",
    "plt.savefig(\"fig/Gaus.png\", dpi=300)"
   ]
  },
  {
   "cell_type": "markdown",
   "metadata": {},
   "source": [
    "Fit a Gaussian $g(x)={\\frac {1}{\\sigma {\\sqrt {2\\pi }}}}e^{-{\\frac {1}{2}}\\left({\\frac {x-\\mu }{\\sigma }}\\right)^{2}}$"
   ]
  },
  {
   "cell_type": "code",
   "execution_count": 29,
   "metadata": {},
   "outputs": [
    {
     "name": "stdout",
     "output_type": "stream",
     "text": [
      "199.90000000000003 60.0\n",
      "22.211105552776385\n",
      "[-98.95 -98.75 -98.65 ...  99.35  99.75  99.85]\n",
      "22\n",
      "23\n",
      "22\n"
     ]
    }
   ],
   "source": [
    "def gauss(x, *p):\n",
    "#     mu, sigma = p\n",
    "#     return ( (1)/(sigma*np.sqrt(2*np.pi)) )*np.exp(-(x-mu)**2/(2.*sigma**2))\n",
    "    A, mu, sigma = p\n",
    "    return A*np.exp(-(x-mu)**2/(2.*sigma**2))\n",
    "\n",
    "# get the ith bin of profile \n",
    "y=df_data['y'][10]*1e3 # rad -> mrad \n",
    "\n",
    "n_bins=74  \n",
    "y_min=np.min(y) # mrad\n",
    "y_max=np.max(y) # mrad\n",
    "limits=(-30.0, +30.0)\n",
    "\n",
    "\n",
    "old_range = y_max - y_min\n",
    "new_range= limits[1]- limits[0]\n",
    "\n",
    "print(old_range, new_range)\n",
    "\n",
    "n_bins_new=n_bins/(old_range/new_range)\n",
    "\n",
    "print(n_bins_new)\n",
    "\n",
    "y=y[y>y_min]\n",
    "y=y[y<y_max]\n",
    "\n",
    "print(y)\n",
    "\n",
    "#bin the y-data\n",
    "hist, bin_edges = np.histogram(y, bins=int(n_bins_new), density=False)\n",
    "bin_centres = (bin_edges[:-1] + bin_edges[1:])/2\n",
    "# par = [0.14, 22.]\n",
    "par = [1e4, 0.14, 22.]\n",
    "\n",
    "print(len(hist))\n",
    "print(len(bin_edges))\n",
    "print(len(bin_centres))\n",
    "# print(bin_centres)"
   ]
  },
  {
   "cell_type": "code",
   "execution_count": 30,
   "metadata": {},
   "outputs": [
    {
     "name": "stdout",
     "output_type": "stream",
     "text": [
      "Params: [ 7.32318210e+04 -1.69695956e-01 -1.71438715e+01]\n",
      "Errors: [1.44169414e+03 3.89718964e-01 3.89718993e-01]\n"
     ]
    }
   ],
   "source": [
    "#function, X, Y, [starting par]\n",
    "# Levenberg-Marquardt algorithm as implemented in MINPACK\n",
    "par, pcov = optimize.curve_fit(gauss, bin_centres, hist, p0=par, absolute_sigma=False, method='trf')\n",
    "par_e = np.sqrt(np.diag(pcov))\n",
    "\n",
    "print(\"Params:\", par)\n",
    "print(\"Errors:\", par_e)\n",
    "# print(\"Cov:\", pcov)"
   ]
  },
  {
   "cell_type": "code",
   "execution_count": 32,
   "metadata": {},
   "outputs": [
    {
     "data": {
      "image/png": "[encoded data removed]",
      "text/plain": [
       "<Figure size 432x288 with 1 Axes>"
      ]
     },
     "metadata": {
      "needs_background": "light"
     },
     "output_type": "display_data"
    }
   ],
   "source": [
    "legend_fit=cu.legend4(par[0], par_e[0], par[1], par_e[1], prec=2)\n",
    "bin_width=round(bin_edges[1]-bin_edges[0],2)\n",
    "\n",
    "# fig, ax = plt.subplots()\n",
    "ax, legend = cu.plotHist(df_data['y'][10]*1e3, n_bins=n_bins, prec=2)\n",
    "cu.textL(ax, 0.8, 0.78, r\"$\\theta_y$ [mrad]:\"+\"\\n\"+str(legend), font_size=15)\n",
    "ax.set_xlabel(r\"$\\theta_y$ [mrad]\", fontsize=18)\n",
    "plt.tight_layout()\n",
    "cu.textL(ax, 0.2, 0.78, \"Fit:\"+\"\\n\"+str(legend_fit), font_size=15, color=\"red\")\n",
    "ax.set_xlabel(r\"$\\theta_y$ [mrad]\", fontsize=18)\n",
    "ax.set_ylabel(r\"$\\theta_y$/\"+str(bin_width)+\" mrad\", fontsize=18)\n",
    "plt.tight_layout()\n",
    "ax.plot(bin_centres, gauss(bin_centres, *par), color=\"red\", label='Fit')\n",
    "# ax.hist(bin_centres, bins=n_bins, weights=hist, color=\"blue\", label='Sim.')\n",
    "plt.savefig(\"fig/Gaus.png\", dpi=300)"
   ]
  },
  {
   "cell_type": "code",
   "execution_count": null,
   "metadata": {},
   "outputs": [],
   "source": []
  },
  {
   "cell_type": "code",
   "execution_count": null,
   "metadata": {},
   "outputs": [],
   "source": []
  }
 ],
 "metadata": {
  "kernelspec": {
   "display_name": "Python 3",
   "language": "python",
   "name": "python3"
  },
  "language_info": {
   "codemirror_mode": {
    "name": "ipython",
    "version": 3
   },
   "file_extension": ".py",
   "mimetype": "text/x-python",
   "name": "python",
   "nbconvert_exporter": "python",
   "pygments_lexer": "ipython3",
   "version": "3.7.4"
  }
 },
 "nbformat": 4,
 "nbformat_minor": 4
}
