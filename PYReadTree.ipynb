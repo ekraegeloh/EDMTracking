{
 "cells": [
  {
   "cell_type": "markdown",
   "metadata": {},
   "source": [
    "# Example of reading tracker Trees into a pandas data frame"
   ]
  },
  {
   "cell_type": "markdown",
   "metadata": {},
   "source": [
    "First import the necessary modules"
   ]
  },
  {
   "cell_type": "code",
   "execution_count": 1,
   "metadata": {},
   "outputs": [
    {
     "name": "stdout",
     "output_type": "stream",
     "text": [
      "Welcome to JupyROOT 6.18/04\n"
     ]
    }
   ],
   "source": [
    "import sys,os\n",
    "sys.path.append(os.environ[\"JUPYROOT\"]) # where JUPYROOT is path to root e.g. /usr/local/Cellar/root/6.18.04/lib/root\n",
    "# for Python3 install root_numpy with \"python3 -m pip install --user root_numpy\"\n",
    "import root_numpy # see http://scikit-hep.org/root_numpy/install.html  \n",
    "sys.path.append('root_pandas/')  # Simple point python to the 'root_pandas' directory\n",
    "from root_pandas import read_root # see https://github.com/scikit-hep/root_pandas "
   ]
  },
  {
   "cell_type": "markdown",
   "metadata": {},
   "source": [
    "## Read in the Trees into a pandas data frame"
   ]
  },
  {
   "cell_type": "markdown",
   "metadata": {},
   "source": [
    "### as we have two new Tress now QualityTracks and QualityVertices we need to specify which one to open "
   ]
  },
  {
   "cell_type": "code",
   "execution_count": 4,
   "metadata": {},
   "outputs": [],
   "source": [
    "data = read_root('DATA/Trees/60h_quality.root', 'QualityTracks')"
   ]
  },
  {
   "cell_type": "markdown",
   "metadata": {},
   "source": [
    "### Get a quick glimpse of data (head and tail)"
   ]
  },
  {
   "cell_type": "code",
   "execution_count": 5,
   "metadata": {},
   "outputs": [
    {
     "data": {
      "text/html": [
       "<div>\n",
       "<style scoped>\n",
       "    .dataframe tbody tr th:only-of-type {\n",
       "        vertical-align: middle;\n",
       "    }\n",
       "\n",
       "    .dataframe tbody tr th {\n",
       "        vertical-align: top;\n",
       "    }\n",
       "\n",
       "    .dataframe thead th {\n",
       "        text-align: right;\n",
       "    }\n",
       "</style>\n",
       "<table border=\"1\" class=\"dataframe\">\n",
       "  <thead>\n",
       "    <tr style=\"text-align: right;\">\n",
       "      <th></th>\n",
       "      <th>runNum</th>\n",
       "      <th>subRunNum</th>\n",
       "      <th>eventNum</th>\n",
       "      <th>islandNum</th>\n",
       "      <th>trackMomentum</th>\n",
       "      <th>trackMomentumX</th>\n",
       "      <th>trackMomentumY</th>\n",
       "      <th>trackMomentumZ</th>\n",
       "      <th>trackMomentumUnc</th>\n",
       "      <th>decayVertexPosX</th>\n",
       "      <th>...</th>\n",
       "      <th>nUHits</th>\n",
       "      <th>nVHits</th>\n",
       "      <th>missedLayersFrac</th>\n",
       "      <th>minDriftTime</th>\n",
       "      <th>maxDriftTime</th>\n",
       "      <th>maxResidual</th>\n",
       "      <th>extrapolatedDistance</th>\n",
       "      <th>passCandidateQuality</th>\n",
       "      <th>passTrackQuality</th>\n",
       "      <th>passVertexQuality</th>\n",
       "    </tr>\n",
       "  </thead>\n",
       "  <tbody>\n",
       "    <tr>\n",
       "      <th>0</th>\n",
       "      <td>15921</td>\n",
       "      <td>16</td>\n",
       "      <td>3</td>\n",
       "      <td>19</td>\n",
       "      <td>1712.727539</td>\n",
       "      <td>512.199341</td>\n",
       "      <td>8.262894</td>\n",
       "      <td>-1634.325317</td>\n",
       "      <td>57.717182</td>\n",
       "      <td>-7101.560059</td>\n",
       "      <td>...</td>\n",
       "      <td>6</td>\n",
       "      <td>6</td>\n",
       "      <td>0.000000</td>\n",
       "      <td>8.431014</td>\n",
       "      <td>51.623920</td>\n",
       "      <td>0.175800</td>\n",
       "      <td>0.016023</td>\n",
       "      <td>True</td>\n",
       "      <td>True</td>\n",
       "      <td>False</td>\n",
       "    </tr>\n",
       "    <tr>\n",
       "      <th>1</th>\n",
       "      <td>15921</td>\n",
       "      <td>16</td>\n",
       "      <td>3</td>\n",
       "      <td>32</td>\n",
       "      <td>1488.187256</td>\n",
       "      <td>353.067383</td>\n",
       "      <td>-30.994150</td>\n",
       "      <td>-1445.366455</td>\n",
       "      <td>10.332804</td>\n",
       "      <td>-7042.594238</td>\n",
       "      <td>...</td>\n",
       "      <td>10</td>\n",
       "      <td>9</td>\n",
       "      <td>0.095238</td>\n",
       "      <td>10.963304</td>\n",
       "      <td>59.077667</td>\n",
       "      <td>0.227000</td>\n",
       "      <td>0.014446</td>\n",
       "      <td>True</td>\n",
       "      <td>True</td>\n",
       "      <td>True</td>\n",
       "    </tr>\n",
       "    <tr>\n",
       "      <th>2</th>\n",
       "      <td>15921</td>\n",
       "      <td>16</td>\n",
       "      <td>3</td>\n",
       "      <td>33</td>\n",
       "      <td>538.117676</td>\n",
       "      <td>245.239731</td>\n",
       "      <td>0.646138</td>\n",
       "      <td>-478.986115</td>\n",
       "      <td>6.021589</td>\n",
       "      <td>-7136.965820</td>\n",
       "      <td>...</td>\n",
       "      <td>6</td>\n",
       "      <td>6</td>\n",
       "      <td>0.000000</td>\n",
       "      <td>13.241358</td>\n",
       "      <td>56.658409</td>\n",
       "      <td>0.092637</td>\n",
       "      <td>0.007120</td>\n",
       "      <td>True</td>\n",
       "      <td>True</td>\n",
       "      <td>True</td>\n",
       "    </tr>\n",
       "    <tr>\n",
       "      <th>3</th>\n",
       "      <td>15921</td>\n",
       "      <td>16</td>\n",
       "      <td>3</td>\n",
       "      <td>53</td>\n",
       "      <td>1140.483154</td>\n",
       "      <td>352.003021</td>\n",
       "      <td>-13.173466</td>\n",
       "      <td>-1084.722168</td>\n",
       "      <td>12.152552</td>\n",
       "      <td>-7117.277832</td>\n",
       "      <td>...</td>\n",
       "      <td>6</td>\n",
       "      <td>8</td>\n",
       "      <td>0.125000</td>\n",
       "      <td>5.510454</td>\n",
       "      <td>49.254845</td>\n",
       "      <td>0.228639</td>\n",
       "      <td>0.011527</td>\n",
       "      <td>True</td>\n",
       "      <td>True</td>\n",
       "      <td>True</td>\n",
       "    </tr>\n",
       "    <tr>\n",
       "      <th>4</th>\n",
       "      <td>15921</td>\n",
       "      <td>16</td>\n",
       "      <td>3</td>\n",
       "      <td>55</td>\n",
       "      <td>1769.361206</td>\n",
       "      <td>412.681458</td>\n",
       "      <td>-22.436968</td>\n",
       "      <td>-1720.415527</td>\n",
       "      <td>12.600249</td>\n",
       "      <td>-6987.538086</td>\n",
       "      <td>...</td>\n",
       "      <td>12</td>\n",
       "      <td>8</td>\n",
       "      <td>0.090909</td>\n",
       "      <td>13.612383</td>\n",
       "      <td>55.279339</td>\n",
       "      <td>0.269051</td>\n",
       "      <td>0.020338</td>\n",
       "      <td>True</td>\n",
       "      <td>True</td>\n",
       "      <td>True</td>\n",
       "    </tr>\n",
       "    <tr>\n",
       "      <th>...</th>\n",
       "      <td>...</td>\n",
       "      <td>...</td>\n",
       "      <td>...</td>\n",
       "      <td>...</td>\n",
       "      <td>...</td>\n",
       "      <td>...</td>\n",
       "      <td>...</td>\n",
       "      <td>...</td>\n",
       "      <td>...</td>\n",
       "      <td>...</td>\n",
       "      <td>...</td>\n",
       "      <td>...</td>\n",
       "      <td>...</td>\n",
       "      <td>...</td>\n",
       "      <td>...</td>\n",
       "      <td>...</td>\n",
       "      <td>...</td>\n",
       "      <td>...</td>\n",
       "      <td>...</td>\n",
       "      <td>...</td>\n",
       "      <td>...</td>\n",
       "    </tr>\n",
       "    <tr>\n",
       "      <th>35143514</th>\n",
       "      <td>15984</td>\n",
       "      <td>488</td>\n",
       "      <td>153</td>\n",
       "      <td>196</td>\n",
       "      <td>1765.684814</td>\n",
       "      <td>1687.950317</td>\n",
       "      <td>-3.654095</td>\n",
       "      <td>518.125000</td>\n",
       "      <td>27.297100</td>\n",
       "      <td>-797.272461</td>\n",
       "      <td>...</td>\n",
       "      <td>7</td>\n",
       "      <td>7</td>\n",
       "      <td>0.125000</td>\n",
       "      <td>14.265033</td>\n",
       "      <td>59.629528</td>\n",
       "      <td>0.208270</td>\n",
       "      <td>0.018495</td>\n",
       "      <td>True</td>\n",
       "      <td>True</td>\n",
       "      <td>False</td>\n",
       "    </tr>\n",
       "    <tr>\n",
       "      <th>35143515</th>\n",
       "      <td>15984</td>\n",
       "      <td>488</td>\n",
       "      <td>153</td>\n",
       "      <td>212</td>\n",
       "      <td>1176.171509</td>\n",
       "      <td>1128.292969</td>\n",
       "      <td>9.859795</td>\n",
       "      <td>332.019653</td>\n",
       "      <td>14.607284</td>\n",
       "      <td>-757.449280</td>\n",
       "      <td>...</td>\n",
       "      <td>7</td>\n",
       "      <td>5</td>\n",
       "      <td>0.250000</td>\n",
       "      <td>13.343901</td>\n",
       "      <td>55.259670</td>\n",
       "      <td>0.115285</td>\n",
       "      <td>0.011820</td>\n",
       "      <td>True</td>\n",
       "      <td>True</td>\n",
       "      <td>True</td>\n",
       "    </tr>\n",
       "    <tr>\n",
       "      <th>35143516</th>\n",
       "      <td>15984</td>\n",
       "      <td>488</td>\n",
       "      <td>153</td>\n",
       "      <td>224</td>\n",
       "      <td>2008.930420</td>\n",
       "      <td>1987.400513</td>\n",
       "      <td>1.355163</td>\n",
       "      <td>293.324249</td>\n",
       "      <td>8.468109</td>\n",
       "      <td>-1099.747681</td>\n",
       "      <td>...</td>\n",
       "      <td>13</td>\n",
       "      <td>13</td>\n",
       "      <td>0.187500</td>\n",
       "      <td>7.565221</td>\n",
       "      <td>57.660664</td>\n",
       "      <td>0.494180</td>\n",
       "      <td>0.015575</td>\n",
       "      <td>True</td>\n",
       "      <td>True</td>\n",
       "      <td>False</td>\n",
       "    </tr>\n",
       "    <tr>\n",
       "      <th>35143517</th>\n",
       "      <td>15984</td>\n",
       "      <td>488</td>\n",
       "      <td>153</td>\n",
       "      <td>243</td>\n",
       "      <td>2624.717041</td>\n",
       "      <td>2601.681885</td>\n",
       "      <td>-17.822609</td>\n",
       "      <td>346.516266</td>\n",
       "      <td>15.955649</td>\n",
       "      <td>-2334.005859</td>\n",
       "      <td>...</td>\n",
       "      <td>8</td>\n",
       "      <td>12</td>\n",
       "      <td>0.230769</td>\n",
       "      <td>10.417839</td>\n",
       "      <td>59.483936</td>\n",
       "      <td>0.264356</td>\n",
       "      <td>0.031328</td>\n",
       "      <td>True</td>\n",
       "      <td>True</td>\n",
       "      <td>False</td>\n",
       "    </tr>\n",
       "    <tr>\n",
       "      <th>35143518</th>\n",
       "      <td>15984</td>\n",
       "      <td>488</td>\n",
       "      <td>153</td>\n",
       "      <td>272</td>\n",
       "      <td>1273.278198</td>\n",
       "      <td>1222.244995</td>\n",
       "      <td>6.740832</td>\n",
       "      <td>356.804199</td>\n",
       "      <td>7.115803</td>\n",
       "      <td>-412.401245</td>\n",
       "      <td>...</td>\n",
       "      <td>11</td>\n",
       "      <td>10</td>\n",
       "      <td>0.086957</td>\n",
       "      <td>8.865536</td>\n",
       "      <td>53.931767</td>\n",
       "      <td>0.293949</td>\n",
       "      <td>0.011138</td>\n",
       "      <td>True</td>\n",
       "      <td>True</td>\n",
       "      <td>True</td>\n",
       "    </tr>\n",
       "  </tbody>\n",
       "</table>\n",
       "<p>35143519 rows × 35 columns</p>\n",
       "</div>"
      ],
      "text/plain": [
       "          runNum  subRunNum  eventNum  islandNum  trackMomentum  \\\n",
       "0          15921         16         3         19    1712.727539   \n",
       "1          15921         16         3         32    1488.187256   \n",
       "2          15921         16         3         33     538.117676   \n",
       "3          15921         16         3         53    1140.483154   \n",
       "4          15921         16         3         55    1769.361206   \n",
       "...          ...        ...       ...        ...            ...   \n",
       "35143514   15984        488       153        196    1765.684814   \n",
       "35143515   15984        488       153        212    1176.171509   \n",
       "35143516   15984        488       153        224    2008.930420   \n",
       "35143517   15984        488       153        243    2624.717041   \n",
       "35143518   15984        488       153        272    1273.278198   \n",
       "\n",
       "          trackMomentumX  trackMomentumY  trackMomentumZ  trackMomentumUnc  \\\n",
       "0             512.199341        8.262894    -1634.325317         57.717182   \n",
       "1             353.067383      -30.994150    -1445.366455         10.332804   \n",
       "2             245.239731        0.646138     -478.986115          6.021589   \n",
       "3             352.003021      -13.173466    -1084.722168         12.152552   \n",
       "4             412.681458      -22.436968    -1720.415527         12.600249   \n",
       "...                  ...             ...             ...               ...   \n",
       "35143514     1687.950317       -3.654095      518.125000         27.297100   \n",
       "35143515     1128.292969        9.859795      332.019653         14.607284   \n",
       "35143516     1987.400513        1.355163      293.324249          8.468109   \n",
       "35143517     2601.681885      -17.822609      346.516266         15.955649   \n",
       "35143518     1222.244995        6.740832      356.804199          7.115803   \n",
       "\n",
       "          decayVertexPosX  ...  nUHits  nVHits  missedLayersFrac  \\\n",
       "0            -7101.560059  ...       6       6          0.000000   \n",
       "1            -7042.594238  ...      10       9          0.095238   \n",
       "2            -7136.965820  ...       6       6          0.000000   \n",
       "3            -7117.277832  ...       6       8          0.125000   \n",
       "4            -6987.538086  ...      12       8          0.090909   \n",
       "...                   ...  ...     ...     ...               ...   \n",
       "35143514      -797.272461  ...       7       7          0.125000   \n",
       "35143515      -757.449280  ...       7       5          0.250000   \n",
       "35143516     -1099.747681  ...      13      13          0.187500   \n",
       "35143517     -2334.005859  ...       8      12          0.230769   \n",
       "35143518      -412.401245  ...      11      10          0.086957   \n",
       "\n",
       "          minDriftTime  maxDriftTime  maxResidual  extrapolatedDistance  \\\n",
       "0             8.431014     51.623920     0.175800              0.016023   \n",
       "1            10.963304     59.077667     0.227000              0.014446   \n",
       "2            13.241358     56.658409     0.092637              0.007120   \n",
       "3             5.510454     49.254845     0.228639              0.011527   \n",
       "4            13.612383     55.279339     0.269051              0.020338   \n",
       "...                ...           ...          ...                   ...   \n",
       "35143514     14.265033     59.629528     0.208270              0.018495   \n",
       "35143515     13.343901     55.259670     0.115285              0.011820   \n",
       "35143516      7.565221     57.660664     0.494180              0.015575   \n",
       "35143517     10.417839     59.483936     0.264356              0.031328   \n",
       "35143518      8.865536     53.931767     0.293949              0.011138   \n",
       "\n",
       "          passCandidateQuality  passTrackQuality  passVertexQuality  \n",
       "0                         True              True              False  \n",
       "1                         True              True               True  \n",
       "2                         True              True               True  \n",
       "3                         True              True               True  \n",
       "4                         True              True               True  \n",
       "...                        ...               ...                ...  \n",
       "35143514                  True              True              False  \n",
       "35143515                  True              True               True  \n",
       "35143516                  True              True              False  \n",
       "35143517                  True              True              False  \n",
       "35143518                  True              True               True  \n",
       "\n",
       "[35143519 rows x 35 columns]"
      ]
     },
     "execution_count": 5,
     "metadata": {},
     "output_type": "execute_result"
    }
   ],
   "source": [
    "data"
   ]
  },
  {
   "cell_type": "markdown",
   "metadata": {},
   "source": [
    "### Also useful to check types of columns (i.e. trees)"
   ]
  },
  {
   "cell_type": "code",
   "execution_count": 4,
   "metadata": {},
   "outputs": [
    {
     "name": "stdout",
     "output_type": "stream",
     "text": [
      "<class 'pandas.core.frame.DataFrame'>\n",
      "RangeIndex: 35143519 entries, 0 to 35143518\n",
      "Data columns (total 35 columns):\n",
      "runNum                  int32\n",
      "subRunNum               int32\n",
      "eventNum                int32\n",
      "islandNum               int32\n",
      "trackMomentum           float32\n",
      "trackMomentumX          float32\n",
      "trackMomentumY          float32\n",
      "trackMomentumZ          float32\n",
      "trackMomentumUnc        float32\n",
      "decayVertexPosX         float32\n",
      "decayVertexPosY         float32\n",
      "decayVertexPosZ         float32\n",
      "decayVertexMomX         float32\n",
      "decayVertexMomY         float32\n",
      "decayVertexMomZ         float32\n",
      "decayVertexUncR         float32\n",
      "decayVertexUncY         float32\n",
      "decayVertexUncPR        float32\n",
      "decayVertexUncPY        float32\n",
      "trackT0                 float32\n",
      "decayTime               float32\n",
      "hitVolume               bool\n",
      "trackPValue             float32\n",
      "station                 int32\n",
      "nHits                   int32\n",
      "nUHits                  int32\n",
      "nVHits                  int32\n",
      "missedLayersFrac        float32\n",
      "minDriftTime            float32\n",
      "maxDriftTime            float32\n",
      "maxResidual             float32\n",
      "extrapolatedDistance    float32\n",
      "passCandidateQuality    bool\n",
      "passTrackQuality        bool\n",
      "passVertexQuality       bool\n",
      "dtypes: bool(4), float32(23), int32(8)\n",
      "memory usage: 4.2 GB\n"
     ]
    }
   ],
   "source": [
    "data.info()"
   ]
  },
  {
   "cell_type": "markdown",
   "metadata": {},
   "source": [
    "### We can now select variables directly from the table, e.g. for all momentum enties"
   ]
  },
  {
   "cell_type": "code",
   "execution_count": 7,
   "metadata": {},
   "outputs": [
    {
     "name": "stdout",
     "output_type": "stream",
     "text": [
      "0           1712.727539\n",
      "1           1488.187256\n",
      "2            538.117676\n",
      "3           1140.483154\n",
      "4           1769.361206\n",
      "               ...     \n",
      "35143514    1765.684814\n",
      "35143515    1176.171509\n",
      "35143516    2008.930420\n",
      "35143517    2624.717041\n",
      "35143518    1273.278198\n",
      "Name: trackMomentum, Length: 35143519, dtype: float32\n"
     ]
    }
   ],
   "source": [
    "p = data['trackMomentum']\n",
    "print(p)"
   ]
  },
  {
   "cell_type": "markdown",
   "metadata": {},
   "source": [
    "### Can select elements of momentum column"
   ]
  },
  {
   "cell_type": "code",
   "execution_count": 8,
   "metadata": {},
   "outputs": [
    {
     "name": "stdout",
     "output_type": "stream",
     "text": [
      "1712.7275 MeV\n"
     ]
    }
   ],
   "source": [
    "print(p[0], \"MeV\")"
   ]
  },
  {
   "cell_type": "markdown",
   "metadata": {},
   "source": [
    "### Now, let's create a cut on time of $\\mu s$"
   ]
  },
  {
   "cell_type": "code",
   "execution_count": 9,
   "metadata": {},
   "outputs": [],
   "source": [
    "time = data['trackT0'] * 1e-3 # get time and convert to us \n",
    "time_cut = (time > 30)  # define a time_cut with time > 30 us"
   ]
  },
  {
   "cell_type": "code",
   "execution_count": 10,
   "metadata": {},
   "outputs": [
    {
     "data": {
      "text/plain": [
       "0    False\n",
       "1    False\n",
       "2    False\n",
       "3     True\n",
       "4     True\n",
       "Name: trackT0, dtype: bool"
      ]
     },
     "execution_count": 10,
     "metadata": {},
     "output_type": "execute_result"
    }
   ],
   "source": [
    "time_cut.head()"
   ]
  },
  {
   "cell_type": "code",
   "execution_count": 11,
   "metadata": {},
   "outputs": [],
   "source": [
    "data_above30us=data[time_cut]"
   ]
  },
  {
   "cell_type": "code",
   "execution_count": 13,
   "metadata": {},
   "outputs": [
    {
     "name": "stdout",
     "output_type": "stream",
     "text": [
      "CPU times: user 3 µs, sys: 1 µs, total: 4 µs\n",
      "Wall time: 21 µs\n"
     ]
    }
   ],
   "source": [
    "data_above30us\n",
    "%time"
   ]
  },
  {
   "cell_type": "code",
   "execution_count": null,
   "metadata": {},
   "outputs": [],
   "source": []
  }
 ],
 "metadata": {
  "kernelspec": {
   "display_name": "Python 3",
   "language": "python",
   "name": "python3"
  },
  "language_info": {
   "codemirror_mode": {
    "name": "ipython",
    "version": 3
   },
   "file_extension": ".py",
   "mimetype": "text/x-python",
   "name": "python",
   "nbconvert_exporter": "python",
   "pygments_lexer": "ipython3",
   "version": "3.7.4"
  }
 },
 "nbformat": 4,
 "nbformat_minor": 4
}
