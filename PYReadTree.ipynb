{
 "cells": [
  {
   "cell_type": "markdown",
   "metadata": {},
   "source": [
    "# Example of reading tracker Trees into a pandas data frame for Python analysis 🖥\n",
    "## See here for more details: https://cdcvs.fnal.gov/redmine/projects/gm2analyses/wiki/Python-based_EDM_analysis"
   ]
  },
  {
   "cell_type": "markdown",
   "metadata": {},
   "source": [
    "### First import the necessary modules"
   ]
  },
  {
   "cell_type": "code",
   "execution_count": 1,
   "metadata": {},
   "outputs": [
    {
     "name": "stdout",
     "output_type": "stream",
     "text": [
      "Welcome to JupyROOT 6.18/04\n"
     ]
    }
   ],
   "source": [
    "import sys,os\n",
    "sys.path.append(os.environ[\"JUPYROOT\"]) # where JUPYROOT is path to ROOT e.g. /usr/local/Cellar/root/6.18.04/lib/root\n",
    "# for Python3 install root_numpy with \"python3 -m pip install --user root_numpy\"\n",
    "import root_numpy # see http://scikit-hep.org/root_numpy/install.html  \n",
    "# for Python3 install root_pandas with \"python3 -m pip install --user root_pandas\"\n",
    "from root_pandas import read_root # see https://github.com/scikit-hep/root_pandas "
   ]
  },
  {
   "cell_type": "markdown",
   "metadata": {},
   "source": [
    "## Read in the Trees into a pandas data frame"
   ]
  },
  {
   "cell_type": "markdown",
   "metadata": {},
   "source": [
    "### As we have two new Tress now, QualityTracks and QualityVertices, we need to specify which one to open "
   ]
  },
  {
   "cell_type": "markdown",
   "metadata": {},
   "source": [
    "this takes ~2min to load for 35M tracks. Other operatios takes seconds, once data is in the memeory"
   ]
  },
  {
   "cell_type": "code",
   "execution_count": 2,
   "metadata": {},
   "outputs": [],
   "source": [
    "data = read_root('DATA/Trees/60h_all_quality_tracks.root', 'QualityTracks')"
   ]
  },
  {
   "cell_type": "markdown",
   "metadata": {},
   "source": [
    "### Get a quick glimpse of data (head and tail)"
   ]
  },
  {
   "cell_type": "code",
   "execution_count": 3,
   "metadata": {},
   "outputs": [
    {
     "data": {
      "text/html": [
       "<div>\n",
       "<style scoped>\n",
       "    .dataframe tbody tr th:only-of-type {\n",
       "        vertical-align: middle;\n",
       "    }\n",
       "\n",
       "    .dataframe tbody tr th {\n",
       "        vertical-align: top;\n",
       "    }\n",
       "\n",
       "    .dataframe thead th {\n",
       "        text-align: right;\n",
       "    }\n",
       "</style>\n",
       "<table border=\"1\" class=\"dataframe\">\n",
       "  <thead>\n",
       "    <tr style=\"text-align: right;\">\n",
       "      <th></th>\n",
       "      <th>runNum</th>\n",
       "      <th>subRunNum</th>\n",
       "      <th>eventNum</th>\n",
       "      <th>islandNum</th>\n",
       "      <th>trackMomentum</th>\n",
       "      <th>trackMomentumX</th>\n",
       "      <th>trackMomentumY</th>\n",
       "      <th>trackMomentumZ</th>\n",
       "      <th>trackMomentumUnc</th>\n",
       "      <th>decayVertexPosX</th>\n",
       "      <th>...</th>\n",
       "      <th>nUHits</th>\n",
       "      <th>nVHits</th>\n",
       "      <th>missedLayersFrac</th>\n",
       "      <th>minDriftTime</th>\n",
       "      <th>maxDriftTime</th>\n",
       "      <th>maxResidual</th>\n",
       "      <th>extrapolatedDistance</th>\n",
       "      <th>passCandidateQuality</th>\n",
       "      <th>passTrackQuality</th>\n",
       "      <th>passVertexQuality</th>\n",
       "    </tr>\n",
       "  </thead>\n",
       "  <tbody>\n",
       "    <tr>\n",
       "      <th>0</th>\n",
       "      <td>15921</td>\n",
       "      <td>16</td>\n",
       "      <td>3</td>\n",
       "      <td>19</td>\n",
       "      <td>1712.727539</td>\n",
       "      <td>512.199341</td>\n",
       "      <td>8.262894</td>\n",
       "      <td>-1634.325317</td>\n",
       "      <td>57.717182</td>\n",
       "      <td>-7101.560059</td>\n",
       "      <td>...</td>\n",
       "      <td>6</td>\n",
       "      <td>6</td>\n",
       "      <td>0.000000</td>\n",
       "      <td>8.431014</td>\n",
       "      <td>51.623920</td>\n",
       "      <td>0.175800</td>\n",
       "      <td>0.016023</td>\n",
       "      <td>True</td>\n",
       "      <td>True</td>\n",
       "      <td>False</td>\n",
       "    </tr>\n",
       "    <tr>\n",
       "      <th>1</th>\n",
       "      <td>15921</td>\n",
       "      <td>16</td>\n",
       "      <td>3</td>\n",
       "      <td>32</td>\n",
       "      <td>1488.187256</td>\n",
       "      <td>353.067383</td>\n",
       "      <td>-30.994150</td>\n",
       "      <td>-1445.366455</td>\n",
       "      <td>10.332804</td>\n",
       "      <td>-7042.594238</td>\n",
       "      <td>...</td>\n",
       "      <td>10</td>\n",
       "      <td>9</td>\n",
       "      <td>0.095238</td>\n",
       "      <td>10.963304</td>\n",
       "      <td>59.077667</td>\n",
       "      <td>0.227000</td>\n",
       "      <td>0.014446</td>\n",
       "      <td>True</td>\n",
       "      <td>True</td>\n",
       "      <td>True</td>\n",
       "    </tr>\n",
       "    <tr>\n",
       "      <th>2</th>\n",
       "      <td>15921</td>\n",
       "      <td>16</td>\n",
       "      <td>3</td>\n",
       "      <td>33</td>\n",
       "      <td>538.117676</td>\n",
       "      <td>245.239731</td>\n",
       "      <td>0.646138</td>\n",
       "      <td>-478.986115</td>\n",
       "      <td>6.021589</td>\n",
       "      <td>-7136.965820</td>\n",
       "      <td>...</td>\n",
       "      <td>6</td>\n",
       "      <td>6</td>\n",
       "      <td>0.000000</td>\n",
       "      <td>13.241358</td>\n",
       "      <td>56.658409</td>\n",
       "      <td>0.092637</td>\n",
       "      <td>0.007120</td>\n",
       "      <td>True</td>\n",
       "      <td>True</td>\n",
       "      <td>True</td>\n",
       "    </tr>\n",
       "    <tr>\n",
       "      <th>3</th>\n",
       "      <td>15921</td>\n",
       "      <td>16</td>\n",
       "      <td>3</td>\n",
       "      <td>53</td>\n",
       "      <td>1140.483154</td>\n",
       "      <td>352.003021</td>\n",
       "      <td>-13.173466</td>\n",
       "      <td>-1084.722168</td>\n",
       "      <td>12.152552</td>\n",
       "      <td>-7117.277832</td>\n",
       "      <td>...</td>\n",
       "      <td>6</td>\n",
       "      <td>8</td>\n",
       "      <td>0.125000</td>\n",
       "      <td>5.510454</td>\n",
       "      <td>49.254845</td>\n",
       "      <td>0.228639</td>\n",
       "      <td>0.011527</td>\n",
       "      <td>True</td>\n",
       "      <td>True</td>\n",
       "      <td>True</td>\n",
       "    </tr>\n",
       "    <tr>\n",
       "      <th>4</th>\n",
       "      <td>15921</td>\n",
       "      <td>16</td>\n",
       "      <td>3</td>\n",
       "      <td>55</td>\n",
       "      <td>1769.361206</td>\n",
       "      <td>412.681458</td>\n",
       "      <td>-22.436968</td>\n",
       "      <td>-1720.415527</td>\n",
       "      <td>12.600249</td>\n",
       "      <td>-6987.538086</td>\n",
       "      <td>...</td>\n",
       "      <td>12</td>\n",
       "      <td>8</td>\n",
       "      <td>0.090909</td>\n",
       "      <td>13.612383</td>\n",
       "      <td>55.279339</td>\n",
       "      <td>0.269051</td>\n",
       "      <td>0.020338</td>\n",
       "      <td>True</td>\n",
       "      <td>True</td>\n",
       "      <td>True</td>\n",
       "    </tr>\n",
       "    <tr>\n",
       "      <th>...</th>\n",
       "      <td>...</td>\n",
       "      <td>...</td>\n",
       "      <td>...</td>\n",
       "      <td>...</td>\n",
       "      <td>...</td>\n",
       "      <td>...</td>\n",
       "      <td>...</td>\n",
       "      <td>...</td>\n",
       "      <td>...</td>\n",
       "      <td>...</td>\n",
       "      <td>...</td>\n",
       "      <td>...</td>\n",
       "      <td>...</td>\n",
       "      <td>...</td>\n",
       "      <td>...</td>\n",
       "      <td>...</td>\n",
       "      <td>...</td>\n",
       "      <td>...</td>\n",
       "      <td>...</td>\n",
       "      <td>...</td>\n",
       "      <td>...</td>\n",
       "    </tr>\n",
       "    <tr>\n",
       "      <th>35143514</th>\n",
       "      <td>15991</td>\n",
       "      <td>149</td>\n",
       "      <td>154</td>\n",
       "      <td>193</td>\n",
       "      <td>2784.667969</td>\n",
       "      <td>2741.797363</td>\n",
       "      <td>-7.199627</td>\n",
       "      <td>486.693665</td>\n",
       "      <td>36.911140</td>\n",
       "      <td>-3957.141846</td>\n",
       "      <td>...</td>\n",
       "      <td>8</td>\n",
       "      <td>9</td>\n",
       "      <td>0.150000</td>\n",
       "      <td>15.595004</td>\n",
       "      <td>59.157608</td>\n",
       "      <td>0.248354</td>\n",
       "      <td>0.054245</td>\n",
       "      <td>True</td>\n",
       "      <td>True</td>\n",
       "      <td>False</td>\n",
       "    </tr>\n",
       "    <tr>\n",
       "      <th>35143515</th>\n",
       "      <td>15991</td>\n",
       "      <td>149</td>\n",
       "      <td>154</td>\n",
       "      <td>217</td>\n",
       "      <td>2124.116455</td>\n",
       "      <td>2071.901855</td>\n",
       "      <td>23.592415</td>\n",
       "      <td>467.480194</td>\n",
       "      <td>28.891079</td>\n",
       "      <td>-1140.763672</td>\n",
       "      <td>...</td>\n",
       "      <td>8</td>\n",
       "      <td>6</td>\n",
       "      <td>0.263158</td>\n",
       "      <td>9.857056</td>\n",
       "      <td>55.896168</td>\n",
       "      <td>0.214529</td>\n",
       "      <td>0.020785</td>\n",
       "      <td>True</td>\n",
       "      <td>True</td>\n",
       "      <td>False</td>\n",
       "    </tr>\n",
       "    <tr>\n",
       "      <th>35143516</th>\n",
       "      <td>15991</td>\n",
       "      <td>149</td>\n",
       "      <td>154</td>\n",
       "      <td>222</td>\n",
       "      <td>2924.438965</td>\n",
       "      <td>2900.271973</td>\n",
       "      <td>0.912041</td>\n",
       "      <td>375.186523</td>\n",
       "      <td>58.776600</td>\n",
       "      <td>-3041.445557</td>\n",
       "      <td>...</td>\n",
       "      <td>8</td>\n",
       "      <td>6</td>\n",
       "      <td>0.263158</td>\n",
       "      <td>6.991961</td>\n",
       "      <td>54.695763</td>\n",
       "      <td>0.233597</td>\n",
       "      <td>0.042901</td>\n",
       "      <td>True</td>\n",
       "      <td>True</td>\n",
       "      <td>False</td>\n",
       "    </tr>\n",
       "    <tr>\n",
       "      <th>35143517</th>\n",
       "      <td>15991</td>\n",
       "      <td>149</td>\n",
       "      <td>154</td>\n",
       "      <td>227</td>\n",
       "      <td>2744.483643</td>\n",
       "      <td>2710.265869</td>\n",
       "      <td>4.290727</td>\n",
       "      <td>432.007324</td>\n",
       "      <td>43.990440</td>\n",
       "      <td>-2496.093262</td>\n",
       "      <td>...</td>\n",
       "      <td>8</td>\n",
       "      <td>7</td>\n",
       "      <td>0.250000</td>\n",
       "      <td>8.392237</td>\n",
       "      <td>58.666668</td>\n",
       "      <td>0.185277</td>\n",
       "      <td>0.036295</td>\n",
       "      <td>True</td>\n",
       "      <td>True</td>\n",
       "      <td>False</td>\n",
       "    </tr>\n",
       "    <tr>\n",
       "      <th>35143518</th>\n",
       "      <td>15991</td>\n",
       "      <td>149</td>\n",
       "      <td>154</td>\n",
       "      <td>242</td>\n",
       "      <td>2177.887451</td>\n",
       "      <td>2143.700684</td>\n",
       "      <td>25.752491</td>\n",
       "      <td>383.507202</td>\n",
       "      <td>9.076346</td>\n",
       "      <td>-1965.558350</td>\n",
       "      <td>...</td>\n",
       "      <td>13</td>\n",
       "      <td>13</td>\n",
       "      <td>0.187500</td>\n",
       "      <td>10.783571</td>\n",
       "      <td>55.194973</td>\n",
       "      <td>0.371819</td>\n",
       "      <td>0.025405</td>\n",
       "      <td>True</td>\n",
       "      <td>True</td>\n",
       "      <td>True</td>\n",
       "    </tr>\n",
       "  </tbody>\n",
       "</table>\n",
       "<p>35143519 rows × 35 columns</p>\n",
       "</div>"
      ],
      "text/plain": [
       "          runNum  subRunNum  eventNum  islandNum  trackMomentum  \\\n",
       "0          15921         16         3         19    1712.727539   \n",
       "1          15921         16         3         32    1488.187256   \n",
       "2          15921         16         3         33     538.117676   \n",
       "3          15921         16         3         53    1140.483154   \n",
       "4          15921         16         3         55    1769.361206   \n",
       "...          ...        ...       ...        ...            ...   \n",
       "35143514   15991        149       154        193    2784.667969   \n",
       "35143515   15991        149       154        217    2124.116455   \n",
       "35143516   15991        149       154        222    2924.438965   \n",
       "35143517   15991        149       154        227    2744.483643   \n",
       "35143518   15991        149       154        242    2177.887451   \n",
       "\n",
       "          trackMomentumX  trackMomentumY  trackMomentumZ  trackMomentumUnc  \\\n",
       "0             512.199341        8.262894    -1634.325317         57.717182   \n",
       "1             353.067383      -30.994150    -1445.366455         10.332804   \n",
       "2             245.239731        0.646138     -478.986115          6.021589   \n",
       "3             352.003021      -13.173466    -1084.722168         12.152552   \n",
       "4             412.681458      -22.436968    -1720.415527         12.600249   \n",
       "...                  ...             ...             ...               ...   \n",
       "35143514     2741.797363       -7.199627      486.693665         36.911140   \n",
       "35143515     2071.901855       23.592415      467.480194         28.891079   \n",
       "35143516     2900.271973        0.912041      375.186523         58.776600   \n",
       "35143517     2710.265869        4.290727      432.007324         43.990440   \n",
       "35143518     2143.700684       25.752491      383.507202          9.076346   \n",
       "\n",
       "          decayVertexPosX  ...  nUHits  nVHits  missedLayersFrac  \\\n",
       "0            -7101.560059  ...       6       6          0.000000   \n",
       "1            -7042.594238  ...      10       9          0.095238   \n",
       "2            -7136.965820  ...       6       6          0.000000   \n",
       "3            -7117.277832  ...       6       8          0.125000   \n",
       "4            -6987.538086  ...      12       8          0.090909   \n",
       "...                   ...  ...     ...     ...               ...   \n",
       "35143514     -3957.141846  ...       8       9          0.150000   \n",
       "35143515     -1140.763672  ...       8       6          0.263158   \n",
       "35143516     -3041.445557  ...       8       6          0.263158   \n",
       "35143517     -2496.093262  ...       8       7          0.250000   \n",
       "35143518     -1965.558350  ...      13      13          0.187500   \n",
       "\n",
       "          minDriftTime  maxDriftTime  maxResidual  extrapolatedDistance  \\\n",
       "0             8.431014     51.623920     0.175800              0.016023   \n",
       "1            10.963304     59.077667     0.227000              0.014446   \n",
       "2            13.241358     56.658409     0.092637              0.007120   \n",
       "3             5.510454     49.254845     0.228639              0.011527   \n",
       "4            13.612383     55.279339     0.269051              0.020338   \n",
       "...                ...           ...          ...                   ...   \n",
       "35143514     15.595004     59.157608     0.248354              0.054245   \n",
       "35143515      9.857056     55.896168     0.214529              0.020785   \n",
       "35143516      6.991961     54.695763     0.233597              0.042901   \n",
       "35143517      8.392237     58.666668     0.185277              0.036295   \n",
       "35143518     10.783571     55.194973     0.371819              0.025405   \n",
       "\n",
       "          passCandidateQuality  passTrackQuality  passVertexQuality  \n",
       "0                         True              True              False  \n",
       "1                         True              True               True  \n",
       "2                         True              True               True  \n",
       "3                         True              True               True  \n",
       "4                         True              True               True  \n",
       "...                        ...               ...                ...  \n",
       "35143514                  True              True              False  \n",
       "35143515                  True              True              False  \n",
       "35143516                  True              True              False  \n",
       "35143517                  True              True              False  \n",
       "35143518                  True              True               True  \n",
       "\n",
       "[35143519 rows x 35 columns]"
      ]
     },
     "execution_count": 3,
     "metadata": {},
     "output_type": "execute_result"
    }
   ],
   "source": [
    "data"
   ]
  },
  {
   "cell_type": "markdown",
   "metadata": {},
   "source": [
    "# Now let's plot something!"
   ]
  },
  {
   "cell_type": "markdown",
   "metadata": {},
   "source": [
    "## Select momentum (selecting by column name, which is the NTuple name) for all tracks, and plot for 1M"
   ]
  },
  {
   "cell_type": "code",
   "execution_count": 19,
   "metadata": {},
   "outputs": [
    {
     "name": "stdout",
     "output_type": "stream",
     "text": [
      "We have 3.51e+07 tracks in this array, with the mean momentum of  1599.076 MeV\n",
      "Plotting for 1M:\n"
     ]
    },
    {
     "data": {
      "image/png": "[encoded data removed]",
      "text/plain": [
       "<Figure size 432x288 with 1 Axes>"
      ]
     },
     "metadata": {
      "needs_background": "light"
     },
     "output_type": "display_data"
    }
   ],
   "source": [
    "p = data['trackMomentum']\n",
    "p_mean = p.mean()\n",
    "ax = p[0:int(1e6)].plot.hist(bins=250, color=\"green\")\n",
    "ax.set_xlabel(r\"$p$ [MeV]\")\n",
    "print(\"We have\", \"{:.2e}\".format(len(p)), \"tracks in this array, with the mean momentum of \", p_mean, \"MeV\")\n",
    "print(\"Plotting for 1M:\")"
   ]
  },
  {
   "cell_type": "markdown",
   "metadata": {},
   "source": [
    "## See here for more info on using pandas:\n",
    "http://pandas.pydata.org/Pandas_Cheat_Sheet.pdf \n",
    "\n",
    "https://pandas.pydata.org/pandas-docs/stable/getting_started/10min.html"
   ]
  },
  {
   "cell_type": "markdown",
   "metadata": {},
   "source": [
    "### Now get the track time (in $\\mu s$) and $p_y$ from data "
   ]
  },
  {
   "cell_type": "code",
   "execution_count": 20,
   "metadata": {},
   "outputs": [],
   "source": [
    "py = data['trackMomentumY'] # select by column name \n",
    "t = data['trackT0']*1e-3  # ns -> us "
   ]
  },
  {
   "cell_type": "markdown",
   "metadata": {},
   "source": [
    "## Make a 2D histogram wth 100 X by 100 Y bins with 1M tracks"
   ]
  },
  {
   "cell_type": "code",
   "execution_count": 27,
   "metadata": {},
   "outputs": [
    {
     "data": {
      "image/png": "[encoded data removed]",
      "text/plain": [
       "<Figure size 576x576 with 1 Axes>"
      ]
     },
     "metadata": {
      "needs_background": "light"
     },
     "output_type": "display_data"
    }
   ],
   "source": [
    "import matplotlib.pyplot as plt # import plotting module\n",
    "import numpy as np # import fast array and maths module\n",
    "\n",
    "t_plot=t[0:int(1e6)]\n",
    "py_plot=py[0:int(1e6)]\n",
    "\n",
    "def py_vs_time(XYbins=(100, 100)):\n",
    "    fig, ax = plt.subplots()\n",
    "    h, x, y, image = plt.hist2d(t_plot, py_plot, bins=XYbins, cmap=plt.cm.jet, cmin=1)\n",
    "    fig.set_size_inches(8, 8)\n",
    "\n",
    "    font_size=16 # set a global constans\n",
    "    # Pretify plot (can be part of a function to avoid copying code)\n",
    "    ax.set_xlabel(xlabel=r\"Track time [$\\mathrm{\\mu}$s]\", fontsize=font_size)\n",
    "    ax.set_ylabel(ylabel=r\"$p_y$ [MeV]\", fontsize=font_size)\n",
    "    ax.tick_params(axis='x', which='both', bottom=True, top=True, direction='inout')\n",
    "    ax.tick_params(axis='y', which='both', left=True, right=True, direction='inout')\n",
    "    ax.minorticks_on()\n",
    "    plt.xticks(fontsize=font_size-1)\n",
    "    plt.yticks(fontsize=font_size-1)\n",
    "    return fig, ax\n",
    "    \n",
    "fig, ax = py_vs_time()"
   ]
  },
  {
   "cell_type": "markdown",
   "metadata": {},
   "source": [
    "## Wait?! What about some statisics?"
   ]
  },
  {
   "cell_type": "markdown",
   "metadata": {},
   "source": [
    "### Let's define some helper functions"
   ]
  },
  {
   "cell_type": "code",
   "execution_count": 28,
   "metadata": {},
   "outputs": [
    {
     "data": {
      "text/plain": [
       "Text(0.8, 0.8, '$p_y$ [MeV]:\\nN=1.00e+06\\n$\\\\mathrm{\\\\mu}$=0.0602(210)\\n$\\\\sigma$=21.0490(149)')"
      ]
     },
     "execution_count": 28,
     "metadata": {},
     "output_type": "execute_result"
    },
    {
     "data": {
      "image/png": "[encoded data removed]",
      "text/plain": [
       "<Figure size 576x576 with 1 Axes>"
      ]
     },
     "metadata": {
      "needs_background": "light"
     },
     "output_type": "display_data"
    }
   ],
   "source": [
    "# Put some statisitcs for momentum\n",
    "# define functions to use later \n",
    "from scipy import stats \n",
    "def stats5(data):\n",
    "    '''\n",
    "    Input is a 1D array \n",
    "    '''\n",
    "    N = len(data)\n",
    "    mean = np.mean(data)\n",
    "    meanE = stats.sem(data)\n",
    "    sd = np.std(data)\n",
    "    sdE = np.sqrt(sd**2/ (2*N) ) # ROOT-style Gaussian error on the sigma https://root.cern.ch/doc/master/TH1_8cxx_source.html#l07111\n",
    "    return N, mean, meanE, sd, sdE\n",
    "\n",
    "# define a legedn function with good formatting and precision of 4 decimal places\n",
    "def legend5(N, mean, meanE, sd, sdE, prec=4):\n",
    "    '''\n",
    "    form a string from 5 stats inputs with given precision\n",
    "    '''\n",
    "    meanS=r\"$\\mathrm{\\mu}$\"\n",
    "    sigmaS=r\"$\\sigma$\"\n",
    "    # form raw string with Latex\n",
    "    legend = \"N={0:.2e}\".format(N)+\"\\n\"+str(meanS)+\"={0:.{prec}f}({1:d})\\n\".format(mean, int(round(meanE*10**prec)), prec=prec)+str(sigmaS)+\"={0:.{prec}f}({1:d})\".format(sd, int(round(sdE*10**prec)), prec=prec)\n",
    "    return legend\n",
    "\n",
    "def textL(ax, x, y, legend, font_size=14):\n",
    "    '''\n",
    "    return a good formatted plot legend\n",
    "    '''\n",
    "    return ax.text(x, y, str(legend),  fontsize=font_size, transform=ax.transAxes, horizontalalignment='center', verticalalignment='center')\n",
    "\n",
    "# Get nicely-formatted stats and put on the plot\n",
    "fig, ax = py_vs_time() # re-draw our prevous plot \n",
    "N, mean, meanE, sd, sdE = stats5(py_plot)\n",
    "legend_py = legend5(N, mean, meanE, sd, sdE)\n",
    "textL(ax, 0.8, 0.8, \"$p_y$ [MeV]:\"+\"\\n\"+str(legend_py), font_size=16)\n",
    "\n"
   ]
  },
  {
   "cell_type": "markdown",
   "metadata": {},
   "source": [
    "### Now, let's create a cut on track time "
   ]
  },
  {
   "cell_type": "code",
   "execution_count": 29,
   "metadata": {},
   "outputs": [],
   "source": [
    "time_cut = (t > 30)  # us, define a time_cut with time > 30 us"
   ]
  },
  {
   "cell_type": "markdown",
   "metadata": {},
   "source": [
    "## Create a new data frame where all entries have time above $30 \\mu s$"
   ]
  },
  {
   "cell_type": "code",
   "execution_count": 24,
   "metadata": {},
   "outputs": [],
   "source": [
    "data_above30us=data[time_cut] "
   ]
  },
  {
   "cell_type": "code",
   "execution_count": 25,
   "metadata": {},
   "outputs": [
    {
     "name": "stdout",
     "output_type": "stream",
     "text": [
      "Our time cut removed 1.24e+07 tracks\n"
     ]
    }
   ],
   "source": [
    "print(\"Our time cut removed\", \"{:.2e}\".format(data.shape[0] - data_above30us.shape[0]), \"tracks\")"
   ]
  },
  {
   "cell_type": "markdown",
   "metadata": {},
   "source": [
    "# Instructions on fitting coming soon!"
   ]
  },
  {
   "cell_type": "markdown",
   "metadata": {},
   "source": [
    "### Also useful to check types of columns (i.e. Ntuples) in our data"
   ]
  },
  {
   "cell_type": "code",
   "execution_count": 26,
   "metadata": {},
   "outputs": [
    {
     "name": "stdout",
     "output_type": "stream",
     "text": [
      "<class 'pandas.core.frame.DataFrame'>\n",
      "Int64Index: 22697776 entries, 3 to 35143515\n",
      "Data columns (total 35 columns):\n",
      "runNum                  int32\n",
      "subRunNum               int32\n",
      "eventNum                int32\n",
      "islandNum               int32\n",
      "trackMomentum           float32\n",
      "trackMomentumX          float32\n",
      "trackMomentumY          float32\n",
      "trackMomentumZ          float32\n",
      "trackMomentumUnc        float32\n",
      "decayVertexPosX         float32\n",
      "decayVertexPosY         float32\n",
      "decayVertexPosZ         float32\n",
      "decayVertexMomX         float32\n",
      "decayVertexMomY         float32\n",
      "decayVertexMomZ         float32\n",
      "decayVertexUncR         float32\n",
      "decayVertexUncY         float32\n",
      "decayVertexUncPR        float32\n",
      "decayVertexUncPY        float32\n",
      "trackT0                 float32\n",
      "decayTime               float32\n",
      "hitVolume               bool\n",
      "trackPValue             float32\n",
      "station                 int32\n",
      "nHits                   int32\n",
      "nUHits                  int32\n",
      "nVHits                  int32\n",
      "missedLayersFrac        float32\n",
      "minDriftTime            float32\n",
      "maxDriftTime            float32\n",
      "maxResidual             float32\n",
      "extrapolatedDistance    float32\n",
      "passCandidateQuality    bool\n",
      "passTrackQuality        bool\n",
      "passVertexQuality       bool\n",
      "dtypes: bool(4), float32(23), int32(8)\n",
      "memory usage: 2.9 GB\n"
     ]
    }
   ],
   "source": [
    "data_above30us.info()"
   ]
  },
  {
   "cell_type": "markdown",
   "metadata": {},
   "source": [
    "### Happy tracking! 🤠"
   ]
  }
 ],
 "metadata": {
  "kernelspec": {
   "display_name": "Python 3",
   "language": "python",
   "name": "python3"
  },
  "language_info": {
   "codemirror_mode": {
    "name": "ipython",
    "version": 3
   },
   "file_extension": ".py",
   "mimetype": "text/x-python",
   "name": "python",
   "nbconvert_exporter": "python",
   "pygments_lexer": "ipython3",
   "version": "3.7.4"
  }
 },
 "nbformat": 4,
 "nbformat_minor": 4
}
