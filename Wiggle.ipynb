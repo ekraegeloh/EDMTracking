{
 "cells": [
  {
   "cell_type": "code",
   "execution_count": 1,
   "metadata": {},
   "outputs": [],
   "source": [
    "import uproot # python3 -m pip install uproot \n",
    "import numpy as np\n",
    "file = uproot.open(\"DATA/Run1_4DS_ana.root\") # load the ROOT file \n",
    "hist=file[\"TrackSummary/FitResults/Times_gt_1800MeV\"] # load histogram\n",
    "hist_data = hist.numpy() # the histogram in the numpy format\n",
    "counts, edges = hist_data[0], hist_data[1] # len(edges) = len(counts) + 1 "
   ]
  },
  {
   "cell_type": "code",
   "execution_count": 2,
   "metadata": {},
   "outputs": [
    {
     "name": "stdout",
     "output_type": "stream",
     "text": [
      "101968592 enties in 6000 bins before filtering\n",
      "60195844 enties in 6000 bins after filtering with t>= 30 us\n"
     ]
    }
   ],
   "source": [
    "#set some constants and filter data \n",
    "N=int(np.sum(counts))\n",
    "print(N, \"enties in\", len(counts), \"bins before filtering\")\n",
    "\n",
    "t_mod = 100 # us; fold plot every 100 us\n",
    "binW=edges[1] - edges[0] # us bin wdith (~150ns)\n",
    "i_t_mod=int(t_mod/binW) # the index at 100 us \n",
    "\n",
    "#remove data before scraping\n",
    "t_min=30 # us ;\n",
    "edges_filter=edges[edges>=t_min] #remove all times less than t_min\n",
    "ind_fil=np.nonzero(edges>=t_min)[0][0] # find the first index \n",
    "counts_filter=counts[ind_fil:] # slice for counts with the index\n",
    "N=int(np.sum(counts_filter))\n",
    "print(N, \"enties in\", len(counts), \"bins after filtering with t>=\",t_min, \"us\")"
   ]
  },
  {
   "cell_type": "code",
   "execution_count": 3,
   "metadata": {},
   "outputs": [],
   "source": [
    "import matplotlib.pyplot as plt\n",
    "x=edges_filter\n",
    "y=np.append(counts_filter, 0)\n",
    "plt.step(x=x, y=y, where=\"post\", color=\"g\")\n",
    "\n",
    "plt.xlim(0, t_mod*2) \n",
    "\n",
    "#log \n",
    "plt.ylim(0, y.max() * 1.1)\n",
    "\n",
    "\n",
    "plt.ylabel(\"Counts per \"+str(int(binW*1e3))+\" ns\", fontsize=18)\n",
    "plt.xlabel(r\"Time [$\\mathrm{\\mu}$s] modulo \"+str(t_mod)+\" $\\mathrm{\\mu}$s\", fontsize=18);\n",
    "plt.tight_layout()\n",
    "plt.savefig(\"fig/wiggle.png\", dpi=300)"
   ]
  },
  {
   "cell_type": "code",
   "execution_count": 4,
   "metadata": {},
   "outputs": [],
   "source": [
    "import sys, os, math\n",
    "sys.path.append(\"Blinding/\") # folder with Blinders and libBlinders.so\n",
    "from BlindersPy3 import Blinders\n",
    "from BlindersPy3 import FitType\n",
    "getBlinded = Blinders(FitType.Omega_a, \"EDM all day\") # will tell you that you are blinded"
   ]
  },
  {
   "cell_type": "markdown",
   "metadata": {},
   "source": [
    "Define blinded fit function $N(t)=Ne^{-t/\\tau}[1+A\\cos(\\omega_at+\\phi)]$,\n",
    "where  \n",
    "[0] $N$ is the overall normalisation  \n",
    "[1] $\\tau$ is the boosted muon lifetime $\\tau = \\gamma \\cdot \\tau_0 = 29.3\\cdot2.2=66.44 \\, \\mu$s  \n",
    "[2] $A$ is the asymmetry  \n",
    "[3] $\\omega_a$ is the anomalous precision frequency (blinded)  \n",
    "[4] $\\phi$ is the initial phase  "
   ]
  },
  {
   "cell_type": "code",
   "execution_count": 5,
   "metadata": {},
   "outputs": [],
   "source": [
    "def blinded_wiggle_function(x, *pars):\n",
    "    norm  = pars[0]\n",
    "    life  = pars[1]\n",
    "    asym  = pars[2]\n",
    "    R     = pars[3]\n",
    "    phi   = pars[4]\n",
    "    \n",
    "    time  = x[0]\n",
    "    omega = getBlinded.paramToFreq(R)\n",
    "    \n",
    "    return norm * math.exp(-time/life) * (1 + asym*math.cos(omega*time + phi))"
   ]
  },
  {
   "cell_type": "code",
   "execution_count": 6,
   "metadata": {},
   "outputs": [
    {
     "name": "stdout",
     "output_type": "stream",
     "text": [
      "Params: [1. 1. 1. 1. 1.]\n",
      "Errors: [           nan 1.94881770e+21 0.00000000e+00 0.00000000e+00\n",
      " 2.08696847e+24]\n",
      "Cov: [[-7.05505610e+46  1.36171790e+45 -1.10217526e+47 -1.73606311e+52\n",
      "   2.38389173e+47]\n",
      " [-4.25335683e+45  3.79789044e+42  8.50671366e+45  0.00000000e+00\n",
      "  -0.00000000e+00]\n",
      " [ 0.00000000e+00  2.42159285e+45  0.00000000e+00  3.56797431e+52\n",
      "  -1.08885935e+48]\n",
      " [-5.35196147e+52 -1.52680029e+50  7.13594862e+52  0.00000000e+00\n",
      "  -1.42718972e+53]\n",
      " [ 1.08885935e+48  2.27557603e+46 -2.17771870e+48  0.00000000e+00\n",
      "   4.35543739e+48]]\n"
     ]
    },
    {
     "name": "stderr",
     "output_type": "stream",
     "text": [
      "/Users/gleb/Library/Python/3.7/lib/python/site-packages/ipykernel_launcher.py:14: RuntimeWarning: invalid value encountered in sqrt\n",
      "  \n"
     ]
    }
   ],
   "source": [
    "from scipy import optimize, stats\n",
    "\n",
    "y_err = np.sqrt(y)\n",
    "# p0=(2.0e+05, 64.4, 0.5, 0.0, 0.0) # initial guess of the fit parameters\n",
    "\n",
    "p0=(1, 1, 1, 1, 1)\n",
    "\n",
    "#function, X, Y, [starting par]\n",
    "# Levenberg-Marquardt algorithm as implemented in MINPACK\n",
    "\n",
    "# add y-errors \n",
    "\n",
    "par, pcov = optimize.curve_fit(f=blinded_wiggle_function, xdata=x, ydata=y, p0=p0, absolute_sigma=False, method='lm')\n",
    "par_e = np.sqrt(np.diag(pcov))\n",
    "\n",
    "print(\"Params:\", par)\n",
    "print(\"Errors:\", par_e)\n",
    "print(\"Cov:\", pcov)"
   ]
  },
  {
   "cell_type": "code",
   "execution_count": null,
   "metadata": {},
   "outputs": [],
   "source": []
  }
 ],
 "metadata": {
  "kernelspec": {
   "display_name": "Python 3",
   "language": "python",
   "name": "python3"
  },
  "language_info": {
   "codemirror_mode": {
    "name": "ipython",
    "version": 3
   },
   "file_extension": ".py",
   "mimetype": "text/x-python",
   "name": "python",
   "nbconvert_exporter": "python",
   "pygments_lexer": "ipython3",
   "version": "3.7.4"
  }
 },
 "nbformat": 4,
 "nbformat_minor": 4
}
