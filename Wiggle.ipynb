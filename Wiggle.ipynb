{
 "cells": [
  {
   "cell_type": "markdown",
   "metadata": {},
   "source": [
    "# Blinded Wiggle plot (in pure Python!) "
   ]
  },
  {
   "cell_type": "code",
   "execution_count": 14,
   "metadata": {},
   "outputs": [],
   "source": [
    "import uproot # get this module by \"python3 -m pip install uproot\"\n",
    "import numpy as np\n",
    "from IPython.display import Latex\n",
    "file = uproot.open(\"DATA/Run1_4DS_ana.root\") # load the ROOT file \n",
    "hist=file[\"TrackSummary/FitResults/Times_gt_1800MeV\"] # load histogram\n",
    "hist_data = hist.numpy() # the histogram in the numpy format (bin edges and frequencies)\n",
    "counts, edges = hist_data[0], hist_data[1] # len(edges) = len(counts) + 1 "
   ]
  },
  {
   "cell_type": "markdown",
   "metadata": {},
   "source": [
    "### Set some constants and filter data on time "
   ]
  },
  {
   "cell_type": "code",
   "execution_count": 15,
   "metadata": {},
   "outputs": [
    {
     "name": "stdout",
     "output_type": "stream",
     "text": [
      "101968592 enties in 6000 bins\n",
      "60195844 enties in 5798 bins after filtering with t>= 30 μs\n",
      "45926580 enties in 603 bins after filtering with t<= 120 μs\n"
     ]
    }
   ],
   "source": [
    "N=int(np.sum(counts))\n",
    "print(N, \"enties in\", len(counts), \"bins\")\n",
    "\n",
    "t_mod = 100 # us; fold plot every 100 us\n",
    "binW=edges[1] - edges[0] # us; bin wdith (~150ns)\n",
    "i_t_mod=int(t_mod/binW) # the index at ~100 us \n",
    "\n",
    "#remove data before scraping and after large times \n",
    "t_min=30 # us ;\n",
    "edges_filter=edges[edges>=t_min] #remove all times less than t_min\n",
    "ind_fil=np.nonzero(edges>=t_min)[0][0] # find the first index \n",
    "counts_filter=counts[ind_fil:] # slice for counts with the index\n",
    "N=int(np.sum(counts_filter)) # count new data \n",
    "print(N, \"enties in\", len(counts_filter), \"bins after filtering with t>=\",t_min, \"μs\")\n",
    "\n",
    "t_max=120 # us \n",
    "edges_filter=edges_filter[edges_filter<=t_max] #remove all times greater than t_max\n",
    "ind_fil=np.nonzero(edges_filter<=t_max)[0][-1] # find the last index \n",
    "counts_filter=counts_filter[0:ind_fil] # slice for counts with the index\n",
    "N=int(np.sum(counts_filter)) # count new dat\n",
    "print(N, \"enties in\", len(counts_filter), \"bins after filtering with t<=\",t_max, \"μs\")\n",
    "\n",
    "#form array of bin centres\n",
    "binC=np.linspace(edges_filter[0]+binW/2, edges_filter[-1]-binW/2, len(counts_filter))"
   ]
  },
  {
   "cell_type": "markdown",
   "metadata": {},
   "source": [
    "### Blinding libs"
   ]
  },
  {
   "cell_type": "code",
   "execution_count": 16,
   "metadata": {},
   "outputs": [],
   "source": [
    "import sys, os\n",
    "sys.path.append(\"Blinding/\") # folder with Blinders and libBlinders.so\n",
    "from BlindersPy3 import Blinders\n",
    "from BlindersPy3 import FitType\n",
    "getBlinded = Blinders(FitType.Omega_a, \"EDM all day\") "
   ]
  },
  {
   "cell_type": "markdown",
   "metadata": {},
   "source": [
    "Define blinded fit function $N(t)=Ne^{-t/\\tau}[1+A\\cos(\\omega_at+\\phi)]$,\n",
    "where  \n",
    "[0] $N$ is the overall normalisation  \n",
    "[1] $\\tau$ is the boosted muon lifetime $\\tau = \\gamma \\cdot \\tau_0 = 29.3\\cdot2.2=66.44 \\, \\mu$s  \n",
    "[2] $A$ is the asymmetry  \n",
    "[3] $\\omega_a$ is the anomalous precision frequency (blinded)  \n",
    "[4] $\\phi$ is the initial phase  "
   ]
  },
  {
   "cell_type": "code",
   "execution_count": 17,
   "metadata": {},
   "outputs": [],
   "source": [
    "def blinded_wiggle_function(x, *pars):\n",
    "    norm  = pars[0]\n",
    "    life  = pars[1]\n",
    "    asym  = pars[2]\n",
    "    R     = pars[3]\n",
    "    phi   = pars[4]\n",
    "    \n",
    "    time  = x\n",
    "    omega = getBlinded.paramToFreq(R)\n",
    "    \n",
    "    return norm * np.exp(-time/life) * (1 + asym*np.cos(omega*time + phi))"
   ]
  },
  {
   "cell_type": "code",
   "execution_count": 27,
   "metadata": {},
   "outputs": [
    {
     "data": {
      "text/latex": [
       "Fit $\\frac{\\chi^2}{\\rm{DoF}}$=5.36"
      ],
      "text/plain": [
       "<IPython.core.display.Latex object>"
      ]
     },
     "execution_count": 27,
     "metadata": {},
     "output_type": "execute_result"
    }
   ],
   "source": [
    "from scipy import optimize, stats\n",
    "sys.path.append('CommonUtils/') # https://github.com/glukicov/EDMTracking/tree/master/CommonUtils\n",
    "import CommonUtils as cu\n",
    "\n",
    "y_err = np.sqrt(y) \n",
    "p0=(2.0e+05, 64.4, 0.4 ,0.0, 0.0) # starting pars \n",
    "\n",
    "#function, X, Y, [starting par]\n",
    "# Levenberg-Marquardt algorithm as implemented in MINPACK\n",
    "par, pcov = optimize.curve_fit(f=blinded_wiggle_function, xdata=x, ydata=y, sigma=y_err, p0=p0, absolute_sigma=False, method='lm')\n",
    "par_e = np.sqrt(np.diag(pcov))\n",
    "chi2_ndf=cu.chi2_ndf(x, y, y_err, blinded_wiggle_function, par)\n",
    "Latex( r\"Fit $\\frac{\\chi^2}{\\rm{DoF}}$=\"+str(round(chi2_ndf,2)) )\n"
   ]
  },
  {
   "cell_type": "code",
   "execution_count": 28,
   "metadata": {},
   "outputs": [
    {
     "data": {
      "image/png": "[encoded data removed]",
      "text/plain": [
       "<Figure size 432x288 with 1 Axes>"
      ]
     },
     "metadata": {
      "needs_background": "light"
     },
     "output_type": "display_data"
    }
   ],
   "source": [
    "\n",
    "fig, ax = plt.subplots()\n",
    "\n",
    "ax.step(x=x, y=y, where=\"post\", color=\"g\")\n",
    "ax.plot(x, blinded_wiggle_function( x, *par) , color=\"red\", label='Fit', linestyle=\":\")\n",
    "ax.set_xlim(0, t_mod*1.3)\n",
    "\n",
    "#log the y \n",
    "ax.set_ylim(20, 20e5)\n",
    "plt.yscale(\"log\")\n",
    "\n",
    "N_str=cu.sci_notation(N)\n",
    "cu.textL(ax, 0.28, 0.9, \"Run-1 (Quality Tracks > 1.8)N=\"+N_str, font_size=14)\n",
    "\n",
    "#axis labels and ticks\n",
    "plt.ylabel(\"Counts per \"+str(int(binW*1e3))+\" ns\", fontsize=15)\n",
    "plt.xlabel(r\"Time [$\\mathrm{\\mu}$s] (modulo \"+str(t_mod)+\" $\\mathrm{\\mu}$s)\", fontsize=15)\n",
    "\n",
    "\n",
    "#save  fig \n",
    "plt.tight_layout()\n",
    "plt.savefig(\"fig/wiggle.png\", dpi=300)"
   ]
  },
  {
   "cell_type": "code",
   "execution_count": null,
   "metadata": {},
   "outputs": [],
   "source": []
  },
  {
   "cell_type": "code",
   "execution_count": null,
   "metadata": {},
   "outputs": [],
   "source": []
  }
 ],
 "metadata": {
  "kernelspec": {
   "display_name": "Python 3",
   "language": "python",
   "name": "python3"
  },
  "language_info": {
   "codemirror_mode": {
    "name": "ipython",
    "version": 3
   },
   "file_extension": ".py",
   "mimetype": "text/x-python",
   "name": "python",
   "nbconvert_exporter": "python",
   "pygments_lexer": "ipython3",
   "version": "3.7.4"
  }
 },
 "nbformat": 4,
 "nbformat_minor": 4
}
